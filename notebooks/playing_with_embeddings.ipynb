{
 "cells": [
  {
   "cell_type": "markdown",
   "source": [
    "## Word Embeddings\n",
    "\n",
    "In this notebook, we will explore the use of word embeddings. Text similarity can also be done using cosine similarity of word embeddings. Word embeddings are a way of representing words as vectors and BERT can generate these embeddings. The issue I see is that many of the industries are sort of similar. IOT is similar to AI and so on.\n",
    "\n",
    "This notebook uses functions different to the `Embeddings()` class found in `src/data/tagging.py`, as this notebook was just meant for an exploration of the concept as a whole."
   ],
   "metadata": {
    "collapsed": false
   }
  },
  {
   "cell_type": "markdown",
   "source": [
    "### Cell 1 - Imports"
   ],
   "metadata": {
    "collapsed": false
   }
  },
  {
   "cell_type": "code",
   "execution_count": 1,
   "outputs": [],
   "source": [
    "import pandas as pd\n",
    "import numpy as np\n",
    "from sklearn.feature_extraction.text import TfidfVectorizer\n",
    "from sklearn.cluster import KMeans\n",
    "from sklearn.metrics import silhouette_score\n",
    "from sklearn.metrics.pairwise import cosine_similarity\n",
    "from transformers import AutoTokenizer, AutoModel\n",
    "import warnings\n",
    "import torch\n",
    "from tqdm import tqdm_notebook as tqdm\n",
    "warnings.filterwarnings('ignore')\n"
   ],
   "metadata": {
    "collapsed": false,
    "ExecuteTime": {
     "start_time": "2023-04-13T12:58:39.588872Z",
     "end_time": "2023-04-13T12:58:43.534866Z"
    }
   }
  },
  {
   "cell_type": "markdown",
   "source": [
    "### Cell 2 - Load Data"
   ],
   "metadata": {
    "collapsed": false
   }
  },
  {
   "cell_type": "code",
   "execution_count": null,
   "outputs": [],
   "source": [
    "industry_data = pd.read_csv(r'C:\\Users\\imran\\DataspellProjects\\WalidCase\\data\\processed\\industries_clean.csv', sep='\\t')\n",
    "startups = pd.read_csv(r'C:\\Users\\imran\\DataspellProjects\\WalidCase\\data\\processed/startup_dataset_clean_1560_range.csv')\n",
    "startups = startups.head(200)"
   ],
   "metadata": {
    "collapsed": false
   }
  },
  {
   "cell_type": "markdown",
   "source": [
    "### Cell 3 - Generate Embeddings\n",
    "\n",
    "We will use the `generate_embeddings()` function to generate the embeddings for the startups and industries. We will use the `bert-base-uncased` model and the `AutoTokenizer` and `AutoModel` classes from the `transformers` library. The `generate_embeddings()` function takes in the following parameters:\n",
    "\n",
    "- `texts`: The DataFrame containing the text to be embedded\n",
    "- `tokenizer`: The tokenizer to be used\n",
    "- `model`: The model to be used\n",
    "- `startup`: A boolean value indicating whether the text is from a startup or an industry\n",
    "- `pool`: The pooling method to be used. Can be either `max`, `avg` or `concat`"
   ],
   "metadata": {
    "collapsed": false
   }
  },
  {
   "cell_type": "code",
   "execution_count": 67,
   "outputs": [
    {
     "name": "stderr",
     "output_type": "stream",
     "text": [
      "Some weights of the model checkpoint at bert-base-uncased were not used when initializing BertModel: ['cls.predictions.transform.LayerNorm.bias', 'cls.predictions.decoder.weight', 'cls.predictions.transform.LayerNorm.weight', 'cls.seq_relationship.weight', 'cls.predictions.transform.dense.weight', 'cls.predictions.transform.dense.bias', 'cls.predictions.bias', 'cls.seq_relationship.bias']\n",
      "- This IS expected if you are initializing BertModel from the checkpoint of a model trained on another task or with another architecture (e.g. initializing a BertForSequenceClassification model from a BertForPreTraining model).\n",
      "- This IS NOT expected if you are initializing BertModel from the checkpoint of a model that you expect to be exactly identical (initializing a BertForSequenceClassification model from a BertForSequenceClassification model).\n"
     ]
    }
   ],
   "source": [
    "tokenizer = AutoTokenizer.from_pretrained('bert-base-uncased')\n",
    "model = AutoModel.from_pretrained('bert-base-uncased')\n",
    "\n",
    "\n",
    "def generate_embeddings(texts, tokenizer, model, startup=True, pool='max'):\n",
    "    embeddings_list = []\n",
    "    for i, row in tqdm(texts.iterrows()):\n",
    "        id = row['id']\n",
    "        if startup:\n",
    "            description = row['cb_description']\n",
    "        else:\n",
    "            description = row['keywords']\n",
    "        inputs = tokenizer.encode_plus(description, return_tensors=\"pt\", truncation=True, padding=\"max_length\", max_length=60)\n",
    "        outputs = model(**inputs)\n",
    "        last_hidden_states = outputs.last_hidden_state\n",
    "        if pool == 'max':\n",
    "            pooling = torch.max(last_hidden_states, dim=1).values\n",
    "        elif pool == 'avg':\n",
    "            pooling = torch.mean(last_hidden_states, dim=1)\n",
    "        elif pool == 'concat':\n",
    "            max_pooling = torch.max(last_hidden_states, dim=1).values\n",
    "            average_pooling = torch.mean(last_hidden_states, dim=1)\n",
    "            pooling = torch.cat((max_pooling, average_pooling), dim=1)\n",
    "        else:\n",
    "            raise ValueError('pool must be either max, avg or concat')\n",
    "\n",
    "        # Add the id and the embeddings (as a list) to the embeddings_list\n",
    "        embeddings_list.append({'id': id, 'embeddings': pooling.detach().numpy().tolist()})\n",
    "\n",
    "    # Create a DataFrame from the embeddings_list and merge it with the original DataFrame\n",
    "    embeddings_df = pd.DataFrame(embeddings_list)\n",
    "    merged_df = pd.merge(texts, embeddings_df, on='id', how='left')\n",
    "\n",
    "    return merged_df\n"
   ],
   "metadata": {
    "collapsed": false,
    "ExecuteTime": {
     "start_time": "2023-04-11T17:20:02.805616Z",
     "end_time": "2023-04-11T17:20:05.702274Z"
    }
   }
  },
  {
   "cell_type": "code",
   "execution_count": 68,
   "outputs": [
    {
     "data": {
      "text/plain": "0it [00:00, ?it/s]",
      "application/vnd.jupyter.widget-view+json": {
       "version_major": 2,
       "version_minor": 0,
       "model_id": "5a278d02c4c34ae58d07b72802f52986"
      }
     },
     "metadata": {},
     "output_type": "display_data"
    },
    {
     "data": {
      "text/plain": "0it [00:00, ?it/s]",
      "application/vnd.jupyter.widget-view+json": {
       "version_major": 2,
       "version_minor": 0,
       "model_id": "31f2de5737ca4e85a1f8671aa949da62"
      }
     },
     "metadata": {},
     "output_type": "display_data"
    }
   ],
   "source": [
    "industries_embeds = generate_embeddings(industry_data, tokenizer, model, startup=False, pool='concat')\n",
    "startups_embeds = generate_embeddings(startups, tokenizer, model, startup=True, pool='concat')"
   ],
   "metadata": {
    "collapsed": false,
    "ExecuteTime": {
     "start_time": "2023-04-11T17:20:06.747513Z",
     "end_time": "2023-04-11T17:21:16.211115Z"
    }
   }
  },
  {
   "cell_type": "code",
   "execution_count": 47,
   "outputs": [
    {
     "name": "stdout",
     "output_type": "stream",
     "text": [
      "Silhouette score: 0.0636466486209045\n"
     ]
    }
   ],
   "source": [
    "# # # # Cluster using the embeds # # # #\n",
    "from src.data.algorithms import Clustering\n",
    "\n",
    "#clustering = Clustering(data=startups_embeds, n_clusters=5)\n",
    "\n",
    "embeddings = np.array([embedding for embedding in startups_embeds['embeddings']]).squeeze()\n",
    "k = 5  # Replace this with your chosen number of clusters\n",
    "kmeans = KMeans(n_clusters=k, random_state=42)\n",
    "clusters = kmeans.fit_predict(embeddings)\n",
    "startups_embeds['cluster'] = clusters\n",
    "silhouette_avg = silhouette_score(embeddings, clusters)\n",
    "print(f\"Silhouette score: {silhouette_avg}\")\n",
    "\n"
   ],
   "metadata": {
    "collapsed": false,
    "ExecuteTime": {
     "start_time": "2023-04-11T14:53:34.226598Z",
     "end_time": "2023-04-11T14:53:35.073768Z"
    }
   }
  },
  {
   "cell_type": "code",
   "execution_count": 23,
   "outputs": [],
   "source": [
    "from sklearn.metrics.pairwise import cosine_similarity\n",
    "\n",
    "def assign_industry(startups, industries):\n",
    "    assigned_industries = []\n",
    "\n",
    "    for startup_embedding in startups['embeddings']:\n",
    "        startup_embedding = np.array(startup_embedding).flatten()\n",
    "\n",
    "        industry_embeddings = np.array([np.array(x).flatten() for x in industries['embeddings']])\n",
    "        similarities = cosine_similarity([startup_embedding], industry_embeddings)[0]\n",
    "        best_industry_index = np.argmax(similarities)\n",
    "        assigned_industries.append(industries.iloc[best_industry_index]['industry'])\n",
    "\n",
    "    return assigned_industries\n",
    "\n",
    "startups['assigned_industry'] = assign_industry(startups_embeds, industries_embeds)"
   ],
   "metadata": {
    "collapsed": false,
    "ExecuteTime": {
     "start_time": "2023-04-11T13:12:27.597532Z",
     "end_time": "2023-04-11T13:12:29.082773Z"
    }
   }
  },
  {
   "cell_type": "code",
   "execution_count": 69,
   "outputs": [
    {
     "data": {
      "text/plain": "       id                    name  \\\n0    1820                   0xKYC   \n1    3640            10X-Genomics   \n2    9594                 111Skin   \n3     473                 1stdibs   \n4    7956                   1v1Me   \n..    ...                     ...   \n195  4900     Aptatek-Biosciences   \n196  4702                   Aqdot   \n197  7814        Aquapak-Polymers   \n198  2884  Aquapharm-Biodiscovery   \n199  7495                Archemix   \n\n                                        cb_description        industry1  \\\n0    modular knowledge system identity credential m...             Web3   \n1    genomic create revolutionary dna sequence tech...         Genomics   \n2    commit positive luxury skincare push boundary ...          Fashion   \n3    internet company offer marketplace rare desira...  Creator Economy   \n4    application allow user play match favorite vid...  Creator Economy   \n..                                                 ...              ...   \n195  aptatek develop diagnosis monitor inborn disea...         Genomics   \n196  aqdot technology allow raw material efficient ...   Gut Microbiome   \n197  aquapak polymer developer polyvinyl alcohol re...        Longevity   \n198  aquapharm innovative drug discovery company fo...        Longevity   \n199  archemix biotechnology company engage discover...        Longevity   \n\n     score1         industry2  score2      industry3  score3  \n0     0.917              DeFi   0.912      InsurTech   0.909  \n1     0.922         Longevity   0.905  Generative AI   0.897  \n2     0.891  Circular Economy   0.891         Beauty   0.891  \n3     0.910            Retail   0.900        Fashion   0.899  \n4     0.899            Gaming   0.892      Metaverse   0.890  \n..      ...               ...     ...            ...     ...  \n195   0.928         Longevity   0.911        BioTech   0.901  \n196   0.911    Semiconductors   0.905           DeFi   0.905  \n197   0.897              DeFi   0.895    3D Printing   0.892  \n198   0.908    Gut Microbiome   0.907   Psychedelics   0.904  \n199   0.918          Genomics   0.909   Psychedelics   0.908  \n\n[200 rows x 9 columns]",
      "text/html": "<div>\n<style scoped>\n    .dataframe tbody tr th:only-of-type {\n        vertical-align: middle;\n    }\n\n    .dataframe tbody tr th {\n        vertical-align: top;\n    }\n\n    .dataframe thead th {\n        text-align: right;\n    }\n</style>\n<table border=\"1\" class=\"dataframe\">\n  <thead>\n    <tr style=\"text-align: right;\">\n      <th></th>\n      <th>id</th>\n      <th>name</th>\n      <th>cb_description</th>\n      <th>industry1</th>\n      <th>score1</th>\n      <th>industry2</th>\n      <th>score2</th>\n      <th>industry3</th>\n      <th>score3</th>\n    </tr>\n  </thead>\n  <tbody>\n    <tr>\n      <th>0</th>\n      <td>1820</td>\n      <td>0xKYC</td>\n      <td>modular knowledge system identity credential m...</td>\n      <td>Web3</td>\n      <td>0.917</td>\n      <td>DeFi</td>\n      <td>0.912</td>\n      <td>InsurTech</td>\n      <td>0.909</td>\n    </tr>\n    <tr>\n      <th>1</th>\n      <td>3640</td>\n      <td>10X-Genomics</td>\n      <td>genomic create revolutionary dna sequence tech...</td>\n      <td>Genomics</td>\n      <td>0.922</td>\n      <td>Longevity</td>\n      <td>0.905</td>\n      <td>Generative AI</td>\n      <td>0.897</td>\n    </tr>\n    <tr>\n      <th>2</th>\n      <td>9594</td>\n      <td>111Skin</td>\n      <td>commit positive luxury skincare push boundary ...</td>\n      <td>Fashion</td>\n      <td>0.891</td>\n      <td>Circular Economy</td>\n      <td>0.891</td>\n      <td>Beauty</td>\n      <td>0.891</td>\n    </tr>\n    <tr>\n      <th>3</th>\n      <td>473</td>\n      <td>1stdibs</td>\n      <td>internet company offer marketplace rare desira...</td>\n      <td>Creator Economy</td>\n      <td>0.910</td>\n      <td>Retail</td>\n      <td>0.900</td>\n      <td>Fashion</td>\n      <td>0.899</td>\n    </tr>\n    <tr>\n      <th>4</th>\n      <td>7956</td>\n      <td>1v1Me</td>\n      <td>application allow user play match favorite vid...</td>\n      <td>Creator Economy</td>\n      <td>0.899</td>\n      <td>Gaming</td>\n      <td>0.892</td>\n      <td>Metaverse</td>\n      <td>0.890</td>\n    </tr>\n    <tr>\n      <th>...</th>\n      <td>...</td>\n      <td>...</td>\n      <td>...</td>\n      <td>...</td>\n      <td>...</td>\n      <td>...</td>\n      <td>...</td>\n      <td>...</td>\n      <td>...</td>\n    </tr>\n    <tr>\n      <th>195</th>\n      <td>4900</td>\n      <td>Aptatek-Biosciences</td>\n      <td>aptatek develop diagnosis monitor inborn disea...</td>\n      <td>Genomics</td>\n      <td>0.928</td>\n      <td>Longevity</td>\n      <td>0.911</td>\n      <td>BioTech</td>\n      <td>0.901</td>\n    </tr>\n    <tr>\n      <th>196</th>\n      <td>4702</td>\n      <td>Aqdot</td>\n      <td>aqdot technology allow raw material efficient ...</td>\n      <td>Gut Microbiome</td>\n      <td>0.911</td>\n      <td>Semiconductors</td>\n      <td>0.905</td>\n      <td>DeFi</td>\n      <td>0.905</td>\n    </tr>\n    <tr>\n      <th>197</th>\n      <td>7814</td>\n      <td>Aquapak-Polymers</td>\n      <td>aquapak polymer developer polyvinyl alcohol re...</td>\n      <td>Longevity</td>\n      <td>0.897</td>\n      <td>DeFi</td>\n      <td>0.895</td>\n      <td>3D Printing</td>\n      <td>0.892</td>\n    </tr>\n    <tr>\n      <th>198</th>\n      <td>2884</td>\n      <td>Aquapharm-Biodiscovery</td>\n      <td>aquapharm innovative drug discovery company fo...</td>\n      <td>Longevity</td>\n      <td>0.908</td>\n      <td>Gut Microbiome</td>\n      <td>0.907</td>\n      <td>Psychedelics</td>\n      <td>0.904</td>\n    </tr>\n    <tr>\n      <th>199</th>\n      <td>7495</td>\n      <td>Archemix</td>\n      <td>archemix biotechnology company engage discover...</td>\n      <td>Longevity</td>\n      <td>0.918</td>\n      <td>Genomics</td>\n      <td>0.909</td>\n      <td>Psychedelics</td>\n      <td>0.908</td>\n    </tr>\n  </tbody>\n</table>\n<p>200 rows × 9 columns</p>\n</div>"
     },
     "execution_count": 69,
     "metadata": {},
     "output_type": "execute_result"
    }
   ],
   "source": [
    "# TOP 3\n",
    "\n",
    "def assign_industry_v2(startups, industries):\n",
    "    assigned_industries = []\n",
    "\n",
    "    for startup_embedding in startups['embeddings']:\n",
    "        startup_embedding = np.array(startup_embedding).flatten()\n",
    "\n",
    "        industry_embeddings = np.array([np.array(x).flatten() for x in industries['embeddings']])\n",
    "        similarities = cosine_similarity([startup_embedding], industry_embeddings)[0]\n",
    "\n",
    "        # Get the top 3 industries and their scores\n",
    "        top_3_industry_indices = np.argsort(similarities)[-3:][::-1]\n",
    "        top_3_industries = [{'industry': industries.iloc[index]['industry'], 'score': similarities[index]} for index in top_3_industry_indices]\n",
    "\n",
    "        assigned_industries.append(top_3_industries)\n",
    "\n",
    "    return assigned_industries\n",
    "\n",
    "assigned_industries = assign_industry_v2(startups_embeds, industries_embeds)\n",
    "\n",
    "startups['industry1'] = [x[0]['industry'] for x in assigned_industries]\n",
    "startups['score1'] = [x[0]['score'].round(3) for x in assigned_industries]\n",
    "startups['industry2'] = [x[1]['industry'] for x in assigned_industries]\n",
    "startups['score2'] = [x[1]['score'].round(3) for x in assigned_industries]\n",
    "startups['industry3'] = [x[2]['industry'] for x in assigned_industries]\n",
    "startups['score3'] = [x[2]['score'].round(3) for x in assigned_industries]\n",
    "\n",
    "startups\n",
    "\n"
   ],
   "metadata": {
    "collapsed": false,
    "ExecuteTime": {
     "start_time": "2023-04-11T17:21:26.424125Z",
     "end_time": "2023-04-11T17:21:32.275379Z"
    }
   }
  },
  {
   "cell_type": "code",
   "execution_count": 60,
   "outputs": [
    {
     "data": {
      "text/plain": "       id                    name  \\\n0    1820                   0xKYC   \n1    3640            10X-Genomics   \n2    9594                 111Skin   \n3     473                 1stdibs   \n4    7956                   1v1Me   \n..    ...                     ...   \n195  4900     Aptatek-Biosciences   \n196  4702                   Aqdot   \n197  7814        Aquapak-Polymers   \n198  2884  Aquapharm-Biodiscovery   \n199  7495                Archemix   \n\n                                        cb_description         industry1  \\\n0    modular knowledge system identity credential m...              Web3   \n1    genomic create revolutionary dna sequence tech...          Genomics   \n2    commit positive luxury skincare push boundary ...  Circular Economy   \n3    internet company offer marketplace rare desira...            Gaming   \n4    application allow user play match favorite vid...              Web3   \n..                                                 ...               ...   \n195  aptatek develop diagnosis monitor inborn disea...          Genomics   \n196  aqdot technology allow raw material efficient ...            AgTech   \n197  aquapak polymer developer polyvinyl alcohol re...              Nano   \n198  aquapharm innovative drug discovery company fo...          Genomics   \n199  archemix biotechnology company engage discover...          Genomics   \n\n     score1        industry2  score2               industry3  score3  \n0     0.975      Health Tech   0.973                 RegTech   0.968  \n1     0.971        Deep Tech   0.957         Computer Vision   0.956  \n2     0.962       Automotive   0.961  Climate Tech/CleanTech   0.961  \n3     0.965  Creator Economy   0.964                PropTech   0.963  \n4     0.967        Metaverse   0.962         Sharing Economy   0.961  \n..      ...              ...     ...                     ...     ...  \n195   0.978      Health Tech   0.976                 MedTech   0.971  \n196   0.956        GreenTech   0.952          Energy Storage   0.951  \n197   0.960        Deep Tech   0.958               Materials   0.958  \n198   0.942        Longevity   0.939                  AgTech   0.938  \n199   0.938      Health Tech   0.934                  AgTech   0.933  \n\n[200 rows x 9 columns]",
      "text/html": "<div>\n<style scoped>\n    .dataframe tbody tr th:only-of-type {\n        vertical-align: middle;\n    }\n\n    .dataframe tbody tr th {\n        vertical-align: top;\n    }\n\n    .dataframe thead th {\n        text-align: right;\n    }\n</style>\n<table border=\"1\" class=\"dataframe\">\n  <thead>\n    <tr style=\"text-align: right;\">\n      <th></th>\n      <th>id</th>\n      <th>name</th>\n      <th>cb_description</th>\n      <th>industry1</th>\n      <th>score1</th>\n      <th>industry2</th>\n      <th>score2</th>\n      <th>industry3</th>\n      <th>score3</th>\n    </tr>\n  </thead>\n  <tbody>\n    <tr>\n      <th>0</th>\n      <td>1820</td>\n      <td>0xKYC</td>\n      <td>modular knowledge system identity credential m...</td>\n      <td>Web3</td>\n      <td>0.975</td>\n      <td>Health Tech</td>\n      <td>0.973</td>\n      <td>RegTech</td>\n      <td>0.968</td>\n    </tr>\n    <tr>\n      <th>1</th>\n      <td>3640</td>\n      <td>10X-Genomics</td>\n      <td>genomic create revolutionary dna sequence tech...</td>\n      <td>Genomics</td>\n      <td>0.971</td>\n      <td>Deep Tech</td>\n      <td>0.957</td>\n      <td>Computer Vision</td>\n      <td>0.956</td>\n    </tr>\n    <tr>\n      <th>2</th>\n      <td>9594</td>\n      <td>111Skin</td>\n      <td>commit positive luxury skincare push boundary ...</td>\n      <td>Circular Economy</td>\n      <td>0.962</td>\n      <td>Automotive</td>\n      <td>0.961</td>\n      <td>Climate Tech/CleanTech</td>\n      <td>0.961</td>\n    </tr>\n    <tr>\n      <th>3</th>\n      <td>473</td>\n      <td>1stdibs</td>\n      <td>internet company offer marketplace rare desira...</td>\n      <td>Gaming</td>\n      <td>0.965</td>\n      <td>Creator Economy</td>\n      <td>0.964</td>\n      <td>PropTech</td>\n      <td>0.963</td>\n    </tr>\n    <tr>\n      <th>4</th>\n      <td>7956</td>\n      <td>1v1Me</td>\n      <td>application allow user play match favorite vid...</td>\n      <td>Web3</td>\n      <td>0.967</td>\n      <td>Metaverse</td>\n      <td>0.962</td>\n      <td>Sharing Economy</td>\n      <td>0.961</td>\n    </tr>\n    <tr>\n      <th>...</th>\n      <td>...</td>\n      <td>...</td>\n      <td>...</td>\n      <td>...</td>\n      <td>...</td>\n      <td>...</td>\n      <td>...</td>\n      <td>...</td>\n      <td>...</td>\n    </tr>\n    <tr>\n      <th>195</th>\n      <td>4900</td>\n      <td>Aptatek-Biosciences</td>\n      <td>aptatek develop diagnosis monitor inborn disea...</td>\n      <td>Genomics</td>\n      <td>0.978</td>\n      <td>Health Tech</td>\n      <td>0.976</td>\n      <td>MedTech</td>\n      <td>0.971</td>\n    </tr>\n    <tr>\n      <th>196</th>\n      <td>4702</td>\n      <td>Aqdot</td>\n      <td>aqdot technology allow raw material efficient ...</td>\n      <td>AgTech</td>\n      <td>0.956</td>\n      <td>GreenTech</td>\n      <td>0.952</td>\n      <td>Energy Storage</td>\n      <td>0.951</td>\n    </tr>\n    <tr>\n      <th>197</th>\n      <td>7814</td>\n      <td>Aquapak-Polymers</td>\n      <td>aquapak polymer developer polyvinyl alcohol re...</td>\n      <td>Nano</td>\n      <td>0.960</td>\n      <td>Deep Tech</td>\n      <td>0.958</td>\n      <td>Materials</td>\n      <td>0.958</td>\n    </tr>\n    <tr>\n      <th>198</th>\n      <td>2884</td>\n      <td>Aquapharm-Biodiscovery</td>\n      <td>aquapharm innovative drug discovery company fo...</td>\n      <td>Genomics</td>\n      <td>0.942</td>\n      <td>Longevity</td>\n      <td>0.939</td>\n      <td>AgTech</td>\n      <td>0.938</td>\n    </tr>\n    <tr>\n      <th>199</th>\n      <td>7495</td>\n      <td>Archemix</td>\n      <td>archemix biotechnology company engage discover...</td>\n      <td>Genomics</td>\n      <td>0.938</td>\n      <td>Health Tech</td>\n      <td>0.934</td>\n      <td>AgTech</td>\n      <td>0.933</td>\n    </tr>\n  </tbody>\n</table>\n<p>200 rows × 9 columns</p>\n</div>"
     },
     "execution_count": 60,
     "metadata": {},
     "output_type": "execute_result"
    }
   ],
   "source": [
    "startups\n",
    "#tartups.to_csv(r'C:\\Users\\imran\\DataspellProjects\\WalidCase\\data\\tagged/tagged_after_keyword_embedding_200startups.csv')"
   ],
   "metadata": {
    "collapsed": false,
    "ExecuteTime": {
     "start_time": "2023-04-11T16:44:44.141292Z",
     "end_time": "2023-04-11T16:44:44.164940Z"
    }
   }
  },
  {
   "cell_type": "code",
   "execution_count": 15,
   "outputs": [],
   "source": [
    "startups.to_csv(r'C:\\Users\\imran\\DataspellProjects\\WalidCase\\data\\processed\\startups_with_industries_keyword_embeds.csv', index=False)"
   ],
   "metadata": {
    "collapsed": false,
    "ExecuteTime": {
     "start_time": "2023-04-11T13:02:20.261562Z",
     "end_time": "2023-04-11T13:02:20.274260Z"
    }
   }
  },
  {
   "cell_type": "markdown",
   "source": [
    "## Results\n",
    "\n",
    "The results are terrible. Maybe I should use LLMs to generate keywords associated with each industry and then use those keywords to cluster the industries. I will try that in the next notebook. This method would be much much much more expensive though if using GPT3. Both computationally and financially.\n",
    "\n",
    "I tried using the openai-gpt model on huggingface but the results were not so good. Instead I just used chatgpt, which is not a feasible long term solution but it works for now at least."
   ],
   "metadata": {
    "collapsed": false
   }
  },
  {
   "cell_type": "code",
   "execution_count": 10,
   "outputs": [],
   "source": [
    "warnings.filterwarnings('ignore')\n",
    "\n",
    "industry_data = pd.read_csv(r'C:\\Users\\imran\\DataspellProjects\\WalidCase\\data\\processed\\industries_clean.csv', sep='\\t')\n",
    "startups = pd.read_csv(r'C:\\Users\\imran\\DataspellProjects\\WalidCase\\data\\processed/startup_dataset_clean_1560_range.csv')\n",
    "startups = startups.head(200)\n",
    "\n",
    "class Embedding:\n",
    "\n",
    "    def __init__(self, startups, industries, llm='bert'):\n",
    "        self.startups = startups\n",
    "        self.industries = industries\n",
    "        self.llm = {\n",
    "            'bert': 'bert-base-uncased',\n",
    "            'gpt2': 'gpt2',\n",
    "            'gpt': 'openai-gpt',\n",
    "            'roberta': 'roberta-base',\n",
    "            'distilbert': 'distilbert-base-uncased',\n",
    "            'xlnet': 'xlnet-base-uncased',\n",
    "            'electra': 'google/electra-base-discriminator',\n",
    "            'industry_classifier': 'sampathkethineedi/industry-classification'\n",
    "        }\n",
    "        self.model = AutoModel.from_pretrained(self.llm[llm])\n",
    "        self.tokenizer = AutoTokenizer.from_pretrained(self.llm[llm])\n",
    "\n",
    "    def generate_embeddings(self, startup=True, pool='max'):\n",
    "        texts = self.startups if startup else self.industries\n",
    "        embeddings_list = []\n",
    "        for i, row in tqdm(texts.iterrows()):\n",
    "            id = row['id']\n",
    "            if startup:\n",
    "                description = row['cb_description']\n",
    "            else:\n",
    "                description = row['keywords']\n",
    "            inputs = self.tokenizer.encode_plus(description, return_tensors=\"pt\", truncation=True, padding=\"max_length\", max_length=60)\n",
    "            outputs = self.model(**inputs)\n",
    "            last_hidden_states = outputs.last_hidden_state\n",
    "\n",
    "            if pool == 'max':\n",
    "                pooling = torch.max(last_hidden_states, dim=1).values\n",
    "            elif pool == 'avg':\n",
    "                pooling = torch.mean(last_hidden_states, dim=1)\n",
    "            elif pool == 'concat':\n",
    "                max_pooling = torch.max(last_hidden_states, dim=1).values\n",
    "                average_pooling = torch.mean(last_hidden_states, dim=1)\n",
    "                pooling = torch.cat((max_pooling, average_pooling), dim=1).detach().numpy()\n",
    "            else:\n",
    "                raise ValueError('pool must be either max, avg or concat')\n",
    "\n",
    "            embeddings_list.append({'id': id, 'embeddings': pooling.detach().numpy().tolist()})\n",
    "\n",
    "        embeddings_df = pd.DataFrame(embeddings_list)\n",
    "        merged_df = pd.merge(texts, embeddings_df, on='id', how='left')\n",
    "\n",
    "        if startup:\n",
    "            self.startups = merged_df\n",
    "        else:\n",
    "            self.industries = merged_df\n",
    "\n",
    "        return merged_df\n",
    "\n",
    "    def assign_industry(self, num_labels=3):\n",
    "        self.assigned_industries = []\n",
    "        for startup_embedding in self.startups['embeddings']:\n",
    "            startup_embedding = np.array(startup_embedding).flatten()\n",
    "            industry_embeddings = np.array([np.array(x).flatten() for x in self.industries['embeddings']])\n",
    "\n",
    "            similarities = cosine_similarity([startup_embedding], industry_embeddings)[0]\n",
    "            top_industry_indices = np.argsort(similarities)[-num_labels:][::-1]\n",
    "            top_industries = [{'industry': self.industries.iloc[index]['industry'], 'score': similarities[index]} for index in top_industry_indices]\n",
    "\n",
    "            self.assigned_industries.append(top_industries)\n",
    "\n",
    "        return self.assigned_industries\n",
    "\n",
    "    def update_dataframe(self):\n",
    "        max_industries = max([len(x) for x in self.assigned_industries])\n",
    "\n",
    "        for i in range(max_industries):\n",
    "            self.startups[f'industry{i + 1}'] = [x[i]['industry'] if i < len(x) else None for x in self.assigned_industries]\n",
    "            self.startups[f'score{i + 1}'] = [x[i]['score'].round(3) if i < len(x) else None for x in self.assigned_industries]\n",
    "\n",
    "        self.startups.drop(columns=['embeddings'], inplace=True)\n",
    "        self.industries.drop(columns=['embeddings'], inplace=True)\n",
    "\n",
    "        return self.startups\n"
   ],
   "metadata": {
    "collapsed": false,
    "ExecuteTime": {
     "start_time": "2023-04-11T20:19:45.226611Z",
     "end_time": "2023-04-11T20:19:45.254543Z"
    }
   }
  },
  {
   "cell_type": "code",
   "execution_count": 11,
   "outputs": [
    {
     "name": "stderr",
     "output_type": "stream",
     "text": [
      "Some weights of the model checkpoint at sampathkethineedi/industry-classification were not used when initializing DistilBertModel: ['classifier.bias', 'classifier.weight', 'pre_classifier.weight', 'pre_classifier.bias']\n",
      "- This IS expected if you are initializing DistilBertModel from the checkpoint of a model trained on another task or with another architecture (e.g. initializing a BertForSequenceClassification model from a BertForPreTraining model).\n",
      "- This IS NOT expected if you are initializing DistilBertModel from the checkpoint of a model that you expect to be exactly identical (initializing a BertForSequenceClassification model from a BertForSequenceClassification model).\n"
     ]
    },
    {
     "data": {
      "text/plain": "0it [00:00, ?it/s]",
      "application/vnd.jupyter.widget-view+json": {
       "version_major": 2,
       "version_minor": 0,
       "model_id": "de077dc0cf8a47f88227c7b8d0dc0db8"
      }
     },
     "metadata": {},
     "output_type": "display_data"
    },
    {
     "data": {
      "text/plain": "0it [00:00, ?it/s]",
      "application/vnd.jupyter.widget-view+json": {
       "version_major": 2,
       "version_minor": 0,
       "model_id": "9c67383c6c64409d8faa90771e36beec"
      }
     },
     "metadata": {},
     "output_type": "display_data"
    },
    {
     "data": {
      "text/plain": "       id                    name  \\\n0    1820                   0xKYC   \n1    3640            10X-Genomics   \n2    9594                 111Skin   \n3     473                 1stdibs   \n4    7956                   1v1Me   \n..    ...                     ...   \n195  4900     Aptatek-Biosciences   \n196  4702                   Aqdot   \n197  7814        Aquapak-Polymers   \n198  2884  Aquapharm-Biodiscovery   \n199  7495                Archemix   \n\n                                        cb_description        industry1  \\\n0    modular knowledge system identity credential m...        Analytics   \n1    genomic create revolutionary dna sequence tech...    Life Sciences   \n2    commit positive luxury skincare push boundary ...           Beauty   \n3    internet company offer marketplace rare desira...          Fashion   \n4    application allow user play match favorite vid...  Social Networks   \n..                                                 ...              ...   \n195  aptatek develop diagnosis monitor inborn disea...          MedTech   \n196  aqdot technology allow raw material efficient ...      3D Printing   \n197  aquapak polymer developer polyvinyl alcohol re...        Chemicals   \n198  aquapharm innovative drug discovery company fo...    Life Sciences   \n199  archemix biotechnology company engage discover...     Psychedelics   \n\n     score1        industry2  score2        industry3  score3  \n0     0.888        Platforms   0.834       Blockchain   0.827  \n1     0.763        Deep Tech   0.756         Genomics   0.724  \n2     0.910        Nutrition   0.849   Gut Microbiome   0.563  \n3     0.776  Creator Economy   0.599           Travel   0.585  \n4     0.683        Metaverse   0.658  Creator Economy   0.641  \n..      ...              ...     ...              ...     ...  \n195   0.814       FamilyTech   0.738      Health Tech   0.733  \n196   0.851        Materials   0.838        Chemicals   0.797  \n197   0.779        Materials   0.759      3D Printing   0.743  \n198   0.895          BioTech   0.868        Longevity   0.833  \n199   0.748   Gut Microbiome   0.738        Longevity   0.717  \n\n[200 rows x 9 columns]",
      "text/html": "<div>\n<style scoped>\n    .dataframe tbody tr th:only-of-type {\n        vertical-align: middle;\n    }\n\n    .dataframe tbody tr th {\n        vertical-align: top;\n    }\n\n    .dataframe thead th {\n        text-align: right;\n    }\n</style>\n<table border=\"1\" class=\"dataframe\">\n  <thead>\n    <tr style=\"text-align: right;\">\n      <th></th>\n      <th>id</th>\n      <th>name</th>\n      <th>cb_description</th>\n      <th>industry1</th>\n      <th>score1</th>\n      <th>industry2</th>\n      <th>score2</th>\n      <th>industry3</th>\n      <th>score3</th>\n    </tr>\n  </thead>\n  <tbody>\n    <tr>\n      <th>0</th>\n      <td>1820</td>\n      <td>0xKYC</td>\n      <td>modular knowledge system identity credential m...</td>\n      <td>Analytics</td>\n      <td>0.888</td>\n      <td>Platforms</td>\n      <td>0.834</td>\n      <td>Blockchain</td>\n      <td>0.827</td>\n    </tr>\n    <tr>\n      <th>1</th>\n      <td>3640</td>\n      <td>10X-Genomics</td>\n      <td>genomic create revolutionary dna sequence tech...</td>\n      <td>Life Sciences</td>\n      <td>0.763</td>\n      <td>Deep Tech</td>\n      <td>0.756</td>\n      <td>Genomics</td>\n      <td>0.724</td>\n    </tr>\n    <tr>\n      <th>2</th>\n      <td>9594</td>\n      <td>111Skin</td>\n      <td>commit positive luxury skincare push boundary ...</td>\n      <td>Beauty</td>\n      <td>0.910</td>\n      <td>Nutrition</td>\n      <td>0.849</td>\n      <td>Gut Microbiome</td>\n      <td>0.563</td>\n    </tr>\n    <tr>\n      <th>3</th>\n      <td>473</td>\n      <td>1stdibs</td>\n      <td>internet company offer marketplace rare desira...</td>\n      <td>Fashion</td>\n      <td>0.776</td>\n      <td>Creator Economy</td>\n      <td>0.599</td>\n      <td>Travel</td>\n      <td>0.585</td>\n    </tr>\n    <tr>\n      <th>4</th>\n      <td>7956</td>\n      <td>1v1Me</td>\n      <td>application allow user play match favorite vid...</td>\n      <td>Social Networks</td>\n      <td>0.683</td>\n      <td>Metaverse</td>\n      <td>0.658</td>\n      <td>Creator Economy</td>\n      <td>0.641</td>\n    </tr>\n    <tr>\n      <th>...</th>\n      <td>...</td>\n      <td>...</td>\n      <td>...</td>\n      <td>...</td>\n      <td>...</td>\n      <td>...</td>\n      <td>...</td>\n      <td>...</td>\n      <td>...</td>\n    </tr>\n    <tr>\n      <th>195</th>\n      <td>4900</td>\n      <td>Aptatek-Biosciences</td>\n      <td>aptatek develop diagnosis monitor inborn disea...</td>\n      <td>MedTech</td>\n      <td>0.814</td>\n      <td>FamilyTech</td>\n      <td>0.738</td>\n      <td>Health Tech</td>\n      <td>0.733</td>\n    </tr>\n    <tr>\n      <th>196</th>\n      <td>4702</td>\n      <td>Aqdot</td>\n      <td>aqdot technology allow raw material efficient ...</td>\n      <td>3D Printing</td>\n      <td>0.851</td>\n      <td>Materials</td>\n      <td>0.838</td>\n      <td>Chemicals</td>\n      <td>0.797</td>\n    </tr>\n    <tr>\n      <th>197</th>\n      <td>7814</td>\n      <td>Aquapak-Polymers</td>\n      <td>aquapak polymer developer polyvinyl alcohol re...</td>\n      <td>Chemicals</td>\n      <td>0.779</td>\n      <td>Materials</td>\n      <td>0.759</td>\n      <td>3D Printing</td>\n      <td>0.743</td>\n    </tr>\n    <tr>\n      <th>198</th>\n      <td>2884</td>\n      <td>Aquapharm-Biodiscovery</td>\n      <td>aquapharm innovative drug discovery company fo...</td>\n      <td>Life Sciences</td>\n      <td>0.895</td>\n      <td>BioTech</td>\n      <td>0.868</td>\n      <td>Longevity</td>\n      <td>0.833</td>\n    </tr>\n    <tr>\n      <th>199</th>\n      <td>7495</td>\n      <td>Archemix</td>\n      <td>archemix biotechnology company engage discover...</td>\n      <td>Psychedelics</td>\n      <td>0.748</td>\n      <td>Gut Microbiome</td>\n      <td>0.738</td>\n      <td>Longevity</td>\n      <td>0.717</td>\n    </tr>\n  </tbody>\n</table>\n<p>200 rows × 9 columns</p>\n</div>"
     },
     "execution_count": 11,
     "metadata": {},
     "output_type": "execute_result"
    }
   ],
   "source": [
    "embedding_class = Embedding(startups, industry_data, llm='industry_classifier')\n",
    "embedding_class.generate_embeddings(startup=True, pool='max')\n",
    "embedding_class.generate_embeddings(startup=False, pool='max')\n",
    "embedding_class.assign_industry()\n",
    "df = embedding_class.update_dataframe()\n",
    "\n",
    "df"
   ],
   "metadata": {
    "collapsed": false,
    "ExecuteTime": {
     "start_time": "2023-04-11T20:19:47.498033Z",
     "end_time": "2023-04-11T20:20:39.070951Z"
    }
   }
  },
  {
   "cell_type": "code",
   "execution_count": 4,
   "outputs": [],
   "source": [
    "from sentence_transformers import SentenceTransformer"
   ],
   "metadata": {
    "collapsed": false,
    "ExecuteTime": {
     "start_time": "2023-04-11T21:08:33.942055Z",
     "end_time": "2023-04-11T21:08:34.036604Z"
    }
   }
  },
  {
   "cell_type": "markdown",
   "source": [],
   "metadata": {
    "collapsed": false
   }
  },
  {
   "cell_type": "code",
   "execution_count": 89,
   "outputs": [
    {
     "data": {
      "text/plain": "       id                    name  \\\n0    1820                   0xKYC   \n1    3640            10X-Genomics   \n2    9594                 111Skin   \n3     473                 1stdibs   \n4    7956                   1v1Me   \n..    ...                     ...   \n195  4900     Aptatek-Biosciences   \n196  4702                   Aqdot   \n197  7814        Aquapak-Polymers   \n198  2884  Aquapharm-Biodiscovery   \n199  7495                Archemix   \n\n                                        cb_description        industry1  \\\n0    modular knowledge system identity credential m...             Web3   \n1    genomic create revolutionary dna sequence tech...         Genomics   \n2    commit positive luxury skincare push boundary ...           Beauty   \n3    internet company offer marketplace rare desira...  Creator Economy   \n4    application allow user play match favorite vid...  Creator Economy   \n..                                                 ...              ...   \n195  aptatek develop diagnosis monitor inborn disea...         Genomics   \n196  aqdot technology allow raw material efficient ...   Gut Microbiome   \n197  aquapak polymer developer polyvinyl alcohol re...        Longevity   \n198  aquapharm innovative drug discovery company fo...   Gut Microbiome   \n199  archemix biotechnology company engage discover...        Longevity   \n\n     score1         industry2  score2       industry3  score3  \\\n0     0.924              DeFi   0.921      Blockchain   0.920   \n1     0.928         Longevity   0.916   Generative AI   0.913   \n2     0.911  Circular Economy   0.907  Connected Life   0.906   \n3     0.918            Retail   0.913         Fashion   0.912   \n4     0.906            Gaming   0.905         Esports   0.902   \n..      ...               ...     ...             ...     ...   \n195   0.937         Longevity   0.924         BioTech   0.917   \n196   0.929         Longevity   0.926            DeFi   0.924   \n197   0.913              DeFi   0.911    Psychedelics   0.908   \n198   0.926         Longevity   0.925            DeFi   0.922   \n199   0.934          Genomics   0.925    Psychedelics   0.922   \n\n                                            embeddings  \n0    [[0.6992632746696472, 0.9152489900588989, 1.11...  \n1    [[1.0245652198791504, 0.848852276802063, 1.081...  \n2    [[1.5274184942245483, 0.44603708386421204, 0.8...  \n3    [[1.1128085851669312, 0.945479154586792, 0.915...  \n4    [[0.579791784286499, 0.3094499409198761, 0.988...  \n..                                                 ...  \n195  [[0.6032254099845886, 0.7531402707099915, 1.11...  \n196  [[1.2192195653915405, 1.3865875005722046, 1.19...  \n197  [[1.034882664680481, 0.9140047430992126, 1.133...  \n198  [[0.8383574485778809, 0.8880403637886047, 1.24...  \n199  [[1.1158026456832886, 1.5827255249023438, 1.51...  \n\n[200 rows x 10 columns]",
      "text/html": "<div>\n<style scoped>\n    .dataframe tbody tr th:only-of-type {\n        vertical-align: middle;\n    }\n\n    .dataframe tbody tr th {\n        vertical-align: top;\n    }\n\n    .dataframe thead th {\n        text-align: right;\n    }\n</style>\n<table border=\"1\" class=\"dataframe\">\n  <thead>\n    <tr style=\"text-align: right;\">\n      <th></th>\n      <th>id</th>\n      <th>name</th>\n      <th>cb_description</th>\n      <th>industry1</th>\n      <th>score1</th>\n      <th>industry2</th>\n      <th>score2</th>\n      <th>industry3</th>\n      <th>score3</th>\n      <th>embeddings</th>\n    </tr>\n  </thead>\n  <tbody>\n    <tr>\n      <th>0</th>\n      <td>1820</td>\n      <td>0xKYC</td>\n      <td>modular knowledge system identity credential m...</td>\n      <td>Web3</td>\n      <td>0.924</td>\n      <td>DeFi</td>\n      <td>0.921</td>\n      <td>Blockchain</td>\n      <td>0.920</td>\n      <td>[[0.6992632746696472, 0.9152489900588989, 1.11...</td>\n    </tr>\n    <tr>\n      <th>1</th>\n      <td>3640</td>\n      <td>10X-Genomics</td>\n      <td>genomic create revolutionary dna sequence tech...</td>\n      <td>Genomics</td>\n      <td>0.928</td>\n      <td>Longevity</td>\n      <td>0.916</td>\n      <td>Generative AI</td>\n      <td>0.913</td>\n      <td>[[1.0245652198791504, 0.848852276802063, 1.081...</td>\n    </tr>\n    <tr>\n      <th>2</th>\n      <td>9594</td>\n      <td>111Skin</td>\n      <td>commit positive luxury skincare push boundary ...</td>\n      <td>Beauty</td>\n      <td>0.911</td>\n      <td>Circular Economy</td>\n      <td>0.907</td>\n      <td>Connected Life</td>\n      <td>0.906</td>\n      <td>[[1.5274184942245483, 0.44603708386421204, 0.8...</td>\n    </tr>\n    <tr>\n      <th>3</th>\n      <td>473</td>\n      <td>1stdibs</td>\n      <td>internet company offer marketplace rare desira...</td>\n      <td>Creator Economy</td>\n      <td>0.918</td>\n      <td>Retail</td>\n      <td>0.913</td>\n      <td>Fashion</td>\n      <td>0.912</td>\n      <td>[[1.1128085851669312, 0.945479154586792, 0.915...</td>\n    </tr>\n    <tr>\n      <th>4</th>\n      <td>7956</td>\n      <td>1v1Me</td>\n      <td>application allow user play match favorite vid...</td>\n      <td>Creator Economy</td>\n      <td>0.906</td>\n      <td>Gaming</td>\n      <td>0.905</td>\n      <td>Esports</td>\n      <td>0.902</td>\n      <td>[[0.579791784286499, 0.3094499409198761, 0.988...</td>\n    </tr>\n    <tr>\n      <th>...</th>\n      <td>...</td>\n      <td>...</td>\n      <td>...</td>\n      <td>...</td>\n      <td>...</td>\n      <td>...</td>\n      <td>...</td>\n      <td>...</td>\n      <td>...</td>\n      <td>...</td>\n    </tr>\n    <tr>\n      <th>195</th>\n      <td>4900</td>\n      <td>Aptatek-Biosciences</td>\n      <td>aptatek develop diagnosis monitor inborn disea...</td>\n      <td>Genomics</td>\n      <td>0.937</td>\n      <td>Longevity</td>\n      <td>0.924</td>\n      <td>BioTech</td>\n      <td>0.917</td>\n      <td>[[0.6032254099845886, 0.7531402707099915, 1.11...</td>\n    </tr>\n    <tr>\n      <th>196</th>\n      <td>4702</td>\n      <td>Aqdot</td>\n      <td>aqdot technology allow raw material efficient ...</td>\n      <td>Gut Microbiome</td>\n      <td>0.929</td>\n      <td>Longevity</td>\n      <td>0.926</td>\n      <td>DeFi</td>\n      <td>0.924</td>\n      <td>[[1.2192195653915405, 1.3865875005722046, 1.19...</td>\n    </tr>\n    <tr>\n      <th>197</th>\n      <td>7814</td>\n      <td>Aquapak-Polymers</td>\n      <td>aquapak polymer developer polyvinyl alcohol re...</td>\n      <td>Longevity</td>\n      <td>0.913</td>\n      <td>DeFi</td>\n      <td>0.911</td>\n      <td>Psychedelics</td>\n      <td>0.908</td>\n      <td>[[1.034882664680481, 0.9140047430992126, 1.133...</td>\n    </tr>\n    <tr>\n      <th>198</th>\n      <td>2884</td>\n      <td>Aquapharm-Biodiscovery</td>\n      <td>aquapharm innovative drug discovery company fo...</td>\n      <td>Gut Microbiome</td>\n      <td>0.926</td>\n      <td>Longevity</td>\n      <td>0.925</td>\n      <td>DeFi</td>\n      <td>0.922</td>\n      <td>[[0.8383574485778809, 0.8880403637886047, 1.24...</td>\n    </tr>\n    <tr>\n      <th>199</th>\n      <td>7495</td>\n      <td>Archemix</td>\n      <td>archemix biotechnology company engage discover...</td>\n      <td>Longevity</td>\n      <td>0.934</td>\n      <td>Genomics</td>\n      <td>0.925</td>\n      <td>Psychedelics</td>\n      <td>0.922</td>\n      <td>[[1.1158026456832886, 1.5827255249023438, 1.51...</td>\n    </tr>\n  </tbody>\n</table>\n<p>200 rows × 10 columns</p>\n</div>"
     },
     "execution_count": 89,
     "metadata": {},
     "output_type": "execute_result"
    }
   ],
   "source": [
    "import pandas as pd\n",
    "import numpy as np\n",
    "from sklearn.cluster import KMeans\n",
    "from sklearn.metrics import silhouette_score\n",
    "from sklearn.decomposition import PCA\n",
    "import matplotlib.pyplot as plt\n",
    "\n",
    "# Assuming you have a DataFrame called industries with a 'keywords' column\n",
    "industry_keywords = industry_data['keywords']\n",
    "\n",
    "# Generate BERT embeddings for the keywords\n",
    "model = SentenceTransformer('bert-base-nli-mean-tokens')\n",
    "industry_embeddings = model.encode(industry_keywords)\n",
    "\n",
    "# Determine the optimal number of clusters using silhouette scores\n",
    "silhouette_scores = []\n",
    "max_clusters = 10\n",
    "for n_clusters in range(2, max_clusters + 1):\n",
    "    kmeans = KMeans(n_clusters=n_clusters, random_state=0)\n",
    "    cluster_labels = kmeans.fit_predict(industry_embeddings)\n",
    "    silhouette_avg = silhouette_score(industry_embeddings, cluster_labels)\n",
    "    silhouette_scores.append(silhouette_avg)\n",
    "\n",
    "optimal_clusters = np.argmax(silhouette_scores) + 2\n",
    "\n",
    "# Perform clustering using the optimal number of clusters\n",
    "kmeans = KMeans(n_clusters=optimal_clusters, random_state=0)\n",
    "clusters = kmeans.fit_predict(industry_embeddings)\n",
    "\n",
    "# Add cluster labels to the industries DataFrame\n",
    "industry_data['cluster'] = clusters\n",
    "\n",
    "# Visualize the clusters using PCA\n",
    "pca = PCA(n_components=2)\n",
    "reduced_embeddings = pca.fit_transform(industry_embeddings)\n",
    "\n",
    "plt.scatter(reduced_embeddings[:, 0], reduced_embeddings[:, 1], c=clusters, cmap='viridis')\n",
    "plt.show()"
   ],
   "metadata": {
    "collapsed": false,
    "ExecuteTime": {
     "start_time": "2023-04-11T18:10:57.917022Z",
     "end_time": "2023-04-11T18:10:57.959844Z"
    }
   }
  }
 ],
 "metadata": {
  "kernelspec": {
   "name": "myenv",
   "language": "python",
   "display_name": "python 3.10 sentence transform"
  },
  "language_info": {
   "codemirror_mode": {
    "name": "ipython",
    "version": 2
   },
   "file_extension": ".py",
   "mimetype": "text/x-python",
   "name": "python",
   "nbconvert_exporter": "python",
   "pygments_lexer": "ipython2",
   "version": "2.7.6"
  }
 },
 "nbformat": 4,
 "nbformat_minor": 0
}
