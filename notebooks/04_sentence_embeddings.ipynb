{
 "cells": [
  {
   "cell_type": "markdown",
   "source": [
    "# Explanation\n",
    "\n",
    "This is the notebook that generates embeddings using sentence transformers. The architecture of the transformers are similar but these models give better semantic context given a sentence rather than word for word embedding followed by pooling like BERT.\n",
    "\n",
    "\n",
    "### Cell 1\n",
    "The cell below is a copy of the `Embedding()` class you can find on `src/data/tagging.py` module. You can import this module by calling ```from src.data.tagging import Embedding``` and then use the class as shown in cells 2-6"
   ],
   "metadata": {
    "collapsed": false
   }
  },
  {
   "cell_type": "code",
   "execution_count": 58,
   "outputs": [],
   "source": [
    "import pandas as pd\n",
    "import numpy as np\n",
    "from transformers import AutoModel, AutoTokenizer, AutoModelForSequenceClassification\n",
    "from sklearn.metrics.pairwise import cosine_similarity\n",
    "import warnings\n",
    "from tqdm import tqdm_notebook as tqdm\n",
    "from sentence_transformers import SentenceTransformer\n",
    "import torch\n",
    "\n",
    "\n",
    "class Embedding:\n",
    "    \"\"\"\n",
    "    A class to generate embeddings for startups and industries using specified language models and pooling methods.\n",
    "    \"\"\"\n",
    "\n",
    "    def __init__(self, startups, industries, llm='bert', pool='max', sentence_transformer=False, sent='all-MiniLM-L6-v2'):\n",
    "\n",
    "        \"\"\"\n",
    "        Initializes the Embedding class with specified language models and pooling methods.\n",
    "\n",
    "        :param startups: DataFrame containing startup data with 'id' and 'cb_description' columns\n",
    "        :param industries: DataFrame containing industry data with 'id' and 'keywords' columns\n",
    "        :param llm: string, the language model to use for generating embeddings, default is 'bert'\n",
    "        :param pool: string, the pooling method to use for generating embeddings, default is 'max'\n",
    "        :param sentence_transformer: bool, whether to use a sentence transformer model, default is False\n",
    "        \"\"\"\n",
    "\n",
    "        self.startups = startups\n",
    "        self.industries = industries\n",
    "        self.sentence_transformer = sentence_transformer\n",
    "        self.pool = pool\n",
    "        self.llm = {\n",
    "            'bert': 'bert-base-uncased',\n",
    "            'gpt2': 'gpt2',\n",
    "            'gpt': 'openai-gpt',\n",
    "            'roberta': 'roberta-base',\n",
    "            'distilbert': 'distilbert-base-uncased',\n",
    "            'xlnet': 'xlnet-base-uncased',\n",
    "            'electra': 'google/electra-base-discriminator',\n",
    "            'industry_classifier': 'sampathkethineedi/industry-classification'\n",
    "        }\n",
    "        if not sentence_transformer:\n",
    "            self.model = AutoModelForSequenceClassification.from_pretrained(self.llm[llm])\n",
    "            self.tokenizer = AutoTokenizer.from_pretrained(self.llm[llm])\n",
    "        else:\n",
    "            self.model = SentenceTransformer(f'{sent}')\n",
    "\n",
    "\n",
    "    def generate_embeddings(self, startup=True):\n",
    "        \"\"\"\n",
    "        Generates embeddings for startups or industries using the specified language model and pooling method.\n",
    "\n",
    "        :param startup: bool, if True, generates embeddings for startups, if False, generates embeddings for industries\n",
    "        :return: DataFrame with generated embeddings merged with the original input DataFrame\n",
    "        \"\"\"\n",
    "        texts = self.startups if startup else self.industries\n",
    "        embeddings_list = []\n",
    "\n",
    "        for i, row in tqdm(texts.iterrows()):\n",
    "            id = row['id']\n",
    "            if startup:\n",
    "                description = row['cb_description']\n",
    "            else:\n",
    "                description = row['keywords']\n",
    "            if self.sentence_transformer:\n",
    "                embeddings = self.model.encode(description)\n",
    "            else:\n",
    "                inputs = self.tokenizer.encode_plus(description, return_tensors=\"pt\", truncation=True, padding=\"max_length\", max_length=60)\n",
    "                outputs = self.model(**inputs)\n",
    "                last_hidden_states = outputs.last_hidden_state\n",
    "                embeddings = self.pooling(last_hidden_states)\n",
    "\n",
    "            embeddings_list.append({'id': id, 'embeddings': embeddings.tolist()})\n",
    "\n",
    "        embeddings_df = pd.DataFrame(embeddings_list)\n",
    "        merged_df = pd.merge(texts, embeddings_df, on='id', how='left')\n",
    "\n",
    "        if startup:\n",
    "            self.startups = merged_df\n",
    "        else:\n",
    "            self.industries = merged_df\n",
    "\n",
    "        return merged_df\n",
    "\n",
    "\n",
    "    def assign_industry(self, num_labels=3):\n",
    "        \"\"\"\n",
    "        Assigns top industries to startups based on their cosine similarity to the industry embeddings.\n",
    "\n",
    "        :param num_labels: int, the number of top industries to assign to each startup, default is 3\n",
    "        :return: list of lists containing dictionaries with assigned industries and their similarity scores\n",
    "        \"\"\"\n",
    "        self.assigned_industries = []\n",
    "        for startup_embedding in tqdm(self.startups['embeddings']):\n",
    "            startup_embedding = np.array(startup_embedding).flatten()\n",
    "            industry_embeddings = np.array([np.array(x).flatten() for x in self.industries['embeddings']])\n",
    "\n",
    "            similarities = cosine_similarity([startup_embedding], industry_embeddings)[0]\n",
    "            top_industry_indices = np.argsort(similarities)[-num_labels:][::-1]\n",
    "            top_industries = [{'industry': self.industries.iloc[index]['industry'], 'score': similarities[index]} for index in top_industry_indices]\n",
    "\n",
    "            self.assigned_industries.append(top_industries)\n",
    "\n",
    "        return self.assigned_industries\n",
    "\n",
    "    def pooling(self, last_hidden_states):\n",
    "        \"\"\"\n",
    "        Applies the specified pooling method to the given last hidden states tensor.\n",
    "\n",
    "        :param last_hidden_states: tensor, the last hidden states from the language model\n",
    "        :return: NumPy array of pooled embeddings\n",
    "        \"\"\"\n",
    "        if self.pool == 'max':\n",
    "            self.pooled_embeds = torch.max(last_hidden_states, dim=1).values\n",
    "        elif self.pool == 'avg':\n",
    "            self.pooled_embeds = torch.mean(last_hidden_states, dim=1)\n",
    "        elif self.pool == 'concat':\n",
    "            max_pooling = torch.max(last_hidden_states, dim=1).values\n",
    "            average_pooling = torch.mean(last_hidden_states, dim=1)\n",
    "            self.pooled_embeds = torch.cat((max_pooling, average_pooling), dim=1)\n",
    "        else:\n",
    "            raise ValueError('pool must be either max, avg or concat')\n",
    "        return self.pooled_embeds.detach().numpy()\n",
    "\n",
    "    def update_dataframe(self):\n",
    "        \"\"\"\n",
    "        Updates the startup and industry DataFrames with assigned industries and their similarity scores.\n",
    "\n",
    "        :return: DataFrame with updated startups data\n",
    "        \"\"\"\n",
    "        max_industries = max([len(x) for x in self.assigned_industries])\n",
    "\n",
    "        for i in range(max_industries):\n",
    "            self.startups[f'industry{i + 1}'] = [x[i]['industry'] if i < len(x) else None for x in self.assigned_industries]\n",
    "            self.startups[f'score{i + 1}'] = [x[i]['score'].round(3) if i < len(x) else None for x in self.assigned_industries]\n",
    "\n",
    "        self.startups.drop(columns=['embeddings'], inplace=True)\n",
    "        self.industries.drop(columns=['embeddings'], inplace=True)\n",
    "\n",
    "        return self.startups\n"
   ],
   "metadata": {
    "collapsed": false,
    "ExecuteTime": {
     "start_time": "2023-05-08T14:08:26.120779Z",
     "end_time": "2023-05-08T14:08:26.137104Z"
    }
   }
  },
  {
   "cell_type": "markdown",
   "source": [
    "### Cell 2\n",
    "We load the data in a separate cell so that we can change the datasets adhoc."
   ],
   "metadata": {
    "collapsed": false
   }
  },
  {
   "cell_type": "code",
   "execution_count": 76,
   "outputs": [
    {
     "data": {
      "text/plain": "    id                industry  \\\n0    0             Procurement   \n1    1               GreenTech   \n2    2                 Esports   \n3    3       Quantum Computing   \n4    4           Manufacturing   \n..  ..                     ...   \n93  93                Big Data   \n94  94          Connected Home   \n95  95  Network Infrastructure   \n96  96         Food & Beverage   \n97  97         Data Management   \n\n                                             keywords  \n0   purchasing, sourcing, supplier, contract, supp...  \n1   renewable energy, solar, wind, biofuel, geothe...  \n2   gaming, competition, professional, tournament,...  \n3   qubit, superposition, entanglement, quantum al...  \n4   production, assembly, factory, automation, mac...  \n..                                                ...  \n93  data processing, analytics, data mining, stora...  \n94  smart home, IoT, home automation, security, en...  \n95  internet backbone, data transmission, routers,...  \n96  food industry, restaurant, food production, fo...  \n97  data governance, data quality, data integratio...  \n\n[98 rows x 3 columns]",
      "text/html": "<div>\n<style scoped>\n    .dataframe tbody tr th:only-of-type {\n        vertical-align: middle;\n    }\n\n    .dataframe tbody tr th {\n        vertical-align: top;\n    }\n\n    .dataframe thead th {\n        text-align: right;\n    }\n</style>\n<table border=\"1\" class=\"dataframe\">\n  <thead>\n    <tr style=\"text-align: right;\">\n      <th></th>\n      <th>id</th>\n      <th>industry</th>\n      <th>keywords</th>\n    </tr>\n  </thead>\n  <tbody>\n    <tr>\n      <th>0</th>\n      <td>0</td>\n      <td>Procurement</td>\n      <td>purchasing, sourcing, supplier, contract, supp...</td>\n    </tr>\n    <tr>\n      <th>1</th>\n      <td>1</td>\n      <td>GreenTech</td>\n      <td>renewable energy, solar, wind, biofuel, geothe...</td>\n    </tr>\n    <tr>\n      <th>2</th>\n      <td>2</td>\n      <td>Esports</td>\n      <td>gaming, competition, professional, tournament,...</td>\n    </tr>\n    <tr>\n      <th>3</th>\n      <td>3</td>\n      <td>Quantum Computing</td>\n      <td>qubit, superposition, entanglement, quantum al...</td>\n    </tr>\n    <tr>\n      <th>4</th>\n      <td>4</td>\n      <td>Manufacturing</td>\n      <td>production, assembly, factory, automation, mac...</td>\n    </tr>\n    <tr>\n      <th>...</th>\n      <td>...</td>\n      <td>...</td>\n      <td>...</td>\n    </tr>\n    <tr>\n      <th>93</th>\n      <td>93</td>\n      <td>Big Data</td>\n      <td>data processing, analytics, data mining, stora...</td>\n    </tr>\n    <tr>\n      <th>94</th>\n      <td>94</td>\n      <td>Connected Home</td>\n      <td>smart home, IoT, home automation, security, en...</td>\n    </tr>\n    <tr>\n      <th>95</th>\n      <td>95</td>\n      <td>Network Infrastructure</td>\n      <td>internet backbone, data transmission, routers,...</td>\n    </tr>\n    <tr>\n      <th>96</th>\n      <td>96</td>\n      <td>Food &amp; Beverage</td>\n      <td>food industry, restaurant, food production, fo...</td>\n    </tr>\n    <tr>\n      <th>97</th>\n      <td>97</td>\n      <td>Data Management</td>\n      <td>data governance, data quality, data integratio...</td>\n    </tr>\n  </tbody>\n</table>\n<p>98 rows × 3 columns</p>\n</div>"
     },
     "execution_count": 76,
     "metadata": {},
     "output_type": "execute_result"
    }
   ],
   "source": [
    "warnings.filterwarnings('ignore')\n",
    "\n",
    "#v1\n",
    "#industry_data = pd.read_csv(r'C:\\Users\\imran\\DataspellProjects\\WalidCase\\data\\processed\\industry_dataset_clean.csv', sep='\\t')\n",
    "\n",
    "#v1.2\n",
    "\n",
    "industry_data = pd.read_csv(r'C:\\Users\\imran\\DataspellProjects\\WalidCase\\data\\processed\\industry_dataset_clean_some_deleted.csv', sep='\\t')\n",
    "\n",
    "#v2\n",
    "#industry_data = pd.read_csv(r'C:\\Users\\imran\\DataspellProjects\\WalidCase\\data\\processed\\GPT4_generated_keywords.csv')\n",
    "\n",
    "#v2.2\n",
    "# keep only rows where deleted is 0\n",
    "#industry_data = industry_data[industry_data['delete'] == 0]\n",
    "\n",
    "industry_data.insert(0, 'id', industry_data.index)\n",
    "startups = pd.read_csv(r'C:\\Users\\imran\\DataspellProjects\\WalidCase\\data\\processed\\clustered/3_clusters_nouns_adjectives_only.csv')\n",
    "#with open(r'C:\\Users\\imran\\DataspellProjects\\WalidCase\\data\\processed/full_startups.csv', 'r', encoding='utf-8', errors='ignore') as f:\n",
    "#    startups = pd.read_csv(f)\n",
    "industry_data"
   ],
   "metadata": {
    "collapsed": false,
    "ExecuteTime": {
     "start_time": "2023-05-08T14:30:37.507627Z",
     "end_time": "2023-05-08T14:30:37.586344Z"
    }
   }
  },
  {
   "cell_type": "code",
   "execution_count": 69,
   "outputs": [
    {
     "data": {
      "text/plain": "                            name  \\\n0                   InterResolve   \n1                      GladCloud   \n2                        21GRAMS   \n3                         Geltor   \n4                       21st.BIO   \n5                  24SevenOffice   \n6                       Jiffy.ai   \n7                        Gemfire   \n8                   Jobandtalent   \n9                          Joost   \n10                      3TEMP-AB   \n11                       4Subsea   \n12                A3P-Biomedical   \n13                  AAC-Microtec   \n14                      Just-Eat   \n15                      JustPark   \n16  Absolicon-Solar-Concentrator   \n17                       Tracsis   \n18                     Episode-1   \n19   Acadia-Pharmaceuticals-Inc.   \n20                 Genius-Sports   \n21                        Accedo   \n22                    Accelerace   \n23                      Acconeer   \n24                   Common-Room   \n25                    Accumulate   \n26                      Get-Heli   \n27              Acerta-Analytics   \n28               Activity-Stream   \n29                    CruiseWise   \n\n                                       cb_description  id  \n0   insurer, insurance, payment, compensation, agency   0  \n1   platform, brand, large, asset, merchant, solut...   1  \n2           postal, document, print, postage, mailing   2  \n3   biodesign, nature, fermentation, biology, protein   3  \n4              bioproduction, molecule, bioindustrial   4  \n5                 web, ajax, file, integration, webex   5  \n6   digital, automate, integrate, robot, algorithm...   6  \n7   planar, optical, innovative, company, operatio...   7  \n8   labor, worker, office, employment, staff, unem...   8  \n9   platform, tool, livestation, server, screen, p...   9  \n10                               coffee, drip, brewer  10  \n11  platform, digital, engineering, asset, product...  11  \n12                         prostate, genetic, protein  12  \n13  architecture, virtual, satellite, space, power...  13  \n14  vision, critical, quality, success, significan...  14  \n15  peace, office, space, parking, car, hospital, ...  15  \n16  concentrator, electricity, desalination, solar...  16  \n17  information, service, product, provision, tech...  17  \n18  entrepreneur, business, industry, investment, ...  18  \n19  indication, product, pimavanserin, commerciali...  19  \n20      sport, federation, official, sporting, league  20  \n21  platform, range, distribution, high, multiple,...  21  \n22  entrepreneur, company, partnership, fintech, i...  22  \n23  team, major, skilled, sensor, device, technolo...  23  \n24  team, contribution, skill, order, high, action...  24  \n25  merchant, voucher, solution, barcode, ticket, ...  25  \n26  broker, marketplace, margin, customer, charter...  26  \n27  control, rework, production, machine, product,...  27  \n28  business, system, opportunitie, organization, ...  28  \n29  industry, ship, time, cruise, accident, bookin...  29  ",
      "text/html": "<div>\n<style scoped>\n    .dataframe tbody tr th:only-of-type {\n        vertical-align: middle;\n    }\n\n    .dataframe tbody tr th {\n        vertical-align: top;\n    }\n\n    .dataframe thead th {\n        text-align: right;\n    }\n</style>\n<table border=\"1\" class=\"dataframe\">\n  <thead>\n    <tr style=\"text-align: right;\">\n      <th></th>\n      <th>name</th>\n      <th>cb_description</th>\n      <th>id</th>\n    </tr>\n  </thead>\n  <tbody>\n    <tr>\n      <th>0</th>\n      <td>InterResolve</td>\n      <td>insurer, insurance, payment, compensation, agency</td>\n      <td>0</td>\n    </tr>\n    <tr>\n      <th>1</th>\n      <td>GladCloud</td>\n      <td>platform, brand, large, asset, merchant, solut...</td>\n      <td>1</td>\n    </tr>\n    <tr>\n      <th>2</th>\n      <td>21GRAMS</td>\n      <td>postal, document, print, postage, mailing</td>\n      <td>2</td>\n    </tr>\n    <tr>\n      <th>3</th>\n      <td>Geltor</td>\n      <td>biodesign, nature, fermentation, biology, protein</td>\n      <td>3</td>\n    </tr>\n    <tr>\n      <th>4</th>\n      <td>21st.BIO</td>\n      <td>bioproduction, molecule, bioindustrial</td>\n      <td>4</td>\n    </tr>\n    <tr>\n      <th>5</th>\n      <td>24SevenOffice</td>\n      <td>web, ajax, file, integration, webex</td>\n      <td>5</td>\n    </tr>\n    <tr>\n      <th>6</th>\n      <td>Jiffy.ai</td>\n      <td>digital, automate, integrate, robot, algorithm...</td>\n      <td>6</td>\n    </tr>\n    <tr>\n      <th>7</th>\n      <td>Gemfire</td>\n      <td>planar, optical, innovative, company, operatio...</td>\n      <td>7</td>\n    </tr>\n    <tr>\n      <th>8</th>\n      <td>Jobandtalent</td>\n      <td>labor, worker, office, employment, staff, unem...</td>\n      <td>8</td>\n    </tr>\n    <tr>\n      <th>9</th>\n      <td>Joost</td>\n      <td>platform, tool, livestation, server, screen, p...</td>\n      <td>9</td>\n    </tr>\n    <tr>\n      <th>10</th>\n      <td>3TEMP-AB</td>\n      <td>coffee, drip, brewer</td>\n      <td>10</td>\n    </tr>\n    <tr>\n      <th>11</th>\n      <td>4Subsea</td>\n      <td>platform, digital, engineering, asset, product...</td>\n      <td>11</td>\n    </tr>\n    <tr>\n      <th>12</th>\n      <td>A3P-Biomedical</td>\n      <td>prostate, genetic, protein</td>\n      <td>12</td>\n    </tr>\n    <tr>\n      <th>13</th>\n      <td>AAC-Microtec</td>\n      <td>architecture, virtual, satellite, space, power...</td>\n      <td>13</td>\n    </tr>\n    <tr>\n      <th>14</th>\n      <td>Just-Eat</td>\n      <td>vision, critical, quality, success, significan...</td>\n      <td>14</td>\n    </tr>\n    <tr>\n      <th>15</th>\n      <td>JustPark</td>\n      <td>peace, office, space, parking, car, hospital, ...</td>\n      <td>15</td>\n    </tr>\n    <tr>\n      <th>16</th>\n      <td>Absolicon-Solar-Concentrator</td>\n      <td>concentrator, electricity, desalination, solar...</td>\n      <td>16</td>\n    </tr>\n    <tr>\n      <th>17</th>\n      <td>Tracsis</td>\n      <td>information, service, product, provision, tech...</td>\n      <td>17</td>\n    </tr>\n    <tr>\n      <th>18</th>\n      <td>Episode-1</td>\n      <td>entrepreneur, business, industry, investment, ...</td>\n      <td>18</td>\n    </tr>\n    <tr>\n      <th>19</th>\n      <td>Acadia-Pharmaceuticals-Inc.</td>\n      <td>indication, product, pimavanserin, commerciali...</td>\n      <td>19</td>\n    </tr>\n    <tr>\n      <th>20</th>\n      <td>Genius-Sports</td>\n      <td>sport, federation, official, sporting, league</td>\n      <td>20</td>\n    </tr>\n    <tr>\n      <th>21</th>\n      <td>Accedo</td>\n      <td>platform, range, distribution, high, multiple,...</td>\n      <td>21</td>\n    </tr>\n    <tr>\n      <th>22</th>\n      <td>Accelerace</td>\n      <td>entrepreneur, company, partnership, fintech, i...</td>\n      <td>22</td>\n    </tr>\n    <tr>\n      <th>23</th>\n      <td>Acconeer</td>\n      <td>team, major, skilled, sensor, device, technolo...</td>\n      <td>23</td>\n    </tr>\n    <tr>\n      <th>24</th>\n      <td>Common-Room</td>\n      <td>team, contribution, skill, order, high, action...</td>\n      <td>24</td>\n    </tr>\n    <tr>\n      <th>25</th>\n      <td>Accumulate</td>\n      <td>merchant, voucher, solution, barcode, ticket, ...</td>\n      <td>25</td>\n    </tr>\n    <tr>\n      <th>26</th>\n      <td>Get-Heli</td>\n      <td>broker, marketplace, margin, customer, charter...</td>\n      <td>26</td>\n    </tr>\n    <tr>\n      <th>27</th>\n      <td>Acerta-Analytics</td>\n      <td>control, rework, production, machine, product,...</td>\n      <td>27</td>\n    </tr>\n    <tr>\n      <th>28</th>\n      <td>Activity-Stream</td>\n      <td>business, system, opportunitie, organization, ...</td>\n      <td>28</td>\n    </tr>\n    <tr>\n      <th>29</th>\n      <td>CruiseWise</td>\n      <td>industry, ship, time, cruise, accident, bookin...</td>\n      <td>29</td>\n    </tr>\n  </tbody>\n</table>\n</div>"
     },
     "execution_count": 69,
     "metadata": {},
     "output_type": "execute_result"
    }
   ],
   "source": [
    "startups"
   ],
   "metadata": {
    "collapsed": false,
    "ExecuteTime": {
     "start_time": "2023-05-08T14:26:12.045919Z",
     "end_time": "2023-05-08T14:26:12.068628Z"
    }
   }
  },
  {
   "cell_type": "code",
   "execution_count": 25,
   "outputs": [],
   "source": [
    "# only keep 'id','name', 'top_matched_cluster_keywords'\n",
    "#startups = startups[['name', 'top_matched_cluster_keywords']]\n",
    "startups.insert(0, 'id', startups.index)\n",
    "\n",
    "#startups.rename(columns={'top_matched_cluster_keywords': 'cb_description'}, inplace=True)\n"
   ],
   "metadata": {
    "collapsed": false,
    "ExecuteTime": {
     "start_time": "2023-05-08T12:04:00.065712Z",
     "end_time": "2023-05-08T12:04:00.080574Z"
    }
   }
  },
  {
   "cell_type": "code",
   "execution_count": 5,
   "outputs": [
    {
     "name": "stdout",
     "output_type": "stream",
     "text": [
      "      id                industry  \\\n",
      "0      0                Telecoms   \n",
      "1      1                  Mobile   \n",
      "2      2          Communications   \n",
      "3      3  Network Infrastructure   \n",
      "4      4             5G Networks   \n",
      "..   ...                     ...   \n",
      "113  113             Video/Audio   \n",
      "114  114                Genomics   \n",
      "115  115               Longevity   \n",
      "116  116          Gut Microbiome   \n",
      "117  117           Life Sciences   \n",
      "\n",
      "                                              keywords  \n",
      "0    carrier services, satellite communication, fix...  \n",
      "1    mobile applications, mobile devices, mobile op...  \n",
      "2    real-time communication, chat applications, vi...  \n",
      "3    content delivery network, network function vir...  \n",
      "4    5G radio access network, millimeter wave, 5G s...  \n",
      "..                                                 ...  \n",
      "113  media production, video platforms, audio engin...  \n",
      "114  functional genomics, gene expression, epigenom...  \n",
      "115  aging biology, lifespan extension, rejuvenatio...  \n",
      "116  intestinal microbiota, intestinal ecology, gut...  \n",
      "117  drug discovery, therapeutics, biotechnology, p...  \n",
      "\n",
      "[118 rows x 3 columns]\n"
     ]
    }
   ],
   "source": [
    "print(industry_data)"
   ],
   "metadata": {
    "collapsed": false,
    "ExecuteTime": {
     "start_time": "2023-05-08T11:57:49.090239Z",
     "end_time": "2023-05-08T11:57:49.104240Z"
    }
   }
  },
  {
   "cell_type": "code",
   "execution_count": 30,
   "outputs": [],
   "source": [
    "#mask = startups['cb_description'].apply(lambda x: len(x.split()) > 20)\n",
    "#startups = startups[mask]"
   ],
   "metadata": {
    "collapsed": false,
    "ExecuteTime": {
     "start_time": "2023-05-07T21:51:11.838229Z",
     "end_time": "2023-05-07T21:51:11.932995Z"
    }
   }
  },
  {
   "cell_type": "markdown",
   "source": [
    "### Cell 3\n",
    "This is where the magic happens. We create an instance of the Embedding class and pass the dataframes as arguments. Embeddings can be generated using one of 2 methods:\n",
    "1. General transformers (BERT, GPT2, etc.)\n",
    "    - If using a general transformer, you need to specify the `llm` argument. The `llm` argument is a dictionary that maps the name of the transformer to the name of the model in the HuggingFace library. The default value is `bert-base-uncased`. You can find the list of models [here](https://huggingface.co/models), or refer to the `llm` dictionary in the Embedding class. You can also specify the pooling method using the `pool` argument. The default value is `max`. The available options are `max`, `avg` and `concat`, which is a mix of both the max and average.\n",
    "2. Sentence transformers (SBERT)\n",
    "    - If using a sentence transformer, all you need to do is set `sentence_transformer=True`, and the class logic will handle the rest."
   ],
   "metadata": {
    "collapsed": false
   }
  },
  {
   "cell_type": "code",
   "execution_count": 77,
   "outputs": [],
   "source": [
    "embeddings = Embedding(startups, industry_data, sentence_transformer=True, sent='sentence-transformers/all-MiniLM-L6-v2')"
   ],
   "metadata": {
    "collapsed": false,
    "ExecuteTime": {
     "start_time": "2023-05-08T14:30:53.726325Z",
     "end_time": "2023-05-08T14:30:54.502397Z"
    }
   }
  },
  {
   "cell_type": "markdown",
   "source": [
    "### Cell 4\n",
    "We can now generate the embeddings for the startups and industries. The `startup` argument is a boolean that specifies whether we want to generate embeddings for the startups or the industries. The default value is `True`. This function is generating embeddings for the startups, as well as the industries on the second line. There is no need to return anything as the embeddings are stored in the `startups` and `industries` attributes of the Embedding class."
   ],
   "metadata": {
    "collapsed": false
   }
  },
  {
   "cell_type": "code",
   "execution_count": 78,
   "outputs": [
    {
     "data": {
      "text/plain": "0it [00:00, ?it/s]",
      "application/vnd.jupyter.widget-view+json": {
       "version_major": 2,
       "version_minor": 0,
       "model_id": "c0ee1c93599a403284d28bd2e4c70370"
      }
     },
     "metadata": {},
     "output_type": "display_data"
    },
    {
     "data": {
      "text/plain": "0it [00:00, ?it/s]",
      "application/vnd.jupyter.widget-view+json": {
       "version_major": 2,
       "version_minor": 0,
       "model_id": "7e7473c4828b4db0b03fb1cd6f0cb3aa"
      }
     },
     "metadata": {},
     "output_type": "display_data"
    },
    {
     "data": {
      "text/plain": "    id                industry  \\\n0    0             Procurement   \n1    1               GreenTech   \n2    2                 Esports   \n3    3       Quantum Computing   \n4    4           Manufacturing   \n..  ..                     ...   \n93  93                Big Data   \n94  94          Connected Home   \n95  95  Network Infrastructure   \n96  96         Food & Beverage   \n97  97         Data Management   \n\n                                             keywords  \\\n0   purchasing, sourcing, supplier, contract, supp...   \n1   renewable energy, solar, wind, biofuel, geothe...   \n2   gaming, competition, professional, tournament,...   \n3   qubit, superposition, entanglement, quantum al...   \n4   production, assembly, factory, automation, mac...   \n..                                                ...   \n93  data processing, analytics, data mining, stora...   \n94  smart home, IoT, home automation, security, en...   \n95  internet backbone, data transmission, routers,...   \n96  food industry, restaurant, food production, fo...   \n97  data governance, data quality, data integratio...   \n\n                                           embeddings  \n0   [0.021745409816503525, -0.0345156267285347, -0...  \n1   [0.0463322289288044, -0.016174955293536186, 0....  \n2   [0.07127097249031067, -0.07353267073631287, -0...  \n3   [-0.03036649152636528, 0.023698771372437477, -...  \n4   [-0.011403301730751991, -0.10180896520614624, ...  \n..                                                ...  \n93  [-0.028502661734819412, -0.040501710027456284,...  \n94  [0.06562431156635284, -0.06175098195672035, 0....  \n95  [0.0016931991558521986, -0.07349466532468796, ...  \n96  [0.06983721256256104, -0.10127245634794235, -0...  \n97  [0.04066827893257141, -0.06571302562952042, 0....  \n\n[98 rows x 4 columns]",
      "text/html": "<div>\n<style scoped>\n    .dataframe tbody tr th:only-of-type {\n        vertical-align: middle;\n    }\n\n    .dataframe tbody tr th {\n        vertical-align: top;\n    }\n\n    .dataframe thead th {\n        text-align: right;\n    }\n</style>\n<table border=\"1\" class=\"dataframe\">\n  <thead>\n    <tr style=\"text-align: right;\">\n      <th></th>\n      <th>id</th>\n      <th>industry</th>\n      <th>keywords</th>\n      <th>embeddings</th>\n    </tr>\n  </thead>\n  <tbody>\n    <tr>\n      <th>0</th>\n      <td>0</td>\n      <td>Procurement</td>\n      <td>purchasing, sourcing, supplier, contract, supp...</td>\n      <td>[0.021745409816503525, -0.0345156267285347, -0...</td>\n    </tr>\n    <tr>\n      <th>1</th>\n      <td>1</td>\n      <td>GreenTech</td>\n      <td>renewable energy, solar, wind, biofuel, geothe...</td>\n      <td>[0.0463322289288044, -0.016174955293536186, 0....</td>\n    </tr>\n    <tr>\n      <th>2</th>\n      <td>2</td>\n      <td>Esports</td>\n      <td>gaming, competition, professional, tournament,...</td>\n      <td>[0.07127097249031067, -0.07353267073631287, -0...</td>\n    </tr>\n    <tr>\n      <th>3</th>\n      <td>3</td>\n      <td>Quantum Computing</td>\n      <td>qubit, superposition, entanglement, quantum al...</td>\n      <td>[-0.03036649152636528, 0.023698771372437477, -...</td>\n    </tr>\n    <tr>\n      <th>4</th>\n      <td>4</td>\n      <td>Manufacturing</td>\n      <td>production, assembly, factory, automation, mac...</td>\n      <td>[-0.011403301730751991, -0.10180896520614624, ...</td>\n    </tr>\n    <tr>\n      <th>...</th>\n      <td>...</td>\n      <td>...</td>\n      <td>...</td>\n      <td>...</td>\n    </tr>\n    <tr>\n      <th>93</th>\n      <td>93</td>\n      <td>Big Data</td>\n      <td>data processing, analytics, data mining, stora...</td>\n      <td>[-0.028502661734819412, -0.040501710027456284,...</td>\n    </tr>\n    <tr>\n      <th>94</th>\n      <td>94</td>\n      <td>Connected Home</td>\n      <td>smart home, IoT, home automation, security, en...</td>\n      <td>[0.06562431156635284, -0.06175098195672035, 0....</td>\n    </tr>\n    <tr>\n      <th>95</th>\n      <td>95</td>\n      <td>Network Infrastructure</td>\n      <td>internet backbone, data transmission, routers,...</td>\n      <td>[0.0016931991558521986, -0.07349466532468796, ...</td>\n    </tr>\n    <tr>\n      <th>96</th>\n      <td>96</td>\n      <td>Food &amp; Beverage</td>\n      <td>food industry, restaurant, food production, fo...</td>\n      <td>[0.06983721256256104, -0.10127245634794235, -0...</td>\n    </tr>\n    <tr>\n      <th>97</th>\n      <td>97</td>\n      <td>Data Management</td>\n      <td>data governance, data quality, data integratio...</td>\n      <td>[0.04066827893257141, -0.06571302562952042, 0....</td>\n    </tr>\n  </tbody>\n</table>\n<p>98 rows × 4 columns</p>\n</div>"
     },
     "execution_count": 78,
     "metadata": {},
     "output_type": "execute_result"
    }
   ],
   "source": [
    "embeddings.generate_embeddings(startup=True)\n",
    "embeddings.generate_embeddings(startup=False)\n"
   ],
   "metadata": {
    "collapsed": false,
    "ExecuteTime": {
     "start_time": "2023-05-08T14:30:55.509855Z",
     "end_time": "2023-05-08T14:30:59.962910Z"
    }
   }
  },
  {
   "cell_type": "markdown",
   "source": [
    "### Cell 5\n",
    "\n",
    "In this cell we assign the industries to the startups. The `num_labels` argument specifies the number of industries we want to assign to each startup. The default value is 3. The function returns a list of dictionaries, where each dictionary contains the name of the industry and the cosine similarity score. The list is stored in the `assigned_industries` attribute of the Embedding class."
   ],
   "metadata": {
    "collapsed": false
   }
  },
  {
   "cell_type": "code",
   "execution_count": 79,
   "outputs": [
    {
     "data": {
      "text/plain": "  0%|          | 0/30 [00:00<?, ?it/s]",
      "application/vnd.jupyter.widget-view+json": {
       "version_major": 2,
       "version_minor": 0,
       "model_id": "4c44e1a2a8e94cbeb92529255f49a6e4"
      }
     },
     "metadata": {},
     "output_type": "display_data"
    },
    {
     "data": {
      "text/plain": "[[{'industry': 'InsurTech', 'score': 0.4859287793632142},\n  {'industry': 'Healthcare', 'score': 0.31536848938589845},\n  {'industry': 'Automotive', 'score': 0.27471934735890535},\n  {'industry': 'Security', 'score': 0.2631007004120769},\n  {'industry': 'Energy Efficiency', 'score': 0.26100271962133936}],\n [{'industry': 'Hardware', 'score': 0.5159415062236168},\n  {'industry': 'Procurement', 'score': 0.5138512956802737},\n  {'industry': 'Sharing Economy', 'score': 0.5112266425199182},\n  {'industry': 'Cloud Infrastructure', 'score': 0.4970310517514564},\n  {'industry': 'Data Storage', 'score': 0.43982915448759746}],\n [{'industry': 'Logistics', 'score': 0.40465099971957885},\n  {'industry': 'Transportation', 'score': 0.39165251413943997},\n  {'industry': 'Supply Chains', 'score': 0.3556514096647025},\n  {'industry': 'Procurement', 'score': 0.34256116434896167},\n  {'industry': 'Physical Storage', 'score': 0.3389929405465564}],\n [{'industry': 'Life Sciences', 'score': 0.27305506666270446},\n  {'industry': 'Manufacturing', 'score': 0.2557237041504693},\n  {'industry': 'Food & Beverage', 'score': 0.24147042002785962},\n  {'industry': 'Energy Generation', 'score': 0.20287507288833367},\n  {'industry': '3D Printing', 'score': 0.2004793812439008}],\n [{'industry': 'Life Sciences', 'score': 0.2915259476200495},\n  {'industry': 'Genomics', 'score': 0.26055771793721716},\n  {'industry': 'Carbon Capture', 'score': 0.24641220784150855},\n  {'industry': 'Energy Generation', 'score': 0.21900793235237723},\n  {'industry': 'GreenTech', 'score': 0.21867565047021817}],\n [{'industry': 'Web3', 'score': 0.29381768437967976},\n  {'industry': 'Data Infrastructure', 'score': 0.2238047949779187},\n  {'industry': 'Cloud Infrastructure', 'score': 0.22074906254373533},\n  {'industry': 'Network Infrastructure', 'score': 0.21988780446699407},\n  {'industry': 'Industrial IoT', 'score': 0.2052659246951201}],\n [{'industry': 'Robotics', 'score': 0.7077892498606408},\n  {'industry': 'Automation', 'score': 0.6633797311092444},\n  {'industry': 'Autonomous Driving', 'score': 0.5398178946665044},\n  {'industry': 'Industrial IoT', 'score': 0.5187462517034166},\n  {'industry': 'Industrial Tech', 'score': 0.5057194274116656}],\n [{'industry': 'Retail', 'score': 0.5857301925887393},\n  {'industry': 'InsurTech', 'score': 0.5852248312247997},\n  {'industry': 'Beauty', 'score': 0.5844912144047498},\n  {'industry': 'FinTech', 'score': 0.5671742564577213},\n  {'industry': 'Deep Tech', 'score': 0.5623086938181836}],\n [{'industry': 'Human Resources', 'score': 0.391068294760047},\n  {'industry': 'Future of Work', 'score': 0.3832792838055422},\n  {'industry': 'Economic Empowerment', 'score': 0.3649165945118811},\n  {'industry': 'Mobile', 'score': 0.3426521531157382},\n  {'industry': 'Transportation', 'score': 0.3277395523205445}],\n [{'industry': 'Video/Audio', 'score': 0.439158022444975},\n  {'industry': 'Industrial IoT', 'score': 0.4371573981340351},\n  {'industry': 'Search', 'score': 0.4272620452603553},\n  {'industry': 'Hardware', 'score': 0.4235276653129621},\n  {'industry': 'Developer Tools', 'score': 0.4063727807921054}],\n [{'industry': 'Sales & CRM', 'score': 0.16652873223332731},\n  {'industry': 'Generative AI', 'score': 0.15025725260610032},\n  {'industry': 'Beauty', 'score': 0.14470638844315353},\n  {'industry': 'Gaming', 'score': 0.14136175575899068},\n  {'industry': 'Esports', 'score': 0.1398105310250437}],\n [{'industry': 'Physical Storage', 'score': 0.6274730249822084},\n  {'industry': 'Procurement', 'score': 0.625074711747628},\n  {'industry': 'Sales & CRM', 'score': 0.5788122422318231},\n  {'industry': 'Retail', 'score': 0.5764373229180207},\n  {'industry': 'Logistics', 'score': 0.5628233820769972}],\n [{'industry': 'Healthcare', 'score': 0.28437207705677414},\n  {'industry': 'Health Tech', 'score': 0.20387389983674153},\n  {'industry': 'MedTech', 'score': 0.1989075323325178},\n  {'industry': 'FemTech', 'score': 0.19752618752548567},\n  {'industry': 'Web3', 'score': 0.18798680858903088}],\n [{'industry': 'Infrastructure Tech', 'score': 0.5604593587579076},\n  {'industry': 'FamilyTech', 'score': 0.5389073350788451},\n  {'industry': 'Mobility', 'score': 0.4861454807601646},\n  {'industry': 'PropTech', 'score': 0.47697208064937197},\n  {'industry': 'Automotive', 'score': 0.45488904987661766}],\n [{'industry': 'Entertainment', 'score': 0.4003770433717607},\n  {'industry': 'Procurement', 'score': 0.38569892053282595},\n  {'industry': 'Manufacturing', 'score': 0.38343364759746956},\n  {'industry': 'Beauty', 'score': 0.36022268491742593},\n  {'industry': 'Fashion', 'score': 0.3544516376044763}],\n [{'industry': 'Location Services', 'score': 0.5850169348962574},\n  {'industry': 'Mobility', 'score': 0.5254265008276129},\n  {'industry': 'Transportation', 'score': 0.49482720650739886},\n  {'industry': 'Automotive', 'score': 0.43961417825168037},\n  {'industry': 'Security', 'score': 0.4312238159999584}],\n [{'industry': 'Energy Generation', 'score': 0.7375535259724012},\n  {'industry': 'Energy Distribution', 'score': 0.676106227234661},\n  {'industry': 'Energy Storage', 'score': 0.6535794604090807},\n  {'industry': 'Electrification', 'score': 0.65121245884944},\n  {'industry': 'GreenTech', 'score': 0.6421801352691032}],\n [{'industry': 'Industrial Tech', 'score': 0.5280662275586212},\n  {'industry': 'Video/Audio', 'score': 0.5114451608998846},\n  {'industry': 'Business Intelligence', 'score': 0.49707066570599967},\n  {'industry': 'Search', 'score': 0.4903797116904322},\n  {'industry': 'Defense', 'score': 0.48729585904937034}],\n [{'industry': 'Sales & CRM', 'score': 0.6389373292695488},\n  {'industry': 'Procurement', 'score': 0.6260042727251588},\n  {'industry': 'Entertainment', 'score': 0.5865270220707701},\n  {'industry': 'FinTech', 'score': 0.5754022430365726},\n  {'industry': 'Mobile', 'score': 0.5740130115234239}],\n [{'industry': 'Procurement', 'score': 0.46926263217405395},\n  {'industry': '3D Printing', 'score': 0.449523116024829},\n  {'industry': 'Circular Economy', 'score': 0.42461812530042087},\n  {'industry': 'Manufacturing', 'score': 0.42074514237041427},\n  {'industry': 'Mobile', 'score': 0.4118982124912617}],\n [{'industry': 'Esports', 'score': 0.6330854416509046},\n  {'industry': 'Gaming', 'score': 0.5734996072194092},\n  {'industry': 'Sport & Wellness', 'score': 0.5143483654557861},\n  {'industry': 'Media', 'score': 0.4428254007946163},\n  {'industry': 'Entertainment', 'score': 0.4410736004179166}],\n [{'industry': 'Video/Audio', 'score': 0.6223315560472096},\n  {'industry': 'Cloud Infrastructure', 'score': 0.6103878585249014},\n  {'industry': 'Communications', 'score': 0.5994143277028997},\n  {'industry': 'Sharing Economy', 'score': 0.5724580761623284},\n  {'industry': 'Telecoms', 'score': 0.5703138374044197}],\n [{'industry': 'FinTech', 'score': 0.5676191011532619},\n  {'industry': 'Procurement', 'score': 0.5176760011597885},\n  {'industry': 'DeFi', 'score': 0.5037801935201613},\n  {'industry': 'Payments', 'score': 0.501852056762327},\n  {'industry': 'Sales & CRM', 'score': 0.47478959272819976}],\n [{'industry': 'Industrial IoT', 'score': 0.5785385029660131},\n  {'industry': 'Deep Tech', 'score': 0.5735221116427531},\n  {'industry': 'Manufacturing', 'score': 0.5693920195778887},\n  {'industry': 'Future of Work', 'score': 0.5623658587087641},\n  {'industry': 'Robotics', 'score': 0.5565582731011948}],\n [{'industry': 'Productivity', 'score': 0.46405552349429213},\n  {'industry': 'Esports', 'score': 0.4224547598239151},\n  {'industry': 'Future of Work', 'score': 0.4106628334408807},\n  {'industry': 'Gaming', 'score': 0.36273116116809523},\n  {'industry': 'Sharing Economy', 'score': 0.35157074216443446}],\n [{'industry': 'Payments', 'score': 0.6223668746102409},\n  {'industry': 'Procurement', 'score': 0.589552213371421},\n  {'industry': 'E-commerce', 'score': 0.47096861825116276},\n  {'industry': 'Sales & CRM', 'score': 0.44851963571032505},\n  {'industry': 'Travel', 'score': 0.44178156834829313}],\n [{'industry': 'Sales & CRM', 'score': 0.5982486744993636},\n  {'industry': 'Procurement', 'score': 0.5401588204931452},\n  {'industry': 'MarTech', 'score': 0.4823378276124025},\n  {'industry': 'E-commerce', 'score': 0.45240065821297937},\n  {'industry': 'DeFi', 'score': 0.44197934066042327}],\n [{'industry': 'Manufacturing', 'score': 0.7291468004349293},\n  {'industry': 'Industrial Tech', 'score': 0.5900999404692706},\n  {'industry': 'Procurement', 'score': 0.5776899579853323},\n  {'industry': 'Industrial IoT', 'score': 0.5710190438551574},\n  {'industry': '3D Printing', 'score': 0.5553302249989216}],\n [{'industry': 'Procurement', 'score': 0.43248816270168106},\n  {'industry': 'Productivity', 'score': 0.38976812646986975},\n  {'industry': 'Sales & CRM', 'score': 0.38063778887972655},\n  {'industry': 'Sharing Economy', 'score': 0.3616930433632971},\n  {'industry': 'Crypto', 'score': 0.3418354339172728}],\n [{'industry': 'Entertainment', 'score': 0.597001809385631},\n  {'industry': 'Procurement', 'score': 0.5656049143882392},\n  {'industry': 'Media', 'score': 0.5517416220935623},\n  {'industry': 'Sales & CRM', 'score': 0.5411861785683352},\n  {'industry': 'Mobile', 'score': 0.5230529044426331}]]"
     },
     "execution_count": 79,
     "metadata": {},
     "output_type": "execute_result"
    }
   ],
   "source": [
    "embeddings.assign_industry(num_labels=5)"
   ],
   "metadata": {
    "collapsed": false,
    "ExecuteTime": {
     "start_time": "2023-05-08T14:31:00.147765Z",
     "end_time": "2023-05-08T14:31:01.179395Z"
    }
   }
  },
  {
   "cell_type": "markdown",
   "source": [
    "### Cell 6\n",
    "\n",
    "Finally, we update the dataframe with the assigned industries. The function returns a dataframe with the assigned industries and their scores. The dataframe is stored in the `startups` attribute of the Embedding class."
   ],
   "metadata": {
    "collapsed": false
   }
  },
  {
   "cell_type": "code",
   "execution_count": 80,
   "outputs": [],
   "source": [
    "df = embeddings.update_dataframe()"
   ],
   "metadata": {
    "collapsed": false,
    "ExecuteTime": {
     "start_time": "2023-05-08T14:31:03.030896Z",
     "end_time": "2023-05-08T14:31:03.065502Z"
    }
   }
  },
  {
   "cell_type": "code",
   "execution_count": 81,
   "outputs": [
    {
     "name": "stdout",
     "output_type": "stream",
     "text": [
      "           name                                     cb_description  id  \\\n",
      "0  InterResolve                                 insurance, insurer   0   \n",
      "1     GladCloud  platform, brand, large, datum, asset, product,...   1   \n",
      "2       21GRAMS                           postal, postage, mailing   2   \n",
      "3        Geltor                            biodesign, fermentation   3   \n",
      "4      21st.BIO                                      bioproduction   4   \n",
      "\n",
      "       industry1  score1       industry2  score2        industry3  score3  \\\n",
      "0      InsurTech   0.486      Healthcare   0.315       Automotive   0.275   \n",
      "1       Hardware   0.516     Procurement   0.514  Sharing Economy   0.511   \n",
      "2      Logistics   0.405  Transportation   0.392    Supply Chains   0.356   \n",
      "3  Life Sciences   0.273   Manufacturing   0.256  Food & Beverage   0.241   \n",
      "4  Life Sciences   0.292        Genomics   0.261   Carbon Capture   0.246   \n",
      "\n",
      "              industry4  score4          industry5  score5  \n",
      "0              Security   0.263  Energy Efficiency   0.261  \n",
      "1  Cloud Infrastructure   0.497       Data Storage   0.440  \n",
      "2           Procurement   0.343   Physical Storage   0.339  \n",
      "3     Energy Generation   0.203        3D Printing   0.200  \n",
      "4     Energy Generation   0.219          GreenTech   0.219  \n"
     ]
    }
   ],
   "source": [
    "print(df.head(5)) # maybe try clustering industries, and then assigning the clusters to the startups. maybe 20 clusters, take 2-3 kw from each and append into a super kw list, and then assign the startups to the clusters"
   ],
   "metadata": {
    "collapsed": false,
    "ExecuteTime": {
     "start_time": "2023-05-08T14:31:05.128489Z",
     "end_time": "2023-05-08T14:31:05.145767Z"
    }
   }
  },
  {
   "cell_type": "code",
   "execution_count": 82,
   "outputs": [],
   "source": [
    "df.to_csv(r'C:\\Users\\imran\\DataspellProjects\\WalidCase\\data\\tagged/clustered_with_spacy_engineering/3_clusters_nouns_adjectives_only_industry_v1.2.csv', index=False)"
   ],
   "metadata": {
    "collapsed": false,
    "ExecuteTime": {
     "start_time": "2023-05-08T14:31:12.845941Z",
     "end_time": "2023-05-08T14:31:12.856672Z"
    }
   }
  }
 ],
 "metadata": {
  "kernelspec": {
   "name": "myenv",
   "language": "python",
   "display_name": "python 3.10 sentence transform"
  },
  "language_info": {
   "codemirror_mode": {
    "name": "ipython",
    "version": 2
   },
   "file_extension": ".py",
   "mimetype": "text/x-python",
   "name": "python",
   "nbconvert_exporter": "python",
   "pygments_lexer": "ipython2",
   "version": "2.7.6"
  }
 },
 "nbformat": 4,
 "nbformat_minor": 0
}
