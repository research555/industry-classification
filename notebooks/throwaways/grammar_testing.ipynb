{
 "cells": [
  {
   "cell_type": "code",
   "execution_count": null,
   "metadata": {
    "collapsed": true
   },
   "outputs": [],
   "source": []
  },
  {
   "cell_type": "code",
   "execution_count": 2,
   "outputs": [],
   "source": [
    "import spacy\n",
    "from spacy import displacy\n",
    "from transformers import pipeline, AutoTokenizer, AutoModelForSequenceClassification\n",
    "import pandas as pd\n",
    "from scipy.special import softmax\n",
    "import torch\n",
    "import numpy as np\n",
    "from tqdm import tqdm"
   ],
   "metadata": {
    "collapsed": false,
    "ExecuteTime": {
     "start_time": "2023-05-08T14:42:45.220309Z",
     "end_time": "2023-05-08T14:42:51.714894Z"
    }
   }
  },
  {
   "cell_type": "code",
   "execution_count": 14,
   "outputs": [],
   "source": [
    "industry_data = pd.read_csv(r'C:\\Users\\imran\\DataspellProjects\\WalidCase\\data\\processed/industry_dataset_clean_some_deleted.csv', sep='\\t')\n",
    "industry_data.insert(0, 'id', industry_data.index)\n",
    "startups = pd.read_csv(r\"C:\\Users\\imran\\DataspellProjects\\WalidCase\\data\\processed\\clustered/4_clusters_nouns_adjectives_only.csv\", index_col=0)\n",
    "startups.dropna(inplace=True)"
   ],
   "metadata": {
    "collapsed": false,
    "ExecuteTime": {
     "start_time": "2023-05-08T15:03:52.371359Z",
     "end_time": "2023-05-08T15:03:52.405749Z"
    }
   }
  },
  {
   "cell_type": "code",
   "execution_count": 15,
   "outputs": [
    {
     "data": {
      "text/plain": "    id                industry  \\\n0    0             Procurement   \n1    1               GreenTech   \n2    2                 Esports   \n3    3       Quantum Computing   \n4    4           Manufacturing   \n..  ..                     ...   \n93  93                Big Data   \n94  94          Connected Home   \n95  95  Network Infrastructure   \n96  96         Food & Beverage   \n97  97         Data Management   \n\n                                             keywords  \n0   purchasing, sourcing, supplier, contract, supp...  \n1   renewable energy, solar, wind, biofuel, geothe...  \n2   gaming, competition, professional, tournament,...  \n3   qubit, superposition, entanglement, quantum al...  \n4   production, assembly, factory, automation, mac...  \n..                                                ...  \n93  data processing, analytics, data mining, stora...  \n94  smart home, IoT, home automation, security, en...  \n95  internet backbone, data transmission, routers,...  \n96  food industry, restaurant, food production, fo...  \n97  data governance, data quality, data integratio...  \n\n[98 rows x 3 columns]",
      "text/html": "<div>\n<style scoped>\n    .dataframe tbody tr th:only-of-type {\n        vertical-align: middle;\n    }\n\n    .dataframe tbody tr th {\n        vertical-align: top;\n    }\n\n    .dataframe thead th {\n        text-align: right;\n    }\n</style>\n<table border=\"1\" class=\"dataframe\">\n  <thead>\n    <tr style=\"text-align: right;\">\n      <th></th>\n      <th>id</th>\n      <th>industry</th>\n      <th>keywords</th>\n    </tr>\n  </thead>\n  <tbody>\n    <tr>\n      <th>0</th>\n      <td>0</td>\n      <td>Procurement</td>\n      <td>purchasing, sourcing, supplier, contract, supp...</td>\n    </tr>\n    <tr>\n      <th>1</th>\n      <td>1</td>\n      <td>GreenTech</td>\n      <td>renewable energy, solar, wind, biofuel, geothe...</td>\n    </tr>\n    <tr>\n      <th>2</th>\n      <td>2</td>\n      <td>Esports</td>\n      <td>gaming, competition, professional, tournament,...</td>\n    </tr>\n    <tr>\n      <th>3</th>\n      <td>3</td>\n      <td>Quantum Computing</td>\n      <td>qubit, superposition, entanglement, quantum al...</td>\n    </tr>\n    <tr>\n      <th>4</th>\n      <td>4</td>\n      <td>Manufacturing</td>\n      <td>production, assembly, factory, automation, mac...</td>\n    </tr>\n    <tr>\n      <th>...</th>\n      <td>...</td>\n      <td>...</td>\n      <td>...</td>\n    </tr>\n    <tr>\n      <th>93</th>\n      <td>93</td>\n      <td>Big Data</td>\n      <td>data processing, analytics, data mining, stora...</td>\n    </tr>\n    <tr>\n      <th>94</th>\n      <td>94</td>\n      <td>Connected Home</td>\n      <td>smart home, IoT, home automation, security, en...</td>\n    </tr>\n    <tr>\n      <th>95</th>\n      <td>95</td>\n      <td>Network Infrastructure</td>\n      <td>internet backbone, data transmission, routers,...</td>\n    </tr>\n    <tr>\n      <th>96</th>\n      <td>96</td>\n      <td>Food &amp; Beverage</td>\n      <td>food industry, restaurant, food production, fo...</td>\n    </tr>\n    <tr>\n      <th>97</th>\n      <td>97</td>\n      <td>Data Management</td>\n      <td>data governance, data quality, data integratio...</td>\n    </tr>\n  </tbody>\n</table>\n<p>98 rows × 3 columns</p>\n</div>"
     },
     "execution_count": 15,
     "metadata": {},
     "output_type": "execute_result"
    }
   ],
   "source": [
    "industry_data"
   ],
   "metadata": {
    "collapsed": false,
    "ExecuteTime": {
     "start_time": "2023-05-08T15:03:53.480346Z",
     "end_time": "2023-05-08T15:03:53.518669Z"
    }
   }
  },
  {
   "cell_type": "code",
   "execution_count": 85,
   "outputs": [],
   "source": [
    "# Load the zero-shot classification pipeline\n",
    "classifier = pipeline(\"zero-shot-classification\", model=\"facebook/bart-large-mnli\")\n",
    "\n",
    "# Load the tokenizer and model for precomputing label embeddings\n",
    "tokenizer = BartTokenizer.from_pretrained(\"facebook/bart-large-mnli\")\n",
    "model = BartForSequenceClassification.from_pretrained(\"facebook/bart-large-mnli\")\n"
   ],
   "metadata": {
    "collapsed": false,
    "ExecuteTime": {
     "start_time": "2023-05-07T18:54:11.652997Z",
     "end_time": "2023-05-07T18:54:29.238400Z"
    }
   }
  },
  {
   "cell_type": "code",
   "execution_count": null,
   "outputs": [],
   "source": [],
   "metadata": {
    "collapsed": false
   }
  },
  {
   "cell_type": "code",
   "execution_count": 87,
   "outputs": [],
   "source": [
    "industry_labels = industry_data['keywords'].tolist()\n",
    "#industry_labels = [x.replace(',', '') for x in industry_labels]\n",
    "#industry_labels = [x for x in industry_labels if x != 'nan']\n",
    "candidate_labels = list(set(industry_labels))"
   ],
   "metadata": {
    "collapsed": false,
    "ExecuteTime": {
     "start_time": "2023-05-07T18:54:44.787959Z",
     "end_time": "2023-05-07T18:54:44.804552Z"
    }
   }
  },
  {
   "cell_type": "code",
   "execution_count": 16,
   "outputs": [],
   "source": [
    "from transformers import pipeline\n",
    "classifier = pipeline(\"zero-shot-classification\",\n",
    "                      model=\"facebook/bart-large-mnli\")\n",
    "\n",
    "keywords_to_industry = dict(zip(industry_data['keywords'].str.lower(), industry_data['industry']))"
   ],
   "metadata": {
    "collapsed": false,
    "ExecuteTime": {
     "start_time": "2023-05-08T15:03:59.581563Z",
     "end_time": "2023-05-08T15:04:07.347801Z"
    }
   }
  },
  {
   "cell_type": "code",
   "execution_count": 102,
   "outputs": [
    {
     "data": {
      "text/plain": "{'carrier services, satellite communication, fixed-line network, mobile virtual network operator, last mile connectivity, telecom towers, telecom billing, submarine cables, backhaul, network management': 'Telecoms',\n 'mobile applications, mobile devices, mobile operating systems, mobile content, mobile commerce, location-based services, mobile gaming, mobile security, mobile user experience, mobile data': 'Mobile',\n 'real-time communication, chat applications, video conferencing, audio conferencing, web conferencing, email, instant messaging, communication apis, social networking, enterprise communication': 'Communications',\n 'content delivery network, network function virtualization, data center, optical networking, network topology, ethernet, vpn, mpls, traffic management, network architecture': 'Network Infrastructure',\n '5g radio access network, millimeter wave, 5g small cells, 5g core network, 5g network slicing, massive mimo, beamforming, 5g network deployment, 5g use cases, 5g testing and validation': '5G Networks',\n 'ad exchange, real-time bidding, ad server, click-through rate, ad fraud, viewability, native advertising, ad verification, ad placement, cost per action': 'AdTech',\n 'legal research, intellectual property management, legal billing, regulatory compliance, e-signature, practice management software, legal process outsourcing, legal document automation, litigation analytics, client intake': 'LegalTech',\n 'live events, on-demand streaming, media production, venue management, ticketing, talent scouting, multimedia storytelling, content licensing, entertainment analytics, virtual reality experiences': 'Entertainment',\n 'applicant tracking, onboarding, workforce planning, learning management, employee retention, succession planning, employee recognition, labor law compliance, time and attendance, workplace culture': 'Human Resources',\n 'creator tools, monetization strategies, brand partnerships, livestreaming, content distribution, social commerce, creator communities, digital merchandise, content curation, fan engagement': 'Creator Economy',\n 'insurtech platforms, claims automation, p2p insurance, insurance comparison, microinsurance, usage-based insurance, parametric insurance, digital brokerage, risk analytics, insurtech partnerships': 'InsurTech',\n 'digital journalism, content marketing, media monitoring, video production, editorial strategy, podcasting, media innovation, native advertising, branded content, media planning': 'Media',\n 'salesforce automation, customer segmentation, prospect nurturing, sales enablement, contact management, deal tracking, proposal generation, customer support, upselling, cross-selling': 'Sales & CRM',\n 'email marketing, marketing attribution, data-driven marketing, omnichannel marketing, conversion rate optimization, mobile marketing, content personalization, marketing performance, web analytics, audience targeting': 'MarTech',\n 'friendship networks, professional networking, photo sharing, video sharing, ephemeral messaging, location-based networks, interest-based communities, social gaming, virtual events, social network analytics': 'Social Networks',\n 'online recruitment, extremist propaganda, radical ideologies, lone-actor terrorism, countering violent extremism, extremist subcultures, echo chambers, internet censorship, de-radicalization, extremist financing': 'Extremism',\n 'information warfare, conspiracy theories, cognitive hacking, online echo chambers, disinformation campaigns, troll farms, media literacy, confirmation bias, fact-checking initiatives, trust in media': 'Disinformation',\n 'corporate social responsibility, social enterprise, impact investing, sustainable development, environmental justice, community development, capacity building, social innovation, public-private partnerships, social entrepreneurship': 'Social Impact',\n 'photovoltaic, wind turbine, hydroelectric, tidal energy, biofuel conversion, energy storage, combined heat and power, energy grid, biomass, energy transmission': 'Energy Generation',\n 'bioenergy with carbon capture, enhanced weathering, ocean fertilization, carbon mineralization, afforestation, blue carbon, soil carbon sequestration, carbon capture technology, carbon offset, carbon markets': 'Carbon Removal',\n 'wildlife corridors, habitat connectivity, species recovery, invasive species control, ecosystem services, marine protected areas, landscape ecology, conservation biology, rewilding, adaptive management': 'Biodiversity',\n 'product life extension, circular supply chain, resource recovery, sharing economy, cradle-to-cradle, industrial ecology, circular business models, regenerative design, closed-loop systems, waste hierarchy': 'Circular Economy',\n 'smart materials, conductive polymers, advanced ceramics, shape-memory alloys, biodegradable plastics, self-healing materials, metamaterials, 3d printing materials, high-performance textiles, material characterization': 'Materials',\n 'solar thermal, wave energy, electric vehicle charging, green building, smart grid, energy management systems, anaerobic digestion, water purification, air quality monitoring, eco-friendly packaging': 'GreenTech',\n 'low-carbon technologies, green hydrogen, climate adaptation, energy conservation, environmental monitoring, sustainable agriculture, clean air solutions, resource optimization, sustainable urban planning, green chemistry': 'Climate & Clean Tech',\n 'post-combustion capture, pre-combustion capture, oxy-fuel combustion, carbon capture and utilization, carbon dioxide removal, enhanced oil recovery, geological storage, carbon mineralization, carbon credit, carbon capture membrane': 'Carbon Capture',\n 'iot sensors, smart appliances, mobile integration, data exchange, smart security, home energy management, wireless automation, remote control, wearable devices, intelligent lighting': 'Connected Life',\n 'food processing, culinary arts, food preservation, food quality, agri-food, craft beverages, foodservice, food innovation, gastronomy, food distribution': 'Food & Beverage',\n 'cosmeceuticals, skin treatments, makeup application, hair styling, self-care products, natural cosmetics, cosmetic surgery, beauty services, makeup tools, clean beauty': 'Beauty',\n 'physical activity, sports coaching, wellness programs, health tracking, wearable fitness, sports equipment, personal training, rehabilitation, sports medicine, sports nutrition': 'Sport & Wellness',\n 'dietary supplements, probiotics, prebiotics, nutraceutical formulation, meal replacements, food biochemistry, food fortification, nutrigenetics, specialized diets, food allergy management': 'Nutrition',\n \"fertility tracking, hormonal health, menstrual care products, women's sexual health, pregnancy support, breastfeeding support, women's health diagnostics, intimate care, women's health platforms, gynecological health\": 'FemTech',\n 'digital health platforms, telemedicine services, clinical data management, remote diagnostics, population health management, home care technology, patient engagement tools, health information exchange, ai in healthcare, personalized medicine': 'Health Tech',\n 'sexual education, intimacy enhancement, sexual health resources, pleasure products, sexual wellness, adult entertainment, consent education, sex-positive apps, erotic art, sexual performance': 'SexTech',\n 'psychedelic-assisted therapy, microdosing, mental health treatments, psychedelic research, neuropharmacology, set and setting, entheogens, consciousness exploration, integrative medicine, psychedelic policy reform': 'Psychedelics',\n \"early childhood education, child safety products, family communication tools, parenting resources, children's health, child tracking devices, family entertainment, baby care, parental support, child-friendly tech\": 'FamilyTech',\n 'diagnostic imaging, in-vitro diagnostics, telehealth platforms, electronic health records, implantable devices, medical robotics, surgical navigation, wearable medical devices, regenerative medicine, patient monitoring systems': 'MedTech',\n 'mindfulness practices, self-improvement, emotional regulation, life satisfaction, coping strategies, personal development, well-being assessments, happiness research, gratitude practice, mental wellness tools': 'Happiness & Wellbeing',\n 'iot platforms, connected sensors, wireless communication, iot data management, device integration, iot security, edge computing, real-time analytics, machine-to-machine communication, iot applications': 'IoT',\n 'stereolithography, selective laser sintering, fused deposition modeling, digital light processing, 3d bioprinting, 3d modeling software, layer-by-layer printing, 3d printer materials, build volume, post-processing': '3D Printing',\n 'smart lighting, home energy monitoring, intelligent hvac, smart security systems, remote home access, wireless home networking, voice-controlled assistants, home automation hubs, smart home protocols, connected entertainment': 'Connected Home',\n 'additive manufacturing, subtractive manufacturing, assembly line, computer numerical control, lean manufacturing, six sigma, industrial robotics, factory automation, process optimization, digital twin technology': 'Manufacturing',\n 'microcredit, financial literacy, community development, social entrepreneurship, capacity building, income generation, skills development, financial access, economic mobility, financial empowerment': 'Economic Empowerment',\n 'aml/kyc compliance, regulatory reporting, risk assessment, data aggregation, regulatory sandbox, financial surveillance, fraud detection, legal entity identifiers, transaction monitoring, stress testing': 'RegTech',\n 'advanced manufacturing, industrial automation systems, machine vision, manufacturing execution systems, programmable logic controllers, industrial robots, factory floor optimization, smart maintenance, industrial cybersecurity, digital manufacturing': 'Industrial Tech',\n 'iiot monitoring, industrial data analytics, remote asset management, industrial networking, industrial iot security, manufacturing automation, production line optimization, smart logistics, real-time process control, digital transformation': 'Industrial IoT',\n 'online memorials, funeral planning, digital estate management, death care services, grief support, eco-friendly burials, funeral industry innovation, end-of-life documentation, legacy preservation, green cemeteries': 'Death Tech',\n 'internal combustion engine, hybrid vehicles, vehicle electrification, automotive engineering, telematics, in-vehicle infotainment, automotive safety, car manufacturing, vehicle-to-vehicle communication, automotive design': 'Automotive',\n 'driverless cars, autonomous navigation, obstacle detection, machine learning in driving, vehicle control algorithms, mapping for autonomous vehicles, adas systems, autonomous fleet management, vehicle-to-infrastructure communication, human-machine interfaces': 'Autonomous Driving',\n 'intelligent transportation systems, smart grid technology, urban iot, waste management solutions, smart water networks, city-scale connectivity, public space optimization, sustainable infrastructure, asset management, e-governance': 'Infrastructure Tech',\n 'multi-modal transportation, micro-mobility, mobility-as-a-service, on-demand transit, car-sharing platforms, last-mile connectivity, vehicle-to-grid integration, electric scooter sharing, pedestrian-centric urban design, intermodal transport': 'Mobility',\n 'supply chain visibility, warehouse automation, order management systems, logistics optimization, predictive analytics, trade compliance, real-time tracking, distribution network design, reverse logistics, supply chain risk management': 'Supply Chains',\n 'mass transit systems, freight transportation, intermodal shipping, urban mobility solutions, public transport networks, vehicle connectivity, smart parking, traffic management, ride-hailing services, green transportation': 'Transportation',\n 'secure communication, cryptography, network security, endpoint protection, advanced persistent threats, honeypots, security information and event management, zero-day exploits, phishing, sandboxing': 'Cybersecurity',\n 'tactical communications, military vehicles, unmanned aerial systems, electronic warfare, defense procurement, ballistic missile defense, intelligence gathering, force protection, military simulation, c4isr': 'Defense',\n 'application security, data breach prevention, secure coding, security architecture, identity management, risk assessment, penetration testing, security awareness training, incident response, data loss prevention': 'InfoSec',\n 'search algorithms, query expansion, search personalization, search filters, web crawlers, search engine optimization, faceted search, latent semantic indexing, metadata, clustering algorithms': 'Search',\n 'physical security, biometric authentication, video surveillance, perimeter security, security guards, critical infrastructure protection, access badges, intrusion alarms, visitor management, asset tracking': 'Security',\n 'blockchain protocol, hash function, proof-of-work, proof-of-stake, consensus mechanism, permissioned blockchain, permissionless blockchain, sidechains, hashing, merkle tree': 'Blockchain',\n 'altcoins, crypto mining, cold storage, hot wallet, digital asset exchange, initial coin offering (ico), tokenomics, hashing power, non-fungible tokens (nfts), digital signatures': 'Crypto',\n 'automated market makers, flash loans, governance tokens, defi protocols, wrapped tokens, decentralized exchanges (dex), staking, synthetic assets, lending platforms, oracles': 'DeFi',\n 'visual hierarchy, color theory, wireframing, mockups, responsive design, design thinking, grid systems, design patterns, user research, interaction design': 'Design',\n 'strategic sourcing, e-procurement, vendor management, spend analysis, procurement analytics, cost reduction, supply risk, tendering, total cost of ownership, contract lifecycle management': 'Procurement',\n 'ridesharing, home-sharing, coworking, crowdfunding, shared mobility, on-demand services, asset-light, micro-entrepreneur, collaborative workspace, circular economy': 'Sharing Economy',\n 'interplanetary file system (ipfs), decentralized autonomous organizations (daos), content-addressable storage, ethereum virtual machine (evm), zero-knowledge proofs, layer 2 solutions, decentralized dns, swarm intelligence': 'Web3',\n 'statistical analysis, data exploration, correlation analysis, data-driven decision making, descriptive analytics, prescriptive analytics, data modeling, cohort analysis, segmentation, data transformation': 'Analytics',\n 'mapreduce, spark, data clustering, nosql databases, data ingestion, real-time processing, batch processing, parallel processing, data partitioning, data redundancy': 'Big Data',\n 'querying, olap, drill-down analysis, performance metrics, scorecards, bi tools, self-service bi, data lineage, real-time analytics, report automation': 'Business Intelligence',\n 'data center, content delivery network (cdn), data replication, fault tolerance, backup and recovery, latency reduction, network optimization, hybrid cloud, virtualization, high availability': 'Data Infrastructure',\n 'metadata management, data lineage, data catalog, data stewardship, data curation, data lakehouse, data virtualization, data deduplication, data profiling, data retention': 'Data Management',\n 'online transactions, digital retail, e-shopping, checkout, shipping solutions, mobile purchasing, e-commerce personalization, virtual storefront, order processing, last-mile delivery': 'E-commerce',\n 'garments, clothing, apparel, fashion design, haute couture, fabrics, eco-friendly fashion, fashion retail, style forecasting, e-tail, wearable technology, fashion accessories': 'Fashion',\n 'supply chain management, warehouse automation, freight forwarding, cargo management, order tracking, last-mile delivery, parcel handling, express courier, route optimization, fleet management': 'Logistics',\n 'payment settlement, e-wallet, contactless payment, online transactions, merchant services, payment security, financial technology, digital currency, cross-border payments, transaction authentication': 'Payments',\n 'storage facility, warehouse operations, inventory control, order fulfillment, secure storage, storage infrastructure, climate-controlled storage, document storage, warehouse management system, pallet storage': 'Physical Storage',\n 'multi-channel retail, in-store experience, product display, inventory optimization, point-of-sale system, store layout, merchandising strategy, retail supply chain, shop management, store branding': 'Retail',\n 'tourist attractions, lodging, reservation systems, travel planning, adventure tourism, ota, experiential travel, hotel industry, itinerary management, holiday packages': 'Travel',\n 'cutting-edge technology, groundbreaking research, machine intelligence, quantum tech, nanofabrication, bioengineering, advanced materials, autonomous systems, photonic devices, disruptive innovations': 'Deep Tech',\n 'electronics manufacturing, computing hardware, gadget, cpu, chip fabrication, circuit board, input/output devices, storage solutions, firmware, hardware components': 'Hardware',\n 'nanoengineering, nanofabrication, atom-sized particles, nanotubes, nanobiotechnology, quantum mechanics, molecular machines, bottom-up assembly, nanoelectronics, nanophotonics': 'Nano',\n \"quantum bits, qubit manipulation, quantum entanglement, quantum superposition, shor's algorithm, quantum key distribution, decoherence, quantum annealing, quantum error correction, quantum gate\": 'Quantum Computing',\n 'ic design, microelectronics, silicon wafer, mosfet, chip manufacturing, semiconductor substrate, process technology, memory chips, electronic devices, photolithography': 'Semiconductors',\n 'ev charging, charge stations, grid integration, battery technology, power conversion, electric drivetrain, clean transportation, electrified infrastructure, electric powertrains': 'Electrification',\n 'power grid management, electrical transmission, distributed energy resources, grid modernization, energy network, grid reliability, utility operations, load balancing, smart meters': 'Energy Distribution',\n 'energy-saving technologies, building performance, energy optimization, demand-side management, green construction, efficient lighting, hvac efficiency, energy-efficient appliances, home energy assessment': 'Energy Efficiency',\n 'battery systems, energy storage solutions, flywheel, pumped hydro, compressed air energy storage, redox flow batteries, energy storage integration, grid flexibility, peak shaving': 'Energy Storage',\n 'cloud-based services, iaas, paas, saas, cloud migration, data center virtualization, multi-cloud, cloud-native applications, data redundancy, cloud-based architecture': 'Cloud Computing',\n 'cloud data storage, virtual servers, cloud networking, infrastructure as a service, resource allocation, elastic infrastructure, cloud stack, managed services, private cloud': 'Cloud Infrastructure',\n 'cloud management, continuous integration, continuous deployment, autoscaling, performance monitoring, configuration management, cloud-native development, kubernetes, cloud security': 'Cloud Ops',\n 'data center facilities, server farms, it infrastructure, cooling systems, power distribution, network redundancy, green data centers, colocation services, high-availability': 'Data Centers',\n 'data backup, storage architecture, data retention, archiving, storage hardware, nas, san, object storage, data protection, storage scalability': 'Data Storage',\n 'fog computing, low latency computing, edge processing, localized data, edge analytics, edge networks, distributed data, real-time insights, edge servers': 'Edge Computing',\n 'task automation, time tracking, team collaboration, process optimization, productivity tools, remote work, time-saving techniques, performance improvement, personal productivity': 'Productivity',\n 'real estate tech, smart property, tenant management, proptech platforms, digital real estate, building automation, real estate analytics, property investment tools, virtual property viewing': 'PropTech',\n 'api design, restful services, api versioning, api economy, api management, api security, api testing, api documentation, api lifecycle, api integration': 'API-First',\n 'coding environment, development frameworks, sdk, continuous integration, git, code editor, build tools, debugging tools, collaboration tools, code refactoring': 'Developer Tools',\n 'distributed teams, virtual workspaces, digital nomads, remote collaboration, workforce transformation, online training, reskilling, flexible work arrangements, telecommuting': 'Future of Work',\n 'bpa, rpa, automated systems, ai-driven automation, smart manufacturing, process optimization, business process automation, home automation, industrial automation': 'Automation',\n 'image analysis, pattern recognition, convolutional neural networks, machine vision, scene understanding, visual computing, gesture recognition, biometrics, video processing': 'Computer Vision',\n 'digital education, e-learning platforms, online tutoring, virtual learning environments, educational apps, digital textbooks, learning analytics, remote learning, skills training': 'EdTech',\n 'neural style transfer, variational autoencoders, text generation, image synthesis, generative models, creative ai, data generation, unsupervised learning, artistic applications': 'Generative AI',\n 'robotic systems, ai-powered robots, swarm robotics, collaborative robots, drones, exoskeletons, teleoperation, autonomous navigation, haptic feedback': 'Robotics',\n 'immersive experiences, ar glasses, vr headsets, holographic displays, 3d modeling, virtual environments, digital twins, xr, user interaction, virtual simulations': 'AR/MR/VR',\n 'competitive gaming, esports leagues, live streaming, gaming tournaments, esports teams, game broadcasting, player rankings, esports viewership, game strategy, esports events': 'Esports',\n 'digital banking, online lending, mobile payments, peer-to-peer lending, financial services innovation, robo-advisors, insurtech, regtech, financial data analytics': 'FinTech',\n 'game platforms, indie game development, cloud gaming, game engines, player communities, interactive storytelling, game monetization models, casual games, gaming hardware': 'Gaming',\n 'connected virtual spaces, digital assets, decentralized platforms, virtual economies, avatar creation, social vr, virtual experiences, digital governance, metaverse development': 'Metaverse',\n 'chemical processes, advanced materials, specialty chemicals, chemical safety, chemical analysis, chemical production, chemical engineering, catalysts, chemical recycling': 'Chemicals',\n 'preventive medicine, chronic disease management, healthcare delivery, telemedicine, patient experience, medical diagnostics, healthcare technology, home care, health informatics': 'Healthcare',\n 'geoanalytics, location intelligence, geofencing, cartography, spatial data, location tracking, mobile location, positioning systems, routing algorithms, map services': 'Location Services',\n 'neurophysiology, neurobiology, cognitive neuroscience, neuroinformatics, neuroprosthetics, neurodevelopment, brain mapping, neural circuits, synaptic plasticity, brain disorders': 'Neuro',\n 'oquaonic systems, marine technology, ocean sensors, underwater robotics, marine biology, ocean energy, maritime surveillance, marine pollution, ocean monitoring, seafloor mapping': 'OceanTech',\n 'space systems, space communications, satellite technology, space missions, astrophysics, space propulsion, space situational awareness, lunar exploration, deep space, spaceflight': 'Space Tech',\n 'media production, video platforms, audio engineering, content delivery, live streaming, media codecs, audio recognition, video analytics, audio processing, video storage': 'Video/Audio',\n 'functional genomics, gene expression, epigenomics, next-generation sequencing, genome assembly, gene editing, genomic medicine, gene regulation, genomics data analysis, genomic markers': 'Genomics',\n 'aging biology, lifespan extension, rejuvenation therapies, gerontology, age-related biomarkers, aging pathways, geroprotectors, healthy aging, epigenetics of aging, longevity interventions, senescence, telomeres': 'Longevity',\n 'intestinal microbiota, intestinal ecology, gut microbiome diversity, gut metabolites, gut homeostasis, gut inflammation, microbiome therapeutics, gut-brain axis, short-chain fatty acids, enteric bacteria, dysbiosis, gut barrier, fecal microbiota transplantation, metabolomics, host-microbe interaction': 'Gut Microbiome',\n 'drug discovery, therapeutics, biotechnology, pharmacology, genomics, bioinformatics, disease modeling, systems biology, bioprocessing, molecular medicine, biomedical research, molecular diagnostics, medical imaging, tissue engineering, regenerative medicine, cell culture, biomaterials, clinical trials, proteomics, immunology': 'Life Sciences'}"
     },
     "execution_count": 102,
     "metadata": {},
     "output_type": "execute_result"
    }
   ],
   "source": [
    "nli_model = AutoModelForSequenceClassification.from_pretrained('facebook/bart-large-mnli')\n",
    "tokenizer = AutoTokenizer.from_pretrained('facebook/bart-large-mnli')\n",
    "\n",
    "hypotheses = candidate_labels\n",
    "premises = [startups['cb_description'][0]] * len(hypotheses)\n",
    "\n"
   ],
   "metadata": {
    "collapsed": false,
    "ExecuteTime": {
     "start_time": "2023-05-07T19:32:48.708305Z",
     "end_time": "2023-05-07T19:32:48.758349Z"
    }
   }
  },
  {
   "cell_type": "code",
   "execution_count": 17,
   "outputs": [
    {
     "name": "stderr",
     "output_type": "stream",
     "text": [
      "0it [00:00, ?it/s]The `multi_class` argument has been deprecated and renamed to `multi_label`. `multi_class` will be removed in a future version of Transformers.\n",
      "1it [01:11, 71.28s/it]The `multi_class` argument has been deprecated and renamed to `multi_label`. `multi_class` will be removed in a future version of Transformers.\n",
      "2it [02:49, 86.95s/it]The `multi_class` argument has been deprecated and renamed to `multi_label`. `multi_class` will be removed in a future version of Transformers.\n",
      "3it [04:03, 80.99s/it]The `multi_class` argument has been deprecated and renamed to `multi_label`. `multi_class` will be removed in a future version of Transformers.\n",
      "4it [05:17, 78.43s/it]The `multi_class` argument has been deprecated and renamed to `multi_label`. `multi_class` will be removed in a future version of Transformers.\n",
      "5it [06:28, 75.72s/it]The `multi_class` argument has been deprecated and renamed to `multi_label`. `multi_class` will be removed in a future version of Transformers.\n",
      "6it [07:41, 74.78s/it]The `multi_class` argument has been deprecated and renamed to `multi_label`. `multi_class` will be removed in a future version of Transformers.\n",
      "7it [08:54, 74.08s/it]The `multi_class` argument has been deprecated and renamed to `multi_label`. `multi_class` will be removed in a future version of Transformers.\n",
      "8it [10:18, 77.42s/it]The `multi_class` argument has been deprecated and renamed to `multi_label`. `multi_class` will be removed in a future version of Transformers.\n",
      "9it [11:35, 77.09s/it]The `multi_class` argument has been deprecated and renamed to `multi_label`. `multi_class` will be removed in a future version of Transformers.\n",
      "10it [13:05, 81.27s/it]The `multi_class` argument has been deprecated and renamed to `multi_label`. `multi_class` will be removed in a future version of Transformers.\n",
      "11it [14:10, 76.21s/it]The `multi_class` argument has been deprecated and renamed to `multi_label`. `multi_class` will be removed in a future version of Transformers.\n",
      "12it [15:38, 79.86s/it]The `multi_class` argument has been deprecated and renamed to `multi_label`. `multi_class` will be removed in a future version of Transformers.\n",
      "13it [16:47, 76.61s/it]The `multi_class` argument has been deprecated and renamed to `multi_label`. `multi_class` will be removed in a future version of Transformers.\n",
      "14it [18:06, 77.33s/it]The `multi_class` argument has been deprecated and renamed to `multi_label`. `multi_class` will be removed in a future version of Transformers.\n",
      "15it [19:28, 78.73s/it]The `multi_class` argument has been deprecated and renamed to `multi_label`. `multi_class` will be removed in a future version of Transformers.\n",
      "16it [20:46, 78.58s/it]The `multi_class` argument has been deprecated and renamed to `multi_label`. `multi_class` will be removed in a future version of Transformers.\n",
      "17it [22:01, 77.29s/it]The `multi_class` argument has been deprecated and renamed to `multi_label`. `multi_class` will be removed in a future version of Transformers.\n",
      "18it [23:42, 84.49s/it]The `multi_class` argument has been deprecated and renamed to `multi_label`. `multi_class` will be removed in a future version of Transformers.\n",
      "19it [25:36, 93.36s/it]The `multi_class` argument has been deprecated and renamed to `multi_label`. `multi_class` will be removed in a future version of Transformers.\n",
      "20it [27:03, 91.49s/it]The `multi_class` argument has been deprecated and renamed to `multi_label`. `multi_class` will be removed in a future version of Transformers.\n",
      "21it [28:15, 85.73s/it]The `multi_class` argument has been deprecated and renamed to `multi_label`. `multi_class` will be removed in a future version of Transformers.\n",
      "22it [29:49, 88.16s/it]The `multi_class` argument has been deprecated and renamed to `multi_label`. `multi_class` will be removed in a future version of Transformers.\n",
      "23it [31:13, 86.81s/it]The `multi_class` argument has been deprecated and renamed to `multi_label`. `multi_class` will be removed in a future version of Transformers.\n",
      "24it [32:33, 84.91s/it]The `multi_class` argument has been deprecated and renamed to `multi_label`. `multi_class` will be removed in a future version of Transformers.\n",
      "25it [33:56, 84.32s/it]The `multi_class` argument has been deprecated and renamed to `multi_label`. `multi_class` will be removed in a future version of Transformers.\n",
      "26it [35:39, 89.90s/it]The `multi_class` argument has been deprecated and renamed to `multi_label`. `multi_class` will be removed in a future version of Transformers.\n",
      "27it [37:26, 94.91s/it]The `multi_class` argument has been deprecated and renamed to `multi_label`. `multi_class` will be removed in a future version of Transformers.\n",
      "28it [39:00, 94.53s/it]The `multi_class` argument has been deprecated and renamed to `multi_label`. `multi_class` will be removed in a future version of Transformers.\n",
      "29it [40:20, 90.43s/it]The `multi_class` argument has been deprecated and renamed to `multi_label`. `multi_class` will be removed in a future version of Transformers.\n",
      "30it [41:52, 83.74s/it]\n"
     ]
    }
   ],
   "source": [
    "clusters = [['ultimately', 'quick', 'expensive', 'whilst', 'highly', 'early', 'ethical', 'personal', 'end', 'radically', 'legal', 'clarity'], ['payment', 'agency', 'rental', 'compensation', 'accident', 'cost', 'injury', 'medical', 'insurer', 'insurance'], ['claim', 'approach', 'deal', 'provide', 'attention', 'automate', 'customer', 'process', 'interresolve', 'work', 'solution', 'car', 'new', 'inefficient', 'bypass', 'cut']]\n",
    "\n",
    "clusters = [' '.join(x) for x in clusters]\n",
    "#sequence_to_classify = clusters[1] + clusters[2]\n",
    "sequence_to_classify = startups['cb_description'][0]\n",
    "candidate_labels = industry_data['keywords'].str.lower().tolist()\n",
    "candidate_labels = [x for x in candidate_labels if x != 'nan']\n",
    "candidate_labels = list(set(candidate_labels))\n",
    "\n",
    "\n",
    "results = []\n",
    "for i, row in tqdm(startups.head(30).iterrows()):\n",
    "    res = classifier(row['cb_description'], candidate_labels, multi_class=True)\n",
    "\n",
    "    industry1 = industry_data[industry_data['keywords'].str.lower() == res['labels'][0]]['industry']\n",
    "    industry2 = industry_data[industry_data['keywords'].str.lower() == res['labels'][1]]['industry']\n",
    "    industry3 = industry_data[industry_data['keywords'].str.lower() == res['labels'][2]]['industry']\n",
    "\n",
    "    score1 = res['scores'][0]\n",
    "    score2 = res['scores'][1]\n",
    "    score3 = res['scores'][2]\n",
    "\n",
    "    result = {\n",
    "        'sequence': row['cb_description'],\n",
    "        'industry1': industry1.values[0],\n",
    "        'industry2': industry2.values[0],\n",
    "        'industry3': industry3.values[0],\n",
    "        'score1': score1,\n",
    "        'score2': score2,\n",
    "        'score3': score3\n",
    "    }\n",
    "\n",
    "    results.append(result)\n",
    "\n",
    "df = pd.DataFrame(results)\n",
    "\n",
    "\n"
   ],
   "metadata": {
    "collapsed": false,
    "ExecuteTime": {
     "start_time": "2023-05-08T15:04:09.763686Z",
     "end_time": "2023-05-08T15:46:02.118641Z"
    }
   }
  },
  {
   "cell_type": "code",
   "execution_count": 19,
   "outputs": [],
   "source": [
    "df.to_csv(r'C:\\Users\\imran\\DataspellProjects\\WalidCase\\data\\tagged\\clustered_with_spacy_engineering/oneshotclass_30_records_nouns_adjectives_industryv1')"
   ],
   "metadata": {
    "collapsed": false,
    "ExecuteTime": {
     "start_time": "2023-05-09T12:29:16.528484Z",
     "end_time": "2023-05-09T12:29:16.601889Z"
    }
   }
  },
  {
   "cell_type": "code",
   "execution_count": 104,
   "outputs": [
    {
     "data": {
      "text/plain": "{'sequence': 'interresolve radically new approach deal car accident personal injury claim highly automate process work insurer car rental agency bypass expensive inefficient legal process interresolve ethical solution end customer provide early medical attention clarity claim quick payment compensation whilst ultimately cut car insurance cost',\n 'labels': ['insurtech platforms, claims automation, p2p insurance, insurance comparison, microinsurance, usage-based insurance, parametric insurance, digital brokerage, risk analytics, insurtech partnerships',\n  'task automation, time tracking, team collaboration, process optimization, productivity tools, remote work, time-saving techniques, performance improvement, personal productivity',\n  'querying, olap, drill-down analysis, performance metrics, scorecards, bi tools, self-service bi, data lineage, real-time analytics, report automation',\n  'ev charging, charge stations, grid integration, battery technology, power conversion, electric drivetrain, clean transportation, electrified infrastructure, electric powertrains',\n  'stereolithography, selective laser sintering, fused deposition modeling, digital light processing, 3d bioprinting, 3d modeling software, layer-by-layer printing, 3d printer materials, build volume, post-processing',\n  'cutting-edge technology, groundbreaking research, machine intelligence, quantum tech, nanofabrication, bioengineering, advanced materials, autonomous systems, photonic devices, disruptive innovations',\n  'statistical analysis, data exploration, correlation analysis, data-driven decision making, descriptive analytics, prescriptive analytics, data modeling, cohort analysis, segmentation, data transformation',\n  'aml/kyc compliance, regulatory reporting, risk assessment, data aggregation, regulatory sandbox, financial surveillance, fraud detection, legal entity identifiers, transaction monitoring, stress testing',\n  'bpa, rpa, automated systems, ai-driven automation, smart manufacturing, process optimization, business process automation, home automation, industrial automation',\n  'corporate social responsibility, social enterprise, impact investing, sustainable development, environmental justice, community development, capacity building, social innovation, public-private partnerships, social entrepreneurship',\n  'real-time communication, chat applications, video conferencing, audio conferencing, web conferencing, email, instant messaging, communication apis, social networking, enterprise communication',\n  'iot platforms, connected sensors, wireless communication, iot data management, device integration, iot security, edge computing, real-time analytics, machine-to-machine communication, iot applications',\n  'robotic systems, ai-powered robots, swarm robotics, collaborative robots, drones, exoskeletons, teleoperation, autonomous navigation, haptic feedback',\n  'geoanalytics, location intelligence, geofencing, cartography, spatial data, location tracking, mobile location, positioning systems, routing algorithms, map services',\n  \"quantum bits, qubit manipulation, quantum entanglement, quantum superposition, shor's algorithm, quantum key distribution, decoherence, quantum annealing, quantum error correction, quantum gate\",\n  'mapreduce, spark, data clustering, nosql databases, data ingestion, real-time processing, batch processing, parallel processing, data partitioning, data redundancy',\n  '5g radio access network, millimeter wave, 5g small cells, 5g core network, 5g network slicing, massive mimo, beamforming, 5g network deployment, 5g use cases, 5g testing and validation',\n  'cloud data storage, virtual servers, cloud networking, infrastructure as a service, resource allocation, elastic infrastructure, cloud stack, managed services, private cloud',\n  'connected virtual spaces, digital assets, decentralized platforms, virtual economies, avatar creation, social vr, virtual experiences, digital governance, metaverse development',\n  'intelligent transportation systems, smart grid technology, urban iot, waste management solutions, smart water networks, city-scale connectivity, public space optimization, sustainable infrastructure, asset management, e-governance',\n  'smart materials, conductive polymers, advanced ceramics, shape-memory alloys, biodegradable plastics, self-healing materials, metamaterials, 3d printing materials, high-performance textiles, material characterization',\n  'data backup, storage architecture, data retention, archiving, storage hardware, nas, san, object storage, data protection, storage scalability',\n  'strategic sourcing, e-procurement, vendor management, spend analysis, procurement analytics, cost reduction, supply risk, tendering, total cost of ownership, contract lifecycle management',\n  'image analysis, pattern recognition, convolutional neural networks, machine vision, scene understanding, visual computing, gesture recognition, biometrics, video processing',\n  'neural style transfer, variational autoencoders, text generation, image synthesis, generative models, creative ai, data generation, unsupervised learning, artistic applications',\n  'driverless cars, autonomous navigation, obstacle detection, machine learning in driving, vehicle control algorithms, mapping for autonomous vehicles, adas systems, autonomous fleet management, vehicle-to-infrastructure communication, human-machine interfaces',\n  \"fertility tracking, hormonal health, menstrual care products, women's sexual health, pregnancy support, breastfeeding support, women's health diagnostics, intimate care, women's health platforms, gynecological health\",\n  'distributed teams, virtual workspaces, digital nomads, remote collaboration, workforce transformation, online training, reskilling, flexible work arrangements, telecommuting',\n  'fog computing, low latency computing, edge processing, localized data, edge analytics, edge networks, distributed data, real-time insights, edge servers',\n  'iiot monitoring, industrial data analytics, remote asset management, industrial networking, industrial iot security, manufacturing automation, production line optimization, smart logistics, real-time process control, digital transformation',\n  'iot sensors, smart appliances, mobile integration, data exchange, smart security, home energy management, wireless automation, remote control, wearable devices, intelligent lighting',\n  'friendship networks, professional networking, photo sharing, video sharing, ephemeral messaging, location-based networks, interest-based communities, social gaming, virtual events, social network analytics',\n  'immersive experiences, ar glasses, vr headsets, holographic displays, 3d modeling, virtual environments, digital twins, xr, user interaction, virtual simulations',\n  'multi-modal transportation, micro-mobility, mobility-as-a-service, on-demand transit, car-sharing platforms, last-mile connectivity, vehicle-to-grid integration, electric scooter sharing, pedestrian-centric urban design, intermodal transport',\n  'visual hierarchy, color theory, wireframing, mockups, responsive design, design thinking, grid systems, design patterns, user research, interaction design',\n  'digital health platforms, telemedicine services, clinical data management, remote diagnostics, population health management, home care technology, patient engagement tools, health information exchange, ai in healthcare, personalized medicine',\n  'digital journalism, content marketing, media monitoring, video production, editorial strategy, podcasting, media innovation, native advertising, branded content, media planning',\n  'smart lighting, home energy monitoring, intelligent hvac, smart security systems, remote home access, wireless home networking, voice-controlled assistants, home automation hubs, smart home protocols, connected entertainment',\n  'coding environment, development frameworks, sdk, continuous integration, git, code editor, build tools, debugging tools, collaboration tools, code refactoring',\n  'advanced manufacturing, industrial automation systems, machine vision, manufacturing execution systems, programmable logic controllers, industrial robots, factory floor optimization, smart maintenance, industrial cybersecurity, digital manufacturing',\n  'online memorials, funeral planning, digital estate management, death care services, grief support, eco-friendly burials, funeral industry innovation, end-of-life documentation, legacy preservation, green cemeteries',\n  'battery systems, energy storage solutions, flywheel, pumped hydro, compressed air energy storage, redox flow batteries, energy storage integration, grid flexibility, peak shaving',\n  'storage facility, warehouse operations, inventory control, order fulfillment, secure storage, storage infrastructure, climate-controlled storage, document storage, warehouse management system, pallet storage',\n  'functional genomics, gene expression, epigenomics, next-generation sequencing, genome assembly, gene editing, genomic medicine, gene regulation, genomics data analysis, genomic markers',\n  'post-combustion capture, pre-combustion capture, oxy-fuel combustion, carbon capture and utilization, carbon dioxide removal, enhanced oil recovery, geological storage, carbon mineralization, carbon credit, carbon capture membrane',\n  'physical security, biometric authentication, video surveillance, perimeter security, security guards, critical infrastructure protection, access badges, intrusion alarms, visitor management, asset tracking',\n  'automated market makers, flash loans, governance tokens, defi protocols, wrapped tokens, decentralized exchanges (dex), staking, synthetic assets, lending platforms, oracles',\n  'blockchain protocol, hash function, proof-of-work, proof-of-stake, consensus mechanism, permissioned blockchain, permissionless blockchain, sidechains, hashing, merkle tree',\n  'applicant tracking, onboarding, workforce planning, learning management, employee retention, succession planning, employee recognition, labor law compliance, time and attendance, workplace culture',\n  'intestinal microbiota, intestinal ecology, gut microbiome diversity, gut metabolites, gut homeostasis, gut inflammation, microbiome therapeutics, gut-brain axis, short-chain fatty acids, enteric bacteria, dysbiosis, gut barrier, fecal microbiota transplantation, metabolomics, host-microbe interaction',\n  'creator tools, monetization strategies, brand partnerships, livestreaming, content distribution, social commerce, creator communities, digital merchandise, content curation, fan engagement',\n  'mindfulness practices, self-improvement, emotional regulation, life satisfaction, coping strategies, personal development, well-being assessments, happiness research, gratitude practice, mental wellness tools',\n  'metadata management, data lineage, data catalog, data stewardship, data curation, data lakehouse, data virtualization, data deduplication, data profiling, data retention',\n  'content delivery network, network function virtualization, data center, optical networking, network topology, ethernet, vpn, mpls, traffic management, network architecture',\n  'bioenergy with carbon capture, enhanced weathering, ocean fertilization, carbon mineralization, afforestation, blue carbon, soil carbon sequestration, carbon capture technology, carbon offset, carbon markets',\n  'nanoengineering, nanofabrication, atom-sized particles, nanotubes, nanobiotechnology, quantum mechanics, molecular machines, bottom-up assembly, nanoelectronics, nanophotonics',\n  'tourist attractions, lodging, reservation systems, travel planning, adventure tourism, ota, experiential travel, hotel industry, itinerary management, holiday packages',\n  'drug discovery, therapeutics, biotechnology, pharmacology, genomics, bioinformatics, disease modeling, systems biology, bioprocessing, molecular medicine, biomedical research, molecular diagnostics, medical imaging, tissue engineering, regenerative medicine, cell culture, biomaterials, clinical trials, proteomics, immunology',\n  'psychedelic-assisted therapy, microdosing, mental health treatments, psychedelic research, neuropharmacology, set and setting, entheogens, consciousness exploration, integrative medicine, psychedelic policy reform',\n  'legal research, intellectual property management, legal billing, regulatory compliance, e-signature, practice management software, legal process outsourcing, legal document automation, litigation analytics, client intake',\n  'mobile applications, mobile devices, mobile operating systems, mobile content, mobile commerce, location-based services, mobile gaming, mobile security, mobile user experience, mobile data',\n  'cloud-based services, iaas, paas, saas, cloud migration, data center virtualization, multi-cloud, cloud-native applications, data redundancy, cloud-based architecture',\n  'supply chain visibility, warehouse automation, order management systems, logistics optimization, predictive analytics, trade compliance, real-time tracking, distribution network design, reverse logistics, supply chain risk management',\n  'real estate tech, smart property, tenant management, proptech platforms, digital real estate, building automation, real estate analytics, property investment tools, virtual property viewing',\n  'oquaonic systems, marine technology, ocean sensors, underwater robotics, marine biology, ocean energy, maritime surveillance, marine pollution, ocean monitoring, seafloor mapping',\n  'multi-channel retail, in-store experience, product display, inventory optimization, point-of-sale system, store layout, merchandising strategy, retail supply chain, shop management, store branding',\n  'power grid management, electrical transmission, distributed energy resources, grid modernization, energy network, grid reliability, utility operations, load balancing, smart meters',\n  'photovoltaic, wind turbine, hydroelectric, tidal energy, biofuel conversion, energy storage, combined heat and power, energy grid, biomass, energy transmission',\n  'product life extension, circular supply chain, resource recovery, sharing economy, cradle-to-cradle, industrial ecology, circular business models, regenerative design, closed-loop systems, waste hierarchy',\n  'additive manufacturing, subtractive manufacturing, assembly line, computer numerical control, lean manufacturing, six sigma, industrial robotics, factory automation, process optimization, digital twin technology',\n  'payment settlement, e-wallet, contactless payment, online transactions, merchant services, payment security, financial technology, digital currency, cross-border payments, transaction authentication',\n  'dietary supplements, probiotics, prebiotics, nutraceutical formulation, meal replacements, food biochemistry, food fortification, nutrigenetics, specialized diets, food allergy management',\n  'search algorithms, query expansion, search personalization, search filters, web crawlers, search engine optimization, faceted search, latent semantic indexing, metadata, clustering algorithms',\n  'carrier services, satellite communication, fixed-line network, mobile virtual network operator, last mile connectivity, telecom towers, telecom billing, submarine cables, backhaul, network management',\n  'salesforce automation, customer segmentation, prospect nurturing, sales enablement, contact management, deal tracking, proposal generation, customer support, upselling, cross-selling',\n  'ic design, microelectronics, silicon wafer, mosfet, chip manufacturing, semiconductor substrate, process technology, memory chips, electronic devices, photolithography',\n  'email marketing, marketing attribution, data-driven marketing, omnichannel marketing, conversion rate optimization, mobile marketing, content personalization, marketing performance, web analytics, audience targeting',\n  'application security, data breach prevention, secure coding, security architecture, identity management, risk assessment, penetration testing, security awareness training, incident response, data loss prevention',\n  'api design, restful services, api versioning, api economy, api management, api security, api testing, api documentation, api lifecycle, api integration',\n  'online transactions, digital retail, e-shopping, checkout, shipping solutions, mobile purchasing, e-commerce personalization, virtual storefront, order processing, last-mile delivery',\n  'ridesharing, home-sharing, coworking, crowdfunding, shared mobility, on-demand services, asset-light, micro-entrepreneur, collaborative workspace, circular economy',\n  'wildlife corridors, habitat connectivity, species recovery, invasive species control, ecosystem services, marine protected areas, landscape ecology, conservation biology, rewilding, adaptive management',\n  'tactical communications, military vehicles, unmanned aerial systems, electronic warfare, defense procurement, ballistic missile defense, intelligence gathering, force protection, military simulation, c4isr',\n  'garments, clothing, apparel, fashion design, haute couture, fabrics, eco-friendly fashion, fashion retail, style forecasting, e-tail, wearable technology, fashion accessories',\n  'microcredit, financial literacy, community development, social entrepreneurship, capacity building, income generation, skills development, financial access, economic mobility, financial empowerment',\n  'low-carbon technologies, green hydrogen, climate adaptation, energy conservation, environmental monitoring, sustainable agriculture, clean air solutions, resource optimization, sustainable urban planning, green chemistry',\n  'diagnostic imaging, in-vitro diagnostics, telehealth platforms, electronic health records, implantable devices, medical robotics, surgical navigation, wearable medical devices, regenerative medicine, patient monitoring systems',\n  'ad exchange, real-time bidding, ad server, click-through rate, ad fraud, viewability, native advertising, ad verification, ad placement, cost per action',\n  'energy-saving technologies, building performance, energy optimization, demand-side management, green construction, efficient lighting, hvac efficiency, energy-efficient appliances, home energy assessment',\n  'mass transit systems, freight transportation, intermodal shipping, urban mobility solutions, public transport networks, vehicle connectivity, smart parking, traffic management, ride-hailing services, green transportation',\n  'digital banking, online lending, mobile payments, peer-to-peer lending, financial services innovation, robo-advisors, insurtech, regtech, financial data analytics',\n  'electronics manufacturing, computing hardware, gadget, cpu, chip fabrication, circuit board, input/output devices, storage solutions, firmware, hardware components',\n  'supply chain management, warehouse automation, freight forwarding, cargo management, order tracking, last-mile delivery, parcel handling, express courier, route optimization, fleet management',\n  'digital education, e-learning platforms, online tutoring, virtual learning environments, educational apps, digital textbooks, learning analytics, remote learning, skills training',\n  'secure communication, cryptography, network security, endpoint protection, advanced persistent threats, honeypots, security information and event management, zero-day exploits, phishing, sandboxing',\n  'solar thermal, wave energy, electric vehicle charging, green building, smart grid, energy management systems, anaerobic digestion, water purification, air quality monitoring, eco-friendly packaging',\n  \"early childhood education, child safety products, family communication tools, parenting resources, children's health, child tracking devices, family entertainment, baby care, parental support, child-friendly tech\",\n  'preventive medicine, chronic disease management, healthcare delivery, telemedicine, patient experience, medical diagnostics, healthcare technology, home care, health informatics',\n  'neurophysiology, neurobiology, cognitive neuroscience, neuroinformatics, neuroprosthetics, neurodevelopment, brain mapping, neural circuits, synaptic plasticity, brain disorders',\n  'aging biology, lifespan extension, rejuvenation therapies, gerontology, age-related biomarkers, aging pathways, geroprotectors, healthy aging, epigenetics of aging, longevity interventions, senescence, telomeres',\n  'cloud management, continuous integration, continuous deployment, autoscaling, performance monitoring, configuration management, cloud-native development, kubernetes, cloud security',\n  'media production, video platforms, audio engineering, content delivery, live streaming, media codecs, audio recognition, video analytics, audio processing, video storage',\n  'interplanetary file system (ipfs), decentralized autonomous organizations (daos), content-addressable storage, ethereum virtual machine (evm), zero-knowledge proofs, layer 2 solutions, decentralized dns, swarm intelligence',\n  'internal combustion engine, hybrid vehicles, vehicle electrification, automotive engineering, telematics, in-vehicle infotainment, automotive safety, car manufacturing, vehicle-to-vehicle communication, automotive design',\n  'sexual education, intimacy enhancement, sexual health resources, pleasure products, sexual wellness, adult entertainment, consent education, sex-positive apps, erotic art, sexual performance',\n  'data center, content delivery network (cdn), data replication, fault tolerance, backup and recovery, latency reduction, network optimization, hybrid cloud, virtualization, high availability',\n  'altcoins, crypto mining, cold storage, hot wallet, digital asset exchange, initial coin offering (ico), tokenomics, hashing power, non-fungible tokens (nfts), digital signatures',\n  'space systems, space communications, satellite technology, space missions, astrophysics, space propulsion, space situational awareness, lunar exploration, deep space, spaceflight',\n  'cosmeceuticals, skin treatments, makeup application, hair styling, self-care products, natural cosmetics, cosmetic surgery, beauty services, makeup tools, clean beauty',\n  'competitive gaming, esports leagues, live streaming, gaming tournaments, esports teams, game broadcasting, player rankings, esports viewership, game strategy, esports events',\n  'food processing, culinary arts, food preservation, food quality, agri-food, craft beverages, foodservice, food innovation, gastronomy, food distribution',\n  'live events, on-demand streaming, media production, venue management, ticketing, talent scouting, multimedia storytelling, content licensing, entertainment analytics, virtual reality experiences',\n  'physical activity, sports coaching, wellness programs, health tracking, wearable fitness, sports equipment, personal training, rehabilitation, sports medicine, sports nutrition',\n  'game platforms, indie game development, cloud gaming, game engines, player communities, interactive storytelling, game monetization models, casual games, gaming hardware',\n  'chemical processes, advanced materials, specialty chemicals, chemical safety, chemical analysis, chemical production, chemical engineering, catalysts, chemical recycling',\n  'data center facilities, server farms, it infrastructure, cooling systems, power distribution, network redundancy, green data centers, colocation services, high-availability',\n  'online recruitment, extremist propaganda, radical ideologies, lone-actor terrorism, countering violent extremism, extremist subcultures, echo chambers, internet censorship, de-radicalization, extremist financing',\n  'information warfare, conspiracy theories, cognitive hacking, online echo chambers, disinformation campaigns, troll farms, media literacy, confirmation bias, fact-checking initiatives, trust in media'],\n 'scores': [0.5340990424156189,\n  0.2110290825366974,\n  0.17066243290901184,\n  0.16976360976696014,\n  0.11243140697479248,\n  0.10100739449262619,\n  0.06736158579587936,\n  0.05168401822447777,\n  0.04558320716023445,\n  0.042120713740587234,\n  0.03340783342719078,\n  0.029626179486513138,\n  0.029125116765499115,\n  0.025316845625638962,\n  0.018418896943330765,\n  0.016510942950844765,\n  0.015685640275478363,\n  0.014299905858933926,\n  0.014215323142707348,\n  0.013970501720905304,\n  0.013653482310473919,\n  0.012257211841642857,\n  0.011625245213508606,\n  0.010845097713172436,\n  0.010714410804212093,\n  0.010239965282380581,\n  0.00983385555446148,\n  0.008854027837514877,\n  0.008649265393614769,\n  0.008085657842457294,\n  0.007455653976649046,\n  0.007425651419907808,\n  0.007402424234896898,\n  0.007310785353183746,\n  0.007003309670835733,\n  0.006713393609970808,\n  0.006343627814203501,\n  0.006288476288318634,\n  0.006254685577005148,\n  0.006180519703775644,\n  0.005962352268397808,\n  0.005934359040111303,\n  0.005899957846850157,\n  0.005491929594427347,\n  0.005423951894044876,\n  0.005154476035386324,\n  0.005051570013165474,\n  0.00492827408015728,\n  0.00463756313547492,\n  0.004193558823317289,\n  0.003998580388724804,\n  0.00398220494389534,\n  0.003846191568300128,\n  0.0035548496525734663,\n  0.0035312226973474026,\n  0.003487799083814025,\n  0.0034799897111952305,\n  0.003296365262940526,\n  0.0032422561198472977,\n  0.00318234134465456,\n  0.00310530886054039,\n  0.003096170024946332,\n  0.0029759928584098816,\n  0.0029139721300452948,\n  0.0028214510530233383,\n  0.002819966757670045,\n  0.0025330979842692614,\n  0.00250587472692132,\n  0.0024809606838971376,\n  0.0023829222191125154,\n  0.0023412201553583145,\n  0.0023242132738232613,\n  0.002280759159475565,\n  0.0022772490046918392,\n  0.002190425992012024,\n  0.0021508976351469755,\n  0.002106686355546117,\n  0.001955453073605895,\n  0.00186362664680928,\n  0.0017971957568079233,\n  0.0017655293922871351,\n  0.0017589750932529569,\n  0.0017446728888899088,\n  0.0016622488619759679,\n  0.0016217760276049376,\n  0.001608999096788466,\n  0.0016012401320040226,\n  0.00154361582826823,\n  0.0015403118450194597,\n  0.0015215089078992605,\n  0.0014889735030010343,\n  0.0014530073385685682,\n  0.0014432960888370872,\n  0.001439963816665113,\n  0.001367251737974584,\n  0.0013581695966422558,\n  0.0013340613804757595,\n  0.001319527393206954,\n  0.0012673611054196954,\n  0.001267049228772521,\n  0.0011366961989551783,\n  0.0009366503800265491,\n  0.0008811362204141915,\n  0.0008761618519201875,\n  0.0008062061970122159,\n  0.0007806650246493518,\n  0.000749705359339714,\n  0.0007426701486110687,\n  0.0006470303051173687,\n  0.000539211614523083,\n  0.0005306919920258224,\n  0.0005204509943723679,\n  0.0004576011560857296,\n  0.0004282448790036142,\n  0.00034408728242851794,\n  0.0003392540675122291,\n  0.00023820863862056285,\n  4.169687963440083e-05]}"
     },
     "execution_count": 104,
     "metadata": {},
     "output_type": "execute_result"
    }
   ],
   "source": [
    "industry1 = industry_data[industry_data['keywords'].str.lower() == res['labels'][0]]['industry']\n",
    "industry2 = industry_data[industry_data['keywords'].str.lower() == res['labels'][1]]['industry']\n",
    "industry3 = industry_data[industry_data['keywords'].str.lower() == res['labels'][2]]['industry']\n",
    "\n",
    "score1 = res['scores'][0]\n",
    "score2 = res['scores'][1]\n",
    "score3 = res['scores'][2]\n",
    "\n",
    "df = pd.DataFrame({'sequence': [sequence_to_classify], 'industry1': [industry1.values[0]], 'score1': [score1], 'industry2': [industry2.values[0]], 'score2': [score2], 'industry3': [industry3.values[0]], 'score3': [score3]})\n",
    "\n",
    "\n",
    "\n"
   ],
   "metadata": {
    "collapsed": false,
    "ExecuteTime": {
     "start_time": "2023-05-07T19:37:51.965271Z",
     "end_time": "2023-05-07T19:37:52.005231Z"
    }
   }
  },
  {
   "cell_type": "code",
   "execution_count": 107,
   "outputs": [
    {
     "name": "stdout",
     "output_type": "stream",
     "text": [
      "sequence: interresolve radically new approach deal car accident personal injury claim highly automate process work insurer car rental agency bypass expensive inefficient legal process interresolve ethical solution end customer provide early medical attention clarity claim quick payment compensation whilst ultimately cut car insurance cost\n",
      "\n",
      "industry1: InsurTech, score: 0.5340990424156189,\n",
      "industry2: Productivity score: 0.2110290825366974\n",
      "industry3: Business Intelligence, score: 0.17066243290901184\n",
      "\n",
      "Real tags: InsurTech, Automotive, Insurance\n",
      "\n",
      "keyword: insurtech platforms, claims automation, p2p insurance, insurance comparison, microinsurance, usage-based insurance, parametric insurance, digital brokerage, risk analytics, insurtech partnerships, score: 0.5340990424156189,\n",
      "keyword: task automation, time tracking, team collaboration, process optimization, productivity tools, remote work, time-saving techniques, performance improvement, personal productivity score: 0.2110290825366974\n",
      "keyword: querying, olap, drill-down analysis, performance metrics, scorecards, bi tools, self-service bi, data lineage, real-time analytics, report automation, score: 0.17066243290901184\n",
      "\n",
      "\n"
     ]
    }
   ],
   "source": [
    "# find out which keywords are mapped to which industries\n",
    "industry1 = industry_data[industry_data['keywords'].str.lower() == res['labels'][0]]['industry']\n",
    "industry2 = industry_data[industry_data['keywords'].str.lower() == res['labels'][1]]['industry']\n",
    "industry3 = industry_data[industry_data['keywords'].str.lower() == res['labels'][2]]['industry']\n",
    "\n",
    "#print(f\"transformer: bart-large-mnli, industry kws: v1\\n\\nsequence: {res['sequence']}\\n\\ntag 1: {industry1['industry']}, kws: {res['labels'][0]} score: {res['scores'][0]},\\ntag2: {industry2['industry']} kws 2: {res['labels'][1]}, score: {res['scores'][1]}\\ntag3: {industry3['industry']},  kws 3: {res['labels'][2]}, score: {res['scores'][2]}\\n\\nReal tags: InsurTech, Automotive, Insurance\")\n",
    "\n",
    "print(f\"sequence: {res['sequence']}\\n\\nindustry1: {industry1.values[0]}, score: {res['scores'][0]},\\nindustry2: {industry2.values[0]} score: {res['scores'][1]}\\nindustry3: {industry3.values[0]}, score: {res['scores'][2]}\\n\\nReal tags: InsurTech, Automotive, Insurance\\n\\n\"\n",
    "      f\"keyword: {res['labels'][0]}, score: {res['scores'][0]},\\nkeyword: {res['labels'][1]} score: {res['scores'][1]}\\nkeyword: {res['labels'][2]}, score: {res['scores'][2]}\\n\\n\")"
   ],
   "metadata": {
    "collapsed": false,
    "ExecuteTime": {
     "start_time": "2023-05-07T20:08:20.724869Z",
     "end_time": "2023-05-07T20:08:20.744920Z"
    }
   }
  },
  {
   "cell_type": "code",
   "execution_count": 37,
   "outputs": [
    {
     "data": {
      "text/plain": "'InsurTech'"
     },
     "execution_count": 37,
     "metadata": {},
     "output_type": "execute_result"
    }
   ],
   "source": [
    "industry1.values[0]"
   ],
   "metadata": {
    "collapsed": false,
    "ExecuteTime": {
     "start_time": "2023-05-07T16:25:13.667831Z",
     "end_time": "2023-05-07T16:25:13.688665Z"
    }
   }
  },
  {
   "cell_type": "code",
   "execution_count": 7,
   "outputs": [
    {
     "name": "stderr",
     "output_type": "stream",
     "text": [
      "The `multi_class` argument has been deprecated and renamed to `multi_label`. `multi_class` will be removed in a future version of Transformers.\n"
     ]
    }
   ],
   "source": [
    "sequence_to_classify = startups['cb_description'][0]\n",
    "candidate_labels_2 = industry_data['keywords'].str.lower().tolist()\n",
    "candidate_labels_2 = [x for x in candidate_labels_2 if x != 'nan']\n",
    "candidate_labels_2 = list(set(candidate_labels_2))\n",
    "\n",
    "res = classifier(sequence_to_classify, candidate_labels_2, multi_class=True)"
   ],
   "metadata": {
    "collapsed": false,
    "ExecuteTime": {
     "start_time": "2023-05-07T13:24:30.648529Z",
     "end_time": "2023-05-07T13:26:18.861160Z"
    }
   }
  },
  {
   "cell_type": "code",
   "execution_count": 8,
   "outputs": [
    {
     "data": {
      "text/plain": "      id                industry  \\\n0      0                Telecoms   \n1      1                  Mobile   \n2      2          Communications   \n3      3  Network Infrastructure   \n4      4             5G Networks   \n..   ...                     ...   \n113  113             Video/Audio   \n114  114                Genomics   \n115  115               Longevity   \n116  116          Gut Microbiome   \n117  117           Life Sciences   \n\n                                              keywords  \n0    carrier services, satellite communication, fix...  \n1    mobile applications, mobile devices, mobile op...  \n2    real-time communication, chat applications, vi...  \n3    content delivery network, network function vir...  \n4    5G radio access network, millimeter wave, 5G s...  \n..                                                 ...  \n113  media production, video platforms, audio engin...  \n114  functional genomics, gene expression, epigenom...  \n115  aging biology, lifespan extension, rejuvenatio...  \n116  intestinal microbiota, intestinal ecology, gut...  \n117  drug discovery, therapeutics, biotechnology, p...  \n\n[118 rows x 3 columns]",
      "text/html": "<div>\n<style scoped>\n    .dataframe tbody tr th:only-of-type {\n        vertical-align: middle;\n    }\n\n    .dataframe tbody tr th {\n        vertical-align: top;\n    }\n\n    .dataframe thead th {\n        text-align: right;\n    }\n</style>\n<table border=\"1\" class=\"dataframe\">\n  <thead>\n    <tr style=\"text-align: right;\">\n      <th></th>\n      <th>id</th>\n      <th>industry</th>\n      <th>keywords</th>\n    </tr>\n  </thead>\n  <tbody>\n    <tr>\n      <th>0</th>\n      <td>0</td>\n      <td>Telecoms</td>\n      <td>carrier services, satellite communication, fix...</td>\n    </tr>\n    <tr>\n      <th>1</th>\n      <td>1</td>\n      <td>Mobile</td>\n      <td>mobile applications, mobile devices, mobile op...</td>\n    </tr>\n    <tr>\n      <th>2</th>\n      <td>2</td>\n      <td>Communications</td>\n      <td>real-time communication, chat applications, vi...</td>\n    </tr>\n    <tr>\n      <th>3</th>\n      <td>3</td>\n      <td>Network Infrastructure</td>\n      <td>content delivery network, network function vir...</td>\n    </tr>\n    <tr>\n      <th>4</th>\n      <td>4</td>\n      <td>5G Networks</td>\n      <td>5G radio access network, millimeter wave, 5G s...</td>\n    </tr>\n    <tr>\n      <th>...</th>\n      <td>...</td>\n      <td>...</td>\n      <td>...</td>\n    </tr>\n    <tr>\n      <th>113</th>\n      <td>113</td>\n      <td>Video/Audio</td>\n      <td>media production, video platforms, audio engin...</td>\n    </tr>\n    <tr>\n      <th>114</th>\n      <td>114</td>\n      <td>Genomics</td>\n      <td>functional genomics, gene expression, epigenom...</td>\n    </tr>\n    <tr>\n      <th>115</th>\n      <td>115</td>\n      <td>Longevity</td>\n      <td>aging biology, lifespan extension, rejuvenatio...</td>\n    </tr>\n    <tr>\n      <th>116</th>\n      <td>116</td>\n      <td>Gut Microbiome</td>\n      <td>intestinal microbiota, intestinal ecology, gut...</td>\n    </tr>\n    <tr>\n      <th>117</th>\n      <td>117</td>\n      <td>Life Sciences</td>\n      <td>drug discovery, therapeutics, biotechnology, p...</td>\n    </tr>\n  </tbody>\n</table>\n<p>118 rows × 3 columns</p>\n</div>"
     },
     "execution_count": 8,
     "metadata": {},
     "output_type": "execute_result"
    }
   ],
   "source": [
    "industry_data"
   ],
   "metadata": {
    "collapsed": false,
    "ExecuteTime": {
     "start_time": "2023-05-07T13:27:24.015002Z",
     "end_time": "2023-05-07T13:27:24.062570Z"
    }
   }
  },
  {
   "cell_type": "code",
   "execution_count": 10,
   "outputs": [
    {
     "name": "stdout",
     "output_type": "stream",
     "text": [
      "InsurTech Productivity Business Intelligence\n"
     ]
    }
   ],
   "source": [
    "# find out which keywords are mapped to which industries\n",
    "industry1 = industry_data[industry_data['keywords'].str.lower() == res['labels'][0]]\n",
    "industry2 = industry_data[industry_data['keywords'].str.lower() == res['labels'][1]]\n",
    "industry3 = industry_data[industry_data['keywords'].str.lower() == res['labels'][2]]\n",
    "\n",
    "print(industry1['industry'].values[0], industry2['industry'].values[0], industry3['industry'].values[0])"
   ],
   "metadata": {
    "collapsed": false,
    "ExecuteTime": {
     "start_time": "2023-05-07T13:28:25.934884Z",
     "end_time": "2023-05-07T13:28:25.948927Z"
    }
   }
  },
  {
   "cell_type": "code",
   "execution_count": null,
   "outputs": [],
   "source": [],
   "metadata": {
    "collapsed": false
   }
  }
 ],
 "metadata": {
  "kernelspec": {
   "display_name": "Python 3",
   "language": "python",
   "name": "python3"
  },
  "language_info": {
   "codemirror_mode": {
    "name": "ipython",
    "version": 2
   },
   "file_extension": ".py",
   "mimetype": "text/x-python",
   "name": "python",
   "nbconvert_exporter": "python",
   "pygments_lexer": "ipython2",
   "version": "2.7.6"
  }
 },
 "nbformat": 4,
 "nbformat_minor": 0
}
