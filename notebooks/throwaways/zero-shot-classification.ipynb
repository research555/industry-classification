{
 "cells": [
  {
   "cell_type": "code",
   "execution_count": 23,
   "metadata": {
    "collapsed": true,
    "ExecuteTime": {
     "start_time": "2023-05-08T14:05:58.400844Z",
     "end_time": "2023-05-08T14:05:58.409927Z"
    }
   },
   "outputs": [],
   "source": [
    "import pandas as pd\n",
    "# import display\n",
    "from IPython.display import display\n",
    "\n",
    "\n",
    "v1 = pd.read_csv(r'C:\\Users\\imran\\DataspellProjects\\WalidCase\\data\\processed\\industry_dataset_clean.csv', sep='\\t')\n",
    "v2 = pd.read_csv(r'C:\\Users\\imran\\DataspellProjects\\WalidCase\\data\\processed\\GPT4_generated_keywords.csv')\n",
    "v2 = v2[['industry', 'delete']]"
   ]
  },
  {
   "cell_type": "code",
   "execution_count": 24,
   "outputs": [
    {
     "data": {
      "text/plain": "        industry                                           keywords\n0          Neuro  neuroscience, brain, cognition, neurology, syn...\n1    Procurement  purchasing, sourcing, supplier, contract, supp...\n2      GreenTech  renewable energy, solar, wind, biofuel, geothe...\n3  Social Impact  non-profit, community, philanthropy, activism,...\n4        Esports  gaming, competition, professional, tournament,...",
      "text/html": "<div>\n<style scoped>\n    .dataframe tbody tr th:only-of-type {\n        vertical-align: middle;\n    }\n\n    .dataframe tbody tr th {\n        vertical-align: top;\n    }\n\n    .dataframe thead th {\n        text-align: right;\n    }\n</style>\n<table border=\"1\" class=\"dataframe\">\n  <thead>\n    <tr style=\"text-align: right;\">\n      <th></th>\n      <th>industry</th>\n      <th>keywords</th>\n    </tr>\n  </thead>\n  <tbody>\n    <tr>\n      <th>0</th>\n      <td>Neuro</td>\n      <td>neuroscience, brain, cognition, neurology, syn...</td>\n    </tr>\n    <tr>\n      <th>1</th>\n      <td>Procurement</td>\n      <td>purchasing, sourcing, supplier, contract, supp...</td>\n    </tr>\n    <tr>\n      <th>2</th>\n      <td>GreenTech</td>\n      <td>renewable energy, solar, wind, biofuel, geothe...</td>\n    </tr>\n    <tr>\n      <th>3</th>\n      <td>Social Impact</td>\n      <td>non-profit, community, philanthropy, activism,...</td>\n    </tr>\n    <tr>\n      <th>4</th>\n      <td>Esports</td>\n      <td>gaming, competition, professional, tournament,...</td>\n    </tr>\n  </tbody>\n</table>\n</div>"
     },
     "metadata": {},
     "output_type": "display_data"
    }
   ],
   "source": [
    "display(v1.head())"
   ],
   "metadata": {
    "collapsed": false,
    "ExecuteTime": {
     "start_time": "2023-05-08T14:05:59.447539Z",
     "end_time": "2023-05-08T14:05:59.465272Z"
    }
   }
  },
  {
   "cell_type": "code",
   "execution_count": 25,
   "outputs": [],
   "source": [
    "#merge but keep only the delete column from v2\n",
    "v1_2 = pd.merge(v1, v2, on='industry', how='left')"
   ],
   "metadata": {
    "collapsed": false,
    "ExecuteTime": {
     "start_time": "2023-05-08T14:06:01.080502Z",
     "end_time": "2023-05-08T14:06:01.093620Z"
    }
   }
  },
  {
   "cell_type": "code",
   "execution_count": 26,
   "outputs": [],
   "source": [
    "v1_2.dropna(inplace=True)\n"
   ],
   "metadata": {
    "collapsed": false,
    "ExecuteTime": {
     "start_time": "2023-05-08T14:06:02.116023Z",
     "end_time": "2023-05-08T14:06:02.132576Z"
    }
   }
  },
  {
   "cell_type": "code",
   "execution_count": 29,
   "outputs": [],
   "source": [
    "v1_2 = v1_2[v1_2['delete'] == 0]\n",
    "v1_2.drop(columns='delete', inplace=True)"
   ],
   "metadata": {
    "collapsed": false,
    "ExecuteTime": {
     "start_time": "2023-05-08T14:06:30.092663Z",
     "end_time": "2023-05-08T14:06:30.111981Z"
    }
   }
  },
  {
   "cell_type": "code",
   "execution_count": 31,
   "outputs": [],
   "source": [
    "v1_2.to_csv(r'C:\\Users\\imran\\DataspellProjects\\WalidCase\\data\\processed\\industry_dataset_clean_some_deleted.csv', sep='\\t', index=False)"
   ],
   "metadata": {
    "collapsed": false,
    "ExecuteTime": {
     "start_time": "2023-05-08T14:07:20.412075Z",
     "end_time": "2023-05-08T14:07:20.436820Z"
    }
   }
  }
 ],
 "metadata": {
  "kernelspec": {
   "display_name": "Python 3",
   "language": "python",
   "name": "python3"
  },
  "language_info": {
   "codemirror_mode": {
    "name": "ipython",
    "version": 2
   },
   "file_extension": ".py",
   "mimetype": "text/x-python",
   "name": "python",
   "nbconvert_exporter": "python",
   "pygments_lexer": "ipython2",
   "version": "2.7.6"
  }
 },
 "nbformat": 4,
 "nbformat_minor": 0
}
