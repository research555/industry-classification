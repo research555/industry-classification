{
 "cells": [
  {
   "cell_type": "code",
   "execution_count": 111,
   "outputs": [],
   "source": [
    "import pandas as pd\n",
    "from sklearn.feature_extraction.text import TfidfVectorizer\n",
    "from sklearn.cluster import KMeans\n",
    "from nltk.corpus import stopwords\n",
    "import nltk\n",
    "\n",
    "raw_df = pd.read_csv(r'C:\\Users\\imran\\DataspellProjects\\WalidCase\\data\\processed\\industry_dataset_clean - Copy.csv', delimiter='\\t', encoding='utf-8)')\n"
   ],
   "metadata": {
    "collapsed": false,
    "ExecuteTime": {
     "start_time": "2023-05-04T12:53:59.177949Z",
     "end_time": "2023-05-04T12:53:59.196357Z"
    }
   }
  },
  {
   "cell_type": "code",
   "execution_count": 112,
   "outputs": [
    {
     "data": {
      "text/plain": "Empty DataFrame\nColumns: [industry, keywords]\nIndex: []",
      "text/html": "<div>\n<style scoped>\n    .dataframe tbody tr th:only-of-type {\n        vertical-align: middle;\n    }\n\n    .dataframe tbody tr th {\n        vertical-align: top;\n    }\n\n    .dataframe thead th {\n        text-align: right;\n    }\n</style>\n<table border=\"1\" class=\"dataframe\">\n  <thead>\n    <tr style=\"text-align: right;\">\n      <th></th>\n      <th>industry</th>\n      <th>keywords</th>\n    </tr>\n  </thead>\n  <tbody>\n  </tbody>\n</table>\n</div>"
     },
     "execution_count": 112,
     "metadata": {},
     "output_type": "execute_result"
    }
   ],
   "source": [
    "#show rows that have na\n",
    "raw_df[raw_df.isna().any(axis=1)]"
   ],
   "metadata": {
    "collapsed": false,
    "ExecuteTime": {
     "start_time": "2023-05-04T12:54:00.408665Z",
     "end_time": "2023-05-04T12:54:00.430467Z"
    }
   }
  },
  {
   "cell_type": "code",
   "execution_count": 128,
   "outputs": [
    {
     "name": "stderr",
     "output_type": "stream",
     "text": [
      "[nltk_data] Downloading package stopwords to\n",
      "[nltk_data]     C:\\Users\\imran\\AppData\\Roaming\\nltk_data...\n",
      "[nltk_data]   Package stopwords is already up-to-date!\n",
      "C:\\Users\\imran\\.conda\\envs\\myenv\\lib\\site-packages\\sklearn\\cluster\\_kmeans.py:870: FutureWarning: The default value of `n_init` will change from 10 to 'auto' in 1.4. Set the value of `n_init` explicitly to suppress the warning\n",
      "  warnings.warn(\n"
     ]
    }
   ],
   "source": [
    "import pandas as pd\n",
    "from sklearn.feature_extraction.text import TfidfVectorizer\n",
    "from sklearn.cluster import KMeans, AgglomerativeClustering, DBSCAN\n",
    "from nltk.corpus import stopwords\n",
    "import nltk\n",
    "\n",
    "\n",
    "# Download stopwords from NLTK\n",
    "nltk.download('stopwords')\n",
    "\n",
    "# Set up the TfidfVectorizer\n",
    "vectorizer = TfidfVectorizer()\n",
    "X = vectorizer.fit_transform(raw_df['keywords'])\n",
    "\n",
    "# Choose the number of clusters (categories)\n",
    "num_clusters = 20\n",
    "\n",
    "# Apply K-means clustering\n",
    "km = KMeans(n_clusters=num_clusters, random_state=0).fit(X)\n",
    "\n",
    "# Assign the cluster labels to the DataFrame\n",
    "df = raw_df.copy()\n",
    "df['category'] = km.labels_\n",
    "\n",
    "# Rename the columns as requested\n",
    "df.columns = ['industry', 'keywords', 'category']\n"
   ],
   "metadata": {
    "collapsed": false,
    "ExecuteTime": {
     "start_time": "2023-05-04T13:06:13.542283Z",
     "end_time": "2023-05-04T13:06:13.797745Z"
    }
   }
  },
  {
   "cell_type": "code",
   "execution_count": 129,
   "outputs": [],
   "source": [
    "df = df[['category', 'industry', 'keywords']]\n",
    "df = df.sort_values(by=['category'])"
   ],
   "metadata": {
    "collapsed": false,
    "ExecuteTime": {
     "start_time": "2023-05-04T13:06:15.385047Z",
     "end_time": "2023-05-04T13:06:15.432503Z"
    }
   }
  },
  {
   "cell_type": "code",
   "execution_count": 130,
   "outputs": [
    {
     "data": {
      "text/plain": "     category         industry  \\\n30          0   Future of Work   \n44          0  Developer Tools   \n80          0        API-First   \n69          1         Telecoms   \n111         1           Mobile   \n..        ...              ...   \n106        18        Metaverse   \n5          19         Genomics   \n3          19          BioTech   \n2          19        Longevity   \n0          19    Life Sciences   \n\n                                              keywords  \n30   remote work, collaboration, automation, gig ec...  \n44   software development, IDE, API, code review, v...  \n80   application programming interface, REST, Graph...  \n69   telecommunications, mobile network, broadband,...  \n111  smartphone, app, mobile technology, wireless, ...  \n..                                                 ...  \n106  virtual world, augmented reality, virtual real...  \n5    whole-genome sequencing, comparative genomics,...  \n3    recombinant DNA, gene cloning, monoclonal anti...  \n2    senescence, caloric restriction, telomeres, mi...  \n0    biomedical research, molecular diagnostics, me...  \n\n[120 rows x 3 columns]",
      "text/html": "<div>\n<style scoped>\n    .dataframe tbody tr th:only-of-type {\n        vertical-align: middle;\n    }\n\n    .dataframe tbody tr th {\n        vertical-align: top;\n    }\n\n    .dataframe thead th {\n        text-align: right;\n    }\n</style>\n<table border=\"1\" class=\"dataframe\">\n  <thead>\n    <tr style=\"text-align: right;\">\n      <th></th>\n      <th>category</th>\n      <th>industry</th>\n      <th>keywords</th>\n    </tr>\n  </thead>\n  <tbody>\n    <tr>\n      <th>30</th>\n      <td>0</td>\n      <td>Future of Work</td>\n      <td>remote work, collaboration, automation, gig ec...</td>\n    </tr>\n    <tr>\n      <th>44</th>\n      <td>0</td>\n      <td>Developer Tools</td>\n      <td>software development, IDE, API, code review, v...</td>\n    </tr>\n    <tr>\n      <th>80</th>\n      <td>0</td>\n      <td>API-First</td>\n      <td>application programming interface, REST, Graph...</td>\n    </tr>\n    <tr>\n      <th>69</th>\n      <td>1</td>\n      <td>Telecoms</td>\n      <td>telecommunications, mobile network, broadband,...</td>\n    </tr>\n    <tr>\n      <th>111</th>\n      <td>1</td>\n      <td>Mobile</td>\n      <td>smartphone, app, mobile technology, wireless, ...</td>\n    </tr>\n    <tr>\n      <th>...</th>\n      <td>...</td>\n      <td>...</td>\n      <td>...</td>\n    </tr>\n    <tr>\n      <th>106</th>\n      <td>18</td>\n      <td>Metaverse</td>\n      <td>virtual world, augmented reality, virtual real...</td>\n    </tr>\n    <tr>\n      <th>5</th>\n      <td>19</td>\n      <td>Genomics</td>\n      <td>whole-genome sequencing, comparative genomics,...</td>\n    </tr>\n    <tr>\n      <th>3</th>\n      <td>19</td>\n      <td>BioTech</td>\n      <td>recombinant DNA, gene cloning, monoclonal anti...</td>\n    </tr>\n    <tr>\n      <th>2</th>\n      <td>19</td>\n      <td>Longevity</td>\n      <td>senescence, caloric restriction, telomeres, mi...</td>\n    </tr>\n    <tr>\n      <th>0</th>\n      <td>19</td>\n      <td>Life Sciences</td>\n      <td>biomedical research, molecular diagnostics, me...</td>\n    </tr>\n  </tbody>\n</table>\n<p>120 rows × 3 columns</p>\n</div>"
     },
     "execution_count": 130,
     "metadata": {},
     "output_type": "execute_result"
    }
   ],
   "source": [
    "df"
   ],
   "metadata": {
    "collapsed": false,
    "ExecuteTime": {
     "start_time": "2023-05-04T13:06:16.473525Z",
     "end_time": "2023-05-04T13:06:16.502492Z"
    }
   }
  },
  {
   "cell_type": "code",
   "execution_count": 131,
   "outputs": [],
   "source": [
    "df.to_csv(r'C:\\Users\\imran\\DataspellProjects\\WalidCase\\data\\processed\\industry_dataset_clean_clustered1.tsv', sep='\\t', encoding='utf-8', index=False)"
   ],
   "metadata": {
    "collapsed": false,
    "ExecuteTime": {
     "start_time": "2023-05-04T13:07:43.361768Z",
     "end_time": "2023-05-04T13:07:43.382700Z"
    }
   }
  },
  {
   "cell_type": "code",
   "execution_count": 168,
   "outputs": [
    {
     "name": "stdout",
     "output_type": "stream",
     "text": [
      "0\n",
      "['Future of Work' 'Developer Tools' 'API-First']\n",
      "1\n",
      "['Telecoms' 'Mobile' 'Communications' 'Network Infrastructure'\n",
      " '5G Networks']\n",
      "2\n",
      "['Social Impact' 'Disinformation' 'Extremism' 'Social Networks' 'MarTech'\n",
      " 'Media' 'Sales & CRM' 'Creator Economy' 'Human Resources' 'Entertainment'\n",
      " 'LegalTech' 'AdTech' 'InsurTech']\n",
      "3\n",
      "['Electrification' 'Energy Efficiency' 'Energy Storage'\n",
      " 'Energy Distribution']\n",
      "4\n",
      "['PropTech' 'Productivity']\n",
      "5\n",
      "['GreenTech' 'Carbon Capture' 'Climate Tech/CleanTech' 'Materials'\n",
      " 'Energy Generation' 'Biodiversity' 'Carbon Removal' 'Circular Economy']\n",
      "6\n",
      "['Edge Computing' 'Cloud Computing' 'Cloud Infrastructure' 'Data Centers'\n",
      " 'Cloud Ops' 'Data Storage']\n",
      "7\n",
      "['Death Tech' 'Happiness & Wellbeing' 'MedTech' 'FamilyTech'\n",
      " 'Psychedelics' 'SexTech' 'Sport & Wellness' 'FemTech' 'Nutrition'\n",
      " 'Beauty' 'Food & Beverage' 'Connected Life' 'Health Tech']\n",
      "8\n",
      "['RegTech' 'Industrial IoT' 'Economic Empowerment' 'Industrial Tech'\n",
      " 'Connected Home' 'IoT' 'Manufacturing' '3D Printing']\n",
      "9\n",
      "['Transportation' 'Supply Chains' 'Automotive' 'Autonomous Driving'\n",
      " 'Infrastructure Tech' 'Mobility']\n",
      "10\n",
      "['Data Infrastructure' 'Big Data' 'Analytics' 'Data Management'\n",
      " 'Business Intelligence']\n",
      "11\n",
      "['Fashion' 'Travel' 'Payments' 'E-commerce' 'Physical Storage' 'Logistics'\n",
      " 'Retail']\n",
      "12\n",
      "['Search' 'Cybersecurity' 'Security' 'Defense' 'InfoSec']\n",
      "13\n",
      "['Semiconductors' 'Nano' 'Quantum Computing' 'Deep Tech' 'Hardware'\n",
      " 'AgTech']\n",
      "14\n",
      "['Sharing Economy' 'Blockchain' 'DeFi' 'Design' 'Procurement' 'Crypto'\n",
      " 'Web3']\n",
      "15\n",
      "['Video/Audio' 'OceanTech' 'Healthcare' 'Location Services' 'Space Tech'\n",
      " 'Chemicals' 'Neuro']\n",
      "16\n",
      "['Generative AI' 'Automation' 'Robotics' 'EdTech' 'Computer Vision']\n",
      "18\n",
      "['Esports' 'FinTech' 'AR/MR/VR' 'Gaming' 'Metaverse']\n",
      "19\n",
      "['BioTech' 'Gut Microbiome' 'Longevity' 'Genomics' 'Life Sciences']\n"
     ]
    }
   ],
   "source": [
    "df = pd.read_csv(r'C:\\Users\\imran\\DataspellProjects\\WalidCase\\data\\processed\\industry_dataset_clean_clustered1.tsv', delimiter='\\t', encoding='utf-8')\n",
    "\n",
    "df = df.sort_values(by=['category'])\n",
    "for category in df['category'].unique():\n",
    "    print(category)\n",
    "    print(df[df['category'] == category]['industry'].unique())"
   ],
   "metadata": {
    "collapsed": false,
    "ExecuteTime": {
     "start_time": "2023-05-04T13:49:39.804703Z",
     "end_time": "2023-05-04T13:49:39.845873Z"
    }
   }
  },
  {
   "cell_type": "code",
   "execution_count": 182,
   "outputs": [
    {
     "name": "stdout",
     "output_type": "stream",
     "text": [
      "BioTech: recombinant DNA, gene cloning, monoclonal antibodies, bioprocessing, biosimilars, genome editing, biofuels, regenerative medicine, synthetic biology, translational research\n",
      "Genomics: whole-genome sequencing, comparative genomics, metagenomics, transcriptomics, chromatin immunoprecipitation, gene annotation, genotyping, structural variation, single-cell genomics, chromosomal\n",
      "Gut Microbiome: intestinal microbiota, prebiotics, gut-brain axis, short-chain fatty acids, enteric bacteria, dysbiosis, gut barrier, fecal microbiota transplantation, metabolomics, host-microbe interaction\n",
      "Life Sciences: biomedical research, molecular diagnostics, medical imaging, tissue engineering, regenerative medicine, cell culture, biomaterials, clinical trials, proteomics, immunology\n",
      "Longevity: senescence, caloric restriction, telomeres, mitochondrial function, autophagy, age-related diseases, oxidative stress, metabolic regulation, stem cell therapy, hormesis\n",
      "\n"
     ]
    }
   ],
   "source": [
    "# choose the category to create the string for\n",
    "chosen_category = 19\n",
    "\n",
    "# filter the DataFrame by the chosen category\n",
    "category_df = df[df['category'] == chosen_category]\n",
    "\n",
    "# group the DataFrame by industry and concatenate the keywords\n",
    "result_df = category_df.groupby('industry')['keywords'].apply(lambda x: ', '.join(x)).reset_index()\n",
    "\n",
    "# create the final string\n",
    "output_string = ''\n",
    "for _, row in result_df.iterrows():\n",
    "    output_string += f\"{row['industry']}: {row['keywords']}\\n\"\n",
    "\n",
    "# print the resulting string\n",
    "print(output_string)"
   ],
   "metadata": {
    "collapsed": false,
    "ExecuteTime": {
     "start_time": "2023-05-04T14:25:05.692907Z",
     "end_time": "2023-05-04T14:25:05.698918Z"
    }
   }
  },
  {
   "cell_type": "code",
   "execution_count": 204,
   "outputs": [
    {
     "name": "stderr",
     "output_type": "stream",
     "text": [
      "C:\\Users\\imran\\AppData\\Local\\Temp\\ipykernel_19764\\3282195292.py:12: FutureWarning: The frame.append method is deprecated and will be removed from pandas in a future version. Use pandas.concat instead.\n",
      "  new_keywords = new_keywords.append({'industry': industry, 'keywords': keywords}, ignore_index=True)\n",
      "C:\\Users\\imran\\AppData\\Local\\Temp\\ipykernel_19764\\3282195292.py:12: FutureWarning: The frame.append method is deprecated and will be removed from pandas in a future version. Use pandas.concat instead.\n",
      "  new_keywords = new_keywords.append({'industry': industry, 'keywords': keywords}, ignore_index=True)\n",
      "C:\\Users\\imran\\AppData\\Local\\Temp\\ipykernel_19764\\3282195292.py:12: FutureWarning: The frame.append method is deprecated and will be removed from pandas in a future version. Use pandas.concat instead.\n",
      "  new_keywords = new_keywords.append({'industry': industry, 'keywords': keywords}, ignore_index=True)\n",
      "C:\\Users\\imran\\AppData\\Local\\Temp\\ipykernel_19764\\3282195292.py:12: FutureWarning: The frame.append method is deprecated and will be removed from pandas in a future version. Use pandas.concat instead.\n",
      "  new_keywords = new_keywords.append({'industry': industry, 'keywords': keywords}, ignore_index=True)\n",
      "C:\\Users\\imran\\AppData\\Local\\Temp\\ipykernel_19764\\3282195292.py:12: FutureWarning: The frame.append method is deprecated and will be removed from pandas in a future version. Use pandas.concat instead.\n",
      "  new_keywords = new_keywords.append({'industry': industry, 'keywords': keywords}, ignore_index=True)\n",
      "C:\\Users\\imran\\AppData\\Local\\Temp\\ipykernel_19764\\3282195292.py:12: FutureWarning: The frame.append method is deprecated and will be removed from pandas in a future version. Use pandas.concat instead.\n",
      "  new_keywords = new_keywords.append({'industry': industry, 'keywords': keywords}, ignore_index=True)\n",
      "C:\\Users\\imran\\AppData\\Local\\Temp\\ipykernel_19764\\3282195292.py:12: FutureWarning: The frame.append method is deprecated and will be removed from pandas in a future version. Use pandas.concat instead.\n",
      "  new_keywords = new_keywords.append({'industry': industry, 'keywords': keywords}, ignore_index=True)\n",
      "C:\\Users\\imran\\AppData\\Local\\Temp\\ipykernel_19764\\3282195292.py:12: FutureWarning: The frame.append method is deprecated and will be removed from pandas in a future version. Use pandas.concat instead.\n",
      "  new_keywords = new_keywords.append({'industry': industry, 'keywords': keywords}, ignore_index=True)\n",
      "C:\\Users\\imran\\AppData\\Local\\Temp\\ipykernel_19764\\3282195292.py:12: FutureWarning: The frame.append method is deprecated and will be removed from pandas in a future version. Use pandas.concat instead.\n",
      "  new_keywords = new_keywords.append({'industry': industry, 'keywords': keywords}, ignore_index=True)\n",
      "C:\\Users\\imran\\AppData\\Local\\Temp\\ipykernel_19764\\3282195292.py:12: FutureWarning: The frame.append method is deprecated and will be removed from pandas in a future version. Use pandas.concat instead.\n",
      "  new_keywords = new_keywords.append({'industry': industry, 'keywords': keywords}, ignore_index=True)\n",
      "C:\\Users\\imran\\AppData\\Local\\Temp\\ipykernel_19764\\3282195292.py:12: FutureWarning: The frame.append method is deprecated and will be removed from pandas in a future version. Use pandas.concat instead.\n",
      "  new_keywords = new_keywords.append({'industry': industry, 'keywords': keywords}, ignore_index=True)\n",
      "C:\\Users\\imran\\AppData\\Local\\Temp\\ipykernel_19764\\3282195292.py:12: FutureWarning: The frame.append method is deprecated and will be removed from pandas in a future version. Use pandas.concat instead.\n",
      "  new_keywords = new_keywords.append({'industry': industry, 'keywords': keywords}, ignore_index=True)\n",
      "C:\\Users\\imran\\AppData\\Local\\Temp\\ipykernel_19764\\3282195292.py:12: FutureWarning: The frame.append method is deprecated and will be removed from pandas in a future version. Use pandas.concat instead.\n",
      "  new_keywords = new_keywords.append({'industry': industry, 'keywords': keywords}, ignore_index=True)\n",
      "C:\\Users\\imran\\AppData\\Local\\Temp\\ipykernel_19764\\3282195292.py:12: FutureWarning: The frame.append method is deprecated and will be removed from pandas in a future version. Use pandas.concat instead.\n",
      "  new_keywords = new_keywords.append({'industry': industry, 'keywords': keywords}, ignore_index=True)\n",
      "C:\\Users\\imran\\AppData\\Local\\Temp\\ipykernel_19764\\3282195292.py:12: FutureWarning: The frame.append method is deprecated and will be removed from pandas in a future version. Use pandas.concat instead.\n",
      "  new_keywords = new_keywords.append({'industry': industry, 'keywords': keywords}, ignore_index=True)\n",
      "C:\\Users\\imran\\AppData\\Local\\Temp\\ipykernel_19764\\3282195292.py:12: FutureWarning: The frame.append method is deprecated and will be removed from pandas in a future version. Use pandas.concat instead.\n",
      "  new_keywords = new_keywords.append({'industry': industry, 'keywords': keywords}, ignore_index=True)\n",
      "C:\\Users\\imran\\AppData\\Local\\Temp\\ipykernel_19764\\3282195292.py:12: FutureWarning: The frame.append method is deprecated and will be removed from pandas in a future version. Use pandas.concat instead.\n",
      "  new_keywords = new_keywords.append({'industry': industry, 'keywords': keywords}, ignore_index=True)\n",
      "C:\\Users\\imran\\AppData\\Local\\Temp\\ipykernel_19764\\3282195292.py:12: FutureWarning: The frame.append method is deprecated and will be removed from pandas in a future version. Use pandas.concat instead.\n",
      "  new_keywords = new_keywords.append({'industry': industry, 'keywords': keywords}, ignore_index=True)\n",
      "C:\\Users\\imran\\AppData\\Local\\Temp\\ipykernel_19764\\3282195292.py:12: FutureWarning: The frame.append method is deprecated and will be removed from pandas in a future version. Use pandas.concat instead.\n",
      "  new_keywords = new_keywords.append({'industry': industry, 'keywords': keywords}, ignore_index=True)\n",
      "C:\\Users\\imran\\AppData\\Local\\Temp\\ipykernel_19764\\3282195292.py:12: FutureWarning: The frame.append method is deprecated and will be removed from pandas in a future version. Use pandas.concat instead.\n",
      "  new_keywords = new_keywords.append({'industry': industry, 'keywords': keywords}, ignore_index=True)\n",
      "C:\\Users\\imran\\AppData\\Local\\Temp\\ipykernel_19764\\3282195292.py:12: FutureWarning: The frame.append method is deprecated and will be removed from pandas in a future version. Use pandas.concat instead.\n",
      "  new_keywords = new_keywords.append({'industry': industry, 'keywords': keywords}, ignore_index=True)\n",
      "C:\\Users\\imran\\AppData\\Local\\Temp\\ipykernel_19764\\3282195292.py:12: FutureWarning: The frame.append method is deprecated and will be removed from pandas in a future version. Use pandas.concat instead.\n",
      "  new_keywords = new_keywords.append({'industry': industry, 'keywords': keywords}, ignore_index=True)\n",
      "C:\\Users\\imran\\AppData\\Local\\Temp\\ipykernel_19764\\3282195292.py:12: FutureWarning: The frame.append method is deprecated and will be removed from pandas in a future version. Use pandas.concat instead.\n",
      "  new_keywords = new_keywords.append({'industry': industry, 'keywords': keywords}, ignore_index=True)\n",
      "C:\\Users\\imran\\AppData\\Local\\Temp\\ipykernel_19764\\3282195292.py:12: FutureWarning: The frame.append method is deprecated and will be removed from pandas in a future version. Use pandas.concat instead.\n",
      "  new_keywords = new_keywords.append({'industry': industry, 'keywords': keywords}, ignore_index=True)\n",
      "C:\\Users\\imran\\AppData\\Local\\Temp\\ipykernel_19764\\3282195292.py:12: FutureWarning: The frame.append method is deprecated and will be removed from pandas in a future version. Use pandas.concat instead.\n",
      "  new_keywords = new_keywords.append({'industry': industry, 'keywords': keywords}, ignore_index=True)\n",
      "C:\\Users\\imran\\AppData\\Local\\Temp\\ipykernel_19764\\3282195292.py:12: FutureWarning: The frame.append method is deprecated and will be removed from pandas in a future version. Use pandas.concat instead.\n",
      "  new_keywords = new_keywords.append({'industry': industry, 'keywords': keywords}, ignore_index=True)\n",
      "C:\\Users\\imran\\AppData\\Local\\Temp\\ipykernel_19764\\3282195292.py:12: FutureWarning: The frame.append method is deprecated and will be removed from pandas in a future version. Use pandas.concat instead.\n",
      "  new_keywords = new_keywords.append({'industry': industry, 'keywords': keywords}, ignore_index=True)\n",
      "C:\\Users\\imran\\AppData\\Local\\Temp\\ipykernel_19764\\3282195292.py:12: FutureWarning: The frame.append method is deprecated and will be removed from pandas in a future version. Use pandas.concat instead.\n",
      "  new_keywords = new_keywords.append({'industry': industry, 'keywords': keywords}, ignore_index=True)\n",
      "C:\\Users\\imran\\AppData\\Local\\Temp\\ipykernel_19764\\3282195292.py:12: FutureWarning: The frame.append method is deprecated and will be removed from pandas in a future version. Use pandas.concat instead.\n",
      "  new_keywords = new_keywords.append({'industry': industry, 'keywords': keywords}, ignore_index=True)\n",
      "C:\\Users\\imran\\AppData\\Local\\Temp\\ipykernel_19764\\3282195292.py:12: FutureWarning: The frame.append method is deprecated and will be removed from pandas in a future version. Use pandas.concat instead.\n",
      "  new_keywords = new_keywords.append({'industry': industry, 'keywords': keywords}, ignore_index=True)\n",
      "C:\\Users\\imran\\AppData\\Local\\Temp\\ipykernel_19764\\3282195292.py:12: FutureWarning: The frame.append method is deprecated and will be removed from pandas in a future version. Use pandas.concat instead.\n",
      "  new_keywords = new_keywords.append({'industry': industry, 'keywords': keywords}, ignore_index=True)\n",
      "C:\\Users\\imran\\AppData\\Local\\Temp\\ipykernel_19764\\3282195292.py:12: FutureWarning: The frame.append method is deprecated and will be removed from pandas in a future version. Use pandas.concat instead.\n",
      "  new_keywords = new_keywords.append({'industry': industry, 'keywords': keywords}, ignore_index=True)\n",
      "C:\\Users\\imran\\AppData\\Local\\Temp\\ipykernel_19764\\3282195292.py:12: FutureWarning: The frame.append method is deprecated and will be removed from pandas in a future version. Use pandas.concat instead.\n",
      "  new_keywords = new_keywords.append({'industry': industry, 'keywords': keywords}, ignore_index=True)\n",
      "C:\\Users\\imran\\AppData\\Local\\Temp\\ipykernel_19764\\3282195292.py:12: FutureWarning: The frame.append method is deprecated and will be removed from pandas in a future version. Use pandas.concat instead.\n",
      "  new_keywords = new_keywords.append({'industry': industry, 'keywords': keywords}, ignore_index=True)\n",
      "C:\\Users\\imran\\AppData\\Local\\Temp\\ipykernel_19764\\3282195292.py:12: FutureWarning: The frame.append method is deprecated and will be removed from pandas in a future version. Use pandas.concat instead.\n",
      "  new_keywords = new_keywords.append({'industry': industry, 'keywords': keywords}, ignore_index=True)\n",
      "C:\\Users\\imran\\AppData\\Local\\Temp\\ipykernel_19764\\3282195292.py:12: FutureWarning: The frame.append method is deprecated and will be removed from pandas in a future version. Use pandas.concat instead.\n",
      "  new_keywords = new_keywords.append({'industry': industry, 'keywords': keywords}, ignore_index=True)\n",
      "C:\\Users\\imran\\AppData\\Local\\Temp\\ipykernel_19764\\3282195292.py:12: FutureWarning: The frame.append method is deprecated and will be removed from pandas in a future version. Use pandas.concat instead.\n",
      "  new_keywords = new_keywords.append({'industry': industry, 'keywords': keywords}, ignore_index=True)\n",
      "C:\\Users\\imran\\AppData\\Local\\Temp\\ipykernel_19764\\3282195292.py:12: FutureWarning: The frame.append method is deprecated and will be removed from pandas in a future version. Use pandas.concat instead.\n",
      "  new_keywords = new_keywords.append({'industry': industry, 'keywords': keywords}, ignore_index=True)\n",
      "C:\\Users\\imran\\AppData\\Local\\Temp\\ipykernel_19764\\3282195292.py:12: FutureWarning: The frame.append method is deprecated and will be removed from pandas in a future version. Use pandas.concat instead.\n",
      "  new_keywords = new_keywords.append({'industry': industry, 'keywords': keywords}, ignore_index=True)\n",
      "C:\\Users\\imran\\AppData\\Local\\Temp\\ipykernel_19764\\3282195292.py:12: FutureWarning: The frame.append method is deprecated and will be removed from pandas in a future version. Use pandas.concat instead.\n",
      "  new_keywords = new_keywords.append({'industry': industry, 'keywords': keywords}, ignore_index=True)\n",
      "C:\\Users\\imran\\AppData\\Local\\Temp\\ipykernel_19764\\3282195292.py:12: FutureWarning: The frame.append method is deprecated and will be removed from pandas in a future version. Use pandas.concat instead.\n",
      "  new_keywords = new_keywords.append({'industry': industry, 'keywords': keywords}, ignore_index=True)\n",
      "C:\\Users\\imran\\AppData\\Local\\Temp\\ipykernel_19764\\3282195292.py:12: FutureWarning: The frame.append method is deprecated and will be removed from pandas in a future version. Use pandas.concat instead.\n",
      "  new_keywords = new_keywords.append({'industry': industry, 'keywords': keywords}, ignore_index=True)\n",
      "C:\\Users\\imran\\AppData\\Local\\Temp\\ipykernel_19764\\3282195292.py:12: FutureWarning: The frame.append method is deprecated and will be removed from pandas in a future version. Use pandas.concat instead.\n",
      "  new_keywords = new_keywords.append({'industry': industry, 'keywords': keywords}, ignore_index=True)\n",
      "C:\\Users\\imran\\AppData\\Local\\Temp\\ipykernel_19764\\3282195292.py:12: FutureWarning: The frame.append method is deprecated and will be removed from pandas in a future version. Use pandas.concat instead.\n",
      "  new_keywords = new_keywords.append({'industry': industry, 'keywords': keywords}, ignore_index=True)\n",
      "C:\\Users\\imran\\AppData\\Local\\Temp\\ipykernel_19764\\3282195292.py:12: FutureWarning: The frame.append method is deprecated and will be removed from pandas in a future version. Use pandas.concat instead.\n",
      "  new_keywords = new_keywords.append({'industry': industry, 'keywords': keywords}, ignore_index=True)\n",
      "C:\\Users\\imran\\AppData\\Local\\Temp\\ipykernel_19764\\3282195292.py:12: FutureWarning: The frame.append method is deprecated and will be removed from pandas in a future version. Use pandas.concat instead.\n",
      "  new_keywords = new_keywords.append({'industry': industry, 'keywords': keywords}, ignore_index=True)\n",
      "C:\\Users\\imran\\AppData\\Local\\Temp\\ipykernel_19764\\3282195292.py:12: FutureWarning: The frame.append method is deprecated and will be removed from pandas in a future version. Use pandas.concat instead.\n",
      "  new_keywords = new_keywords.append({'industry': industry, 'keywords': keywords}, ignore_index=True)\n",
      "C:\\Users\\imran\\AppData\\Local\\Temp\\ipykernel_19764\\3282195292.py:12: FutureWarning: The frame.append method is deprecated and will be removed from pandas in a future version. Use pandas.concat instead.\n",
      "  new_keywords = new_keywords.append({'industry': industry, 'keywords': keywords}, ignore_index=True)\n",
      "C:\\Users\\imran\\AppData\\Local\\Temp\\ipykernel_19764\\3282195292.py:12: FutureWarning: The frame.append method is deprecated and will be removed from pandas in a future version. Use pandas.concat instead.\n",
      "  new_keywords = new_keywords.append({'industry': industry, 'keywords': keywords}, ignore_index=True)\n",
      "C:\\Users\\imran\\AppData\\Local\\Temp\\ipykernel_19764\\3282195292.py:12: FutureWarning: The frame.append method is deprecated and will be removed from pandas in a future version. Use pandas.concat instead.\n",
      "  new_keywords = new_keywords.append({'industry': industry, 'keywords': keywords}, ignore_index=True)\n",
      "C:\\Users\\imran\\AppData\\Local\\Temp\\ipykernel_19764\\3282195292.py:12: FutureWarning: The frame.append method is deprecated and will be removed from pandas in a future version. Use pandas.concat instead.\n",
      "  new_keywords = new_keywords.append({'industry': industry, 'keywords': keywords}, ignore_index=True)\n",
      "C:\\Users\\imran\\AppData\\Local\\Temp\\ipykernel_19764\\3282195292.py:12: FutureWarning: The frame.append method is deprecated and will be removed from pandas in a future version. Use pandas.concat instead.\n",
      "  new_keywords = new_keywords.append({'industry': industry, 'keywords': keywords}, ignore_index=True)\n",
      "C:\\Users\\imran\\AppData\\Local\\Temp\\ipykernel_19764\\3282195292.py:12: FutureWarning: The frame.append method is deprecated and will be removed from pandas in a future version. Use pandas.concat instead.\n",
      "  new_keywords = new_keywords.append({'industry': industry, 'keywords': keywords}, ignore_index=True)\n",
      "C:\\Users\\imran\\AppData\\Local\\Temp\\ipykernel_19764\\3282195292.py:12: FutureWarning: The frame.append method is deprecated and will be removed from pandas in a future version. Use pandas.concat instead.\n",
      "  new_keywords = new_keywords.append({'industry': industry, 'keywords': keywords}, ignore_index=True)\n",
      "C:\\Users\\imran\\AppData\\Local\\Temp\\ipykernel_19764\\3282195292.py:12: FutureWarning: The frame.append method is deprecated and will be removed from pandas in a future version. Use pandas.concat instead.\n",
      "  new_keywords = new_keywords.append({'industry': industry, 'keywords': keywords}, ignore_index=True)\n",
      "C:\\Users\\imran\\AppData\\Local\\Temp\\ipykernel_19764\\3282195292.py:12: FutureWarning: The frame.append method is deprecated and will be removed from pandas in a future version. Use pandas.concat instead.\n",
      "  new_keywords = new_keywords.append({'industry': industry, 'keywords': keywords}, ignore_index=True)\n",
      "C:\\Users\\imran\\AppData\\Local\\Temp\\ipykernel_19764\\3282195292.py:12: FutureWarning: The frame.append method is deprecated and will be removed from pandas in a future version. Use pandas.concat instead.\n",
      "  new_keywords = new_keywords.append({'industry': industry, 'keywords': keywords}, ignore_index=True)\n",
      "C:\\Users\\imran\\AppData\\Local\\Temp\\ipykernel_19764\\3282195292.py:12: FutureWarning: The frame.append method is deprecated and will be removed from pandas in a future version. Use pandas.concat instead.\n",
      "  new_keywords = new_keywords.append({'industry': industry, 'keywords': keywords}, ignore_index=True)\n",
      "C:\\Users\\imran\\AppData\\Local\\Temp\\ipykernel_19764\\3282195292.py:12: FutureWarning: The frame.append method is deprecated and will be removed from pandas in a future version. Use pandas.concat instead.\n",
      "  new_keywords = new_keywords.append({'industry': industry, 'keywords': keywords}, ignore_index=True)\n",
      "C:\\Users\\imran\\AppData\\Local\\Temp\\ipykernel_19764\\3282195292.py:12: FutureWarning: The frame.append method is deprecated and will be removed from pandas in a future version. Use pandas.concat instead.\n",
      "  new_keywords = new_keywords.append({'industry': industry, 'keywords': keywords}, ignore_index=True)\n",
      "C:\\Users\\imran\\AppData\\Local\\Temp\\ipykernel_19764\\3282195292.py:12: FutureWarning: The frame.append method is deprecated and will be removed from pandas in a future version. Use pandas.concat instead.\n",
      "  new_keywords = new_keywords.append({'industry': industry, 'keywords': keywords}, ignore_index=True)\n",
      "C:\\Users\\imran\\AppData\\Local\\Temp\\ipykernel_19764\\3282195292.py:12: FutureWarning: The frame.append method is deprecated and will be removed from pandas in a future version. Use pandas.concat instead.\n",
      "  new_keywords = new_keywords.append({'industry': industry, 'keywords': keywords}, ignore_index=True)\n",
      "C:\\Users\\imran\\AppData\\Local\\Temp\\ipykernel_19764\\3282195292.py:12: FutureWarning: The frame.append method is deprecated and will be removed from pandas in a future version. Use pandas.concat instead.\n",
      "  new_keywords = new_keywords.append({'industry': industry, 'keywords': keywords}, ignore_index=True)\n",
      "C:\\Users\\imran\\AppData\\Local\\Temp\\ipykernel_19764\\3282195292.py:12: FutureWarning: The frame.append method is deprecated and will be removed from pandas in a future version. Use pandas.concat instead.\n",
      "  new_keywords = new_keywords.append({'industry': industry, 'keywords': keywords}, ignore_index=True)\n",
      "C:\\Users\\imran\\AppData\\Local\\Temp\\ipykernel_19764\\3282195292.py:12: FutureWarning: The frame.append method is deprecated and will be removed from pandas in a future version. Use pandas.concat instead.\n",
      "  new_keywords = new_keywords.append({'industry': industry, 'keywords': keywords}, ignore_index=True)\n",
      "C:\\Users\\imran\\AppData\\Local\\Temp\\ipykernel_19764\\3282195292.py:12: FutureWarning: The frame.append method is deprecated and will be removed from pandas in a future version. Use pandas.concat instead.\n",
      "  new_keywords = new_keywords.append({'industry': industry, 'keywords': keywords}, ignore_index=True)\n",
      "C:\\Users\\imran\\AppData\\Local\\Temp\\ipykernel_19764\\3282195292.py:12: FutureWarning: The frame.append method is deprecated and will be removed from pandas in a future version. Use pandas.concat instead.\n",
      "  new_keywords = new_keywords.append({'industry': industry, 'keywords': keywords}, ignore_index=True)\n",
      "C:\\Users\\imran\\AppData\\Local\\Temp\\ipykernel_19764\\3282195292.py:12: FutureWarning: The frame.append method is deprecated and will be removed from pandas in a future version. Use pandas.concat instead.\n",
      "  new_keywords = new_keywords.append({'industry': industry, 'keywords': keywords}, ignore_index=True)\n",
      "C:\\Users\\imran\\AppData\\Local\\Temp\\ipykernel_19764\\3282195292.py:12: FutureWarning: The frame.append method is deprecated and will be removed from pandas in a future version. Use pandas.concat instead.\n",
      "  new_keywords = new_keywords.append({'industry': industry, 'keywords': keywords}, ignore_index=True)\n",
      "C:\\Users\\imran\\AppData\\Local\\Temp\\ipykernel_19764\\3282195292.py:12: FutureWarning: The frame.append method is deprecated and will be removed from pandas in a future version. Use pandas.concat instead.\n",
      "  new_keywords = new_keywords.append({'industry': industry, 'keywords': keywords}, ignore_index=True)\n",
      "C:\\Users\\imran\\AppData\\Local\\Temp\\ipykernel_19764\\3282195292.py:12: FutureWarning: The frame.append method is deprecated and will be removed from pandas in a future version. Use pandas.concat instead.\n",
      "  new_keywords = new_keywords.append({'industry': industry, 'keywords': keywords}, ignore_index=True)\n",
      "C:\\Users\\imran\\AppData\\Local\\Temp\\ipykernel_19764\\3282195292.py:12: FutureWarning: The frame.append method is deprecated and will be removed from pandas in a future version. Use pandas.concat instead.\n",
      "  new_keywords = new_keywords.append({'industry': industry, 'keywords': keywords}, ignore_index=True)\n",
      "C:\\Users\\imran\\AppData\\Local\\Temp\\ipykernel_19764\\3282195292.py:12: FutureWarning: The frame.append method is deprecated and will be removed from pandas in a future version. Use pandas.concat instead.\n",
      "  new_keywords = new_keywords.append({'industry': industry, 'keywords': keywords}, ignore_index=True)\n",
      "C:\\Users\\imran\\AppData\\Local\\Temp\\ipykernel_19764\\3282195292.py:12: FutureWarning: The frame.append method is deprecated and will be removed from pandas in a future version. Use pandas.concat instead.\n",
      "  new_keywords = new_keywords.append({'industry': industry, 'keywords': keywords}, ignore_index=True)\n",
      "C:\\Users\\imran\\AppData\\Local\\Temp\\ipykernel_19764\\3282195292.py:12: FutureWarning: The frame.append method is deprecated and will be removed from pandas in a future version. Use pandas.concat instead.\n",
      "  new_keywords = new_keywords.append({'industry': industry, 'keywords': keywords}, ignore_index=True)\n",
      "C:\\Users\\imran\\AppData\\Local\\Temp\\ipykernel_19764\\3282195292.py:12: FutureWarning: The frame.append method is deprecated and will be removed from pandas in a future version. Use pandas.concat instead.\n",
      "  new_keywords = new_keywords.append({'industry': industry, 'keywords': keywords}, ignore_index=True)\n",
      "C:\\Users\\imran\\AppData\\Local\\Temp\\ipykernel_19764\\3282195292.py:12: FutureWarning: The frame.append method is deprecated and will be removed from pandas in a future version. Use pandas.concat instead.\n",
      "  new_keywords = new_keywords.append({'industry': industry, 'keywords': keywords}, ignore_index=True)\n",
      "C:\\Users\\imran\\AppData\\Local\\Temp\\ipykernel_19764\\3282195292.py:12: FutureWarning: The frame.append method is deprecated and will be removed from pandas in a future version. Use pandas.concat instead.\n",
      "  new_keywords = new_keywords.append({'industry': industry, 'keywords': keywords}, ignore_index=True)\n",
      "C:\\Users\\imran\\AppData\\Local\\Temp\\ipykernel_19764\\3282195292.py:12: FutureWarning: The frame.append method is deprecated and will be removed from pandas in a future version. Use pandas.concat instead.\n",
      "  new_keywords = new_keywords.append({'industry': industry, 'keywords': keywords}, ignore_index=True)\n",
      "C:\\Users\\imran\\AppData\\Local\\Temp\\ipykernel_19764\\3282195292.py:12: FutureWarning: The frame.append method is deprecated and will be removed from pandas in a future version. Use pandas.concat instead.\n",
      "  new_keywords = new_keywords.append({'industry': industry, 'keywords': keywords}, ignore_index=True)\n",
      "C:\\Users\\imran\\AppData\\Local\\Temp\\ipykernel_19764\\3282195292.py:12: FutureWarning: The frame.append method is deprecated and will be removed from pandas in a future version. Use pandas.concat instead.\n",
      "  new_keywords = new_keywords.append({'industry': industry, 'keywords': keywords}, ignore_index=True)\n",
      "C:\\Users\\imran\\AppData\\Local\\Temp\\ipykernel_19764\\3282195292.py:12: FutureWarning: The frame.append method is deprecated and will be removed from pandas in a future version. Use pandas.concat instead.\n",
      "  new_keywords = new_keywords.append({'industry': industry, 'keywords': keywords}, ignore_index=True)\n",
      "C:\\Users\\imran\\AppData\\Local\\Temp\\ipykernel_19764\\3282195292.py:12: FutureWarning: The frame.append method is deprecated and will be removed from pandas in a future version. Use pandas.concat instead.\n",
      "  new_keywords = new_keywords.append({'industry': industry, 'keywords': keywords}, ignore_index=True)\n",
      "C:\\Users\\imran\\AppData\\Local\\Temp\\ipykernel_19764\\3282195292.py:12: FutureWarning: The frame.append method is deprecated and will be removed from pandas in a future version. Use pandas.concat instead.\n",
      "  new_keywords = new_keywords.append({'industry': industry, 'keywords': keywords}, ignore_index=True)\n",
      "C:\\Users\\imran\\AppData\\Local\\Temp\\ipykernel_19764\\3282195292.py:12: FutureWarning: The frame.append method is deprecated and will be removed from pandas in a future version. Use pandas.concat instead.\n",
      "  new_keywords = new_keywords.append({'industry': industry, 'keywords': keywords}, ignore_index=True)\n",
      "C:\\Users\\imran\\AppData\\Local\\Temp\\ipykernel_19764\\3282195292.py:12: FutureWarning: The frame.append method is deprecated and will be removed from pandas in a future version. Use pandas.concat instead.\n",
      "  new_keywords = new_keywords.append({'industry': industry, 'keywords': keywords}, ignore_index=True)\n",
      "C:\\Users\\imran\\AppData\\Local\\Temp\\ipykernel_19764\\3282195292.py:12: FutureWarning: The frame.append method is deprecated and will be removed from pandas in a future version. Use pandas.concat instead.\n",
      "  new_keywords = new_keywords.append({'industry': industry, 'keywords': keywords}, ignore_index=True)\n",
      "C:\\Users\\imran\\AppData\\Local\\Temp\\ipykernel_19764\\3282195292.py:12: FutureWarning: The frame.append method is deprecated and will be removed from pandas in a future version. Use pandas.concat instead.\n",
      "  new_keywords = new_keywords.append({'industry': industry, 'keywords': keywords}, ignore_index=True)\n",
      "C:\\Users\\imran\\AppData\\Local\\Temp\\ipykernel_19764\\3282195292.py:12: FutureWarning: The frame.append method is deprecated and will be removed from pandas in a future version. Use pandas.concat instead.\n",
      "  new_keywords = new_keywords.append({'industry': industry, 'keywords': keywords}, ignore_index=True)\n",
      "C:\\Users\\imran\\AppData\\Local\\Temp\\ipykernel_19764\\3282195292.py:12: FutureWarning: The frame.append method is deprecated and will be removed from pandas in a future version. Use pandas.concat instead.\n",
      "  new_keywords = new_keywords.append({'industry': industry, 'keywords': keywords}, ignore_index=True)\n",
      "C:\\Users\\imran\\AppData\\Local\\Temp\\ipykernel_19764\\3282195292.py:12: FutureWarning: The frame.append method is deprecated and will be removed from pandas in a future version. Use pandas.concat instead.\n",
      "  new_keywords = new_keywords.append({'industry': industry, 'keywords': keywords}, ignore_index=True)\n",
      "C:\\Users\\imran\\AppData\\Local\\Temp\\ipykernel_19764\\3282195292.py:12: FutureWarning: The frame.append method is deprecated and will be removed from pandas in a future version. Use pandas.concat instead.\n",
      "  new_keywords = new_keywords.append({'industry': industry, 'keywords': keywords}, ignore_index=True)\n",
      "C:\\Users\\imran\\AppData\\Local\\Temp\\ipykernel_19764\\3282195292.py:12: FutureWarning: The frame.append method is deprecated and will be removed from pandas in a future version. Use pandas.concat instead.\n",
      "  new_keywords = new_keywords.append({'industry': industry, 'keywords': keywords}, ignore_index=True)\n",
      "C:\\Users\\imran\\AppData\\Local\\Temp\\ipykernel_19764\\3282195292.py:12: FutureWarning: The frame.append method is deprecated and will be removed from pandas in a future version. Use pandas.concat instead.\n",
      "  new_keywords = new_keywords.append({'industry': industry, 'keywords': keywords}, ignore_index=True)\n",
      "C:\\Users\\imran\\AppData\\Local\\Temp\\ipykernel_19764\\3282195292.py:12: FutureWarning: The frame.append method is deprecated and will be removed from pandas in a future version. Use pandas.concat instead.\n",
      "  new_keywords = new_keywords.append({'industry': industry, 'keywords': keywords}, ignore_index=True)\n",
      "C:\\Users\\imran\\AppData\\Local\\Temp\\ipykernel_19764\\3282195292.py:12: FutureWarning: The frame.append method is deprecated and will be removed from pandas in a future version. Use pandas.concat instead.\n",
      "  new_keywords = new_keywords.append({'industry': industry, 'keywords': keywords}, ignore_index=True)\n",
      "C:\\Users\\imran\\AppData\\Local\\Temp\\ipykernel_19764\\3282195292.py:12: FutureWarning: The frame.append method is deprecated and will be removed from pandas in a future version. Use pandas.concat instead.\n",
      "  new_keywords = new_keywords.append({'industry': industry, 'keywords': keywords}, ignore_index=True)\n",
      "C:\\Users\\imran\\AppData\\Local\\Temp\\ipykernel_19764\\3282195292.py:12: FutureWarning: The frame.append method is deprecated and will be removed from pandas in a future version. Use pandas.concat instead.\n",
      "  new_keywords = new_keywords.append({'industry': industry, 'keywords': keywords}, ignore_index=True)\n",
      "C:\\Users\\imran\\AppData\\Local\\Temp\\ipykernel_19764\\3282195292.py:12: FutureWarning: The frame.append method is deprecated and will be removed from pandas in a future version. Use pandas.concat instead.\n",
      "  new_keywords = new_keywords.append({'industry': industry, 'keywords': keywords}, ignore_index=True)\n",
      "C:\\Users\\imran\\AppData\\Local\\Temp\\ipykernel_19764\\3282195292.py:12: FutureWarning: The frame.append method is deprecated and will be removed from pandas in a future version. Use pandas.concat instead.\n",
      "  new_keywords = new_keywords.append({'industry': industry, 'keywords': keywords}, ignore_index=True)\n",
      "C:\\Users\\imran\\AppData\\Local\\Temp\\ipykernel_19764\\3282195292.py:12: FutureWarning: The frame.append method is deprecated and will be removed from pandas in a future version. Use pandas.concat instead.\n",
      "  new_keywords = new_keywords.append({'industry': industry, 'keywords': keywords}, ignore_index=True)\n",
      "C:\\Users\\imran\\AppData\\Local\\Temp\\ipykernel_19764\\3282195292.py:12: FutureWarning: The frame.append method is deprecated and will be removed from pandas in a future version. Use pandas.concat instead.\n",
      "  new_keywords = new_keywords.append({'industry': industry, 'keywords': keywords}, ignore_index=True)\n",
      "C:\\Users\\imran\\AppData\\Local\\Temp\\ipykernel_19764\\3282195292.py:12: FutureWarning: The frame.append method is deprecated and will be removed from pandas in a future version. Use pandas.concat instead.\n",
      "  new_keywords = new_keywords.append({'industry': industry, 'keywords': keywords}, ignore_index=True)\n",
      "C:\\Users\\imran\\AppData\\Local\\Temp\\ipykernel_19764\\3282195292.py:12: FutureWarning: The frame.append method is deprecated and will be removed from pandas in a future version. Use pandas.concat instead.\n",
      "  new_keywords = new_keywords.append({'industry': industry, 'keywords': keywords}, ignore_index=True)\n",
      "C:\\Users\\imran\\AppData\\Local\\Temp\\ipykernel_19764\\3282195292.py:12: FutureWarning: The frame.append method is deprecated and will be removed from pandas in a future version. Use pandas.concat instead.\n",
      "  new_keywords = new_keywords.append({'industry': industry, 'keywords': keywords}, ignore_index=True)\n",
      "C:\\Users\\imran\\AppData\\Local\\Temp\\ipykernel_19764\\3282195292.py:12: FutureWarning: The frame.append method is deprecated and will be removed from pandas in a future version. Use pandas.concat instead.\n",
      "  new_keywords = new_keywords.append({'industry': industry, 'keywords': keywords}, ignore_index=True)\n",
      "C:\\Users\\imran\\AppData\\Local\\Temp\\ipykernel_19764\\3282195292.py:12: FutureWarning: The frame.append method is deprecated and will be removed from pandas in a future version. Use pandas.concat instead.\n",
      "  new_keywords = new_keywords.append({'industry': industry, 'keywords': keywords}, ignore_index=True)\n",
      "C:\\Users\\imran\\AppData\\Local\\Temp\\ipykernel_19764\\3282195292.py:12: FutureWarning: The frame.append method is deprecated and will be removed from pandas in a future version. Use pandas.concat instead.\n",
      "  new_keywords = new_keywords.append({'industry': industry, 'keywords': keywords}, ignore_index=True)\n",
      "C:\\Users\\imran\\AppData\\Local\\Temp\\ipykernel_19764\\3282195292.py:12: FutureWarning: The frame.append method is deprecated and will be removed from pandas in a future version. Use pandas.concat instead.\n",
      "  new_keywords = new_keywords.append({'industry': industry, 'keywords': keywords}, ignore_index=True)\n",
      "C:\\Users\\imran\\AppData\\Local\\Temp\\ipykernel_19764\\3282195292.py:12: FutureWarning: The frame.append method is deprecated and will be removed from pandas in a future version. Use pandas.concat instead.\n",
      "  new_keywords = new_keywords.append({'industry': industry, 'keywords': keywords}, ignore_index=True)\n",
      "C:\\Users\\imran\\AppData\\Local\\Temp\\ipykernel_19764\\3282195292.py:12: FutureWarning: The frame.append method is deprecated and will be removed from pandas in a future version. Use pandas.concat instead.\n",
      "  new_keywords = new_keywords.append({'industry': industry, 'keywords': keywords}, ignore_index=True)\n",
      "C:\\Users\\imran\\AppData\\Local\\Temp\\ipykernel_19764\\3282195292.py:12: FutureWarning: The frame.append method is deprecated and will be removed from pandas in a future version. Use pandas.concat instead.\n",
      "  new_keywords = new_keywords.append({'industry': industry, 'keywords': keywords}, ignore_index=True)\n",
      "C:\\Users\\imran\\AppData\\Local\\Temp\\ipykernel_19764\\3282195292.py:12: FutureWarning: The frame.append method is deprecated and will be removed from pandas in a future version. Use pandas.concat instead.\n",
      "  new_keywords = new_keywords.append({'industry': industry, 'keywords': keywords}, ignore_index=True)\n",
      "C:\\Users\\imran\\AppData\\Local\\Temp\\ipykernel_19764\\3282195292.py:12: FutureWarning: The frame.append method is deprecated and will be removed from pandas in a future version. Use pandas.concat instead.\n",
      "  new_keywords = new_keywords.append({'industry': industry, 'keywords': keywords}, ignore_index=True)\n",
      "C:\\Users\\imran\\AppData\\Local\\Temp\\ipykernel_19764\\3282195292.py:12: FutureWarning: The frame.append method is deprecated and will be removed from pandas in a future version. Use pandas.concat instead.\n",
      "  new_keywords = new_keywords.append({'industry': industry, 'keywords': keywords}, ignore_index=True)\n",
      "C:\\Users\\imran\\AppData\\Local\\Temp\\ipykernel_19764\\3282195292.py:12: FutureWarning: The frame.append method is deprecated and will be removed from pandas in a future version. Use pandas.concat instead.\n",
      "  new_keywords = new_keywords.append({'industry': industry, 'keywords': keywords}, ignore_index=True)\n",
      "C:\\Users\\imran\\AppData\\Local\\Temp\\ipykernel_19764\\3282195292.py:12: FutureWarning: The frame.append method is deprecated and will be removed from pandas in a future version. Use pandas.concat instead.\n",
      "  new_keywords = new_keywords.append({'industry': industry, 'keywords': keywords}, ignore_index=True)\n",
      "C:\\Users\\imran\\AppData\\Local\\Temp\\ipykernel_19764\\3282195292.py:12: FutureWarning: The frame.append method is deprecated and will be removed from pandas in a future version. Use pandas.concat instead.\n",
      "  new_keywords = new_keywords.append({'industry': industry, 'keywords': keywords}, ignore_index=True)\n"
     ]
    },
    {
     "data": {
      "text/plain": "                   industry                                           keywords\n0                  Telecoms  carrier services, satellite communication, fix...\n1                    Mobile  mobile applications, mobile devices, mobile op...\n2            Communications  real-time communication, chat applications, vi...\n3    Network Infrastructure  content delivery network, network function vir...\n4               5G Networks  5G radio access network, millimeter wave, 5G s...\n..                      ...                                                ...\n113             Video/Audio  media production, video platforms, audio engin...\n114                Genomics  functional genomics, gene expression, epigenom...\n115               Longevity  aging biology, lifespan extension, rejuvenatio...\n116          Gut Microbiome  intestinal microbiota, intestinal ecology, gut...\n117           Life Sciences  drug discovery, therapeutics, biotechnology, p...\n\n[118 rows x 2 columns]",
      "text/html": "<div>\n<style scoped>\n    .dataframe tbody tr th:only-of-type {\n        vertical-align: middle;\n    }\n\n    .dataframe tbody tr th {\n        vertical-align: top;\n    }\n\n    .dataframe thead th {\n        text-align: right;\n    }\n</style>\n<table border=\"1\" class=\"dataframe\">\n  <thead>\n    <tr style=\"text-align: right;\">\n      <th></th>\n      <th>industry</th>\n      <th>keywords</th>\n    </tr>\n  </thead>\n  <tbody>\n    <tr>\n      <th>0</th>\n      <td>Telecoms</td>\n      <td>carrier services, satellite communication, fix...</td>\n    </tr>\n    <tr>\n      <th>1</th>\n      <td>Mobile</td>\n      <td>mobile applications, mobile devices, mobile op...</td>\n    </tr>\n    <tr>\n      <th>2</th>\n      <td>Communications</td>\n      <td>real-time communication, chat applications, vi...</td>\n    </tr>\n    <tr>\n      <th>3</th>\n      <td>Network Infrastructure</td>\n      <td>content delivery network, network function vir...</td>\n    </tr>\n    <tr>\n      <th>4</th>\n      <td>5G Networks</td>\n      <td>5G radio access network, millimeter wave, 5G s...</td>\n    </tr>\n    <tr>\n      <th>...</th>\n      <td>...</td>\n      <td>...</td>\n    </tr>\n    <tr>\n      <th>113</th>\n      <td>Video/Audio</td>\n      <td>media production, video platforms, audio engin...</td>\n    </tr>\n    <tr>\n      <th>114</th>\n      <td>Genomics</td>\n      <td>functional genomics, gene expression, epigenom...</td>\n    </tr>\n    <tr>\n      <th>115</th>\n      <td>Longevity</td>\n      <td>aging biology, lifespan extension, rejuvenatio...</td>\n    </tr>\n    <tr>\n      <th>116</th>\n      <td>Gut Microbiome</td>\n      <td>intestinal microbiota, intestinal ecology, gut...</td>\n    </tr>\n    <tr>\n      <th>117</th>\n      <td>Life Sciences</td>\n      <td>drug discovery, therapeutics, biotechnology, p...</td>\n    </tr>\n  </tbody>\n</table>\n<p>118 rows × 2 columns</p>\n</div>"
     },
     "execution_count": 204,
     "metadata": {},
     "output_type": "execute_result"
    }
   ],
   "source": [
    "with open(r\"C:\\Users\\imran\\DataspellProjects\\WalidCase\\data\\processed\\GPT4_generated_keywords_notepad.txt\", 'r', encoding='utf-8') as f:\n",
    "    text = f.readlines()\n",
    "\n",
    "new_keywords = pd.DataFrame(columns=['industry', 'keywords'])\n",
    "\n",
    "for line in text:\n",
    "    line = line.strip()\n",
    "    if line != '':\n",
    "        line = line.split(':')\n",
    "        industry = line[0].strip()\n",
    "        keywords = line[1].strip().removeprefix('\"').removesuffix('\"')\n",
    "        new_keywords = new_keywords.append({'industry': industry, 'keywords': keywords}, ignore_index=True)\n",
    "new_keywords"
   ],
   "metadata": {
    "collapsed": false,
    "ExecuteTime": {
     "start_time": "2023-05-04T14:47:52.665048Z",
     "end_time": "2023-05-04T14:47:52.840099Z"
    }
   }
  },
  {
   "cell_type": "code",
   "execution_count": 205,
   "outputs": [],
   "source": [
    "new_keywords.to_csv(r'C:\\Users\\imran\\DataspellProjects\\WalidCase\\data\\processed\\GPT4_generated_keywords.csv', index=False)"
   ],
   "metadata": {
    "collapsed": false,
    "ExecuteTime": {
     "start_time": "2023-05-04T14:49:11.381024Z",
     "end_time": "2023-05-04T14:49:11.405463Z"
    }
   }
  }
 ],
 "metadata": {
  "kernelspec": {
   "display_name": "Python 3",
   "language": "python",
   "name": "python3"
  },
  "language_info": {
   "codemirror_mode": {
    "name": "ipython",
    "version": 2
   },
   "file_extension": ".py",
   "mimetype": "text/x-python",
   "name": "python",
   "nbconvert_exporter": "python",
   "pygments_lexer": "ipython2",
   "version": "2.7.6"
  }
 },
 "nbformat": 4,
 "nbformat_minor": 0
}
