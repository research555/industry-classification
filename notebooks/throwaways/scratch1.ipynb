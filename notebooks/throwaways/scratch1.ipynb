{
 "cells": [
  {
   "cell_type": "code",
   "execution_count": 2,
   "metadata": {
    "collapsed": true,
    "ExecuteTime": {
     "start_time": "2023-05-05T14:57:19.890812Z",
     "end_time": "2023-05-05T14:57:24.812523Z"
    }
   },
   "outputs": [],
   "source": [
    "import pandas as pd\n"
   ]
  },
  {
   "cell_type": "code",
   "execution_count": 11,
   "outputs": [],
   "source": [
    "with open(r'C:\\Users\\imran\\DataspellProjects\\WalidCase\\data\\crunchbase_vs_predictions\\kaggle_crunchbase_dataset.csv', 'r', encoding='utf-8', errors='ignore') as f:\n",
    "    crunchbase = pd.read_csv(f)\n",
    "crunchbase.rename(columns={' market ': 'market'}, inplace=True)\n",
    "crunchbase = crunchbase[['name', 'market']]\n",
    "\n",
    "startups = pd.read_csv(r\"C:\\Users\\imran\\DataspellProjects\\WalidCase\\data\\raw\\30k_startups_raw.csv\", encoding='utf-8')"
   ],
   "metadata": {
    "collapsed": false,
    "ExecuteTime": {
     "start_time": "2023-05-05T15:00:07.280118Z",
     "end_time": "2023-05-05T15:00:08.352710Z"
    }
   }
  },
  {
   "cell_type": "code",
   "execution_count": null,
   "outputs": [],
   "source": [
    "crunchbase = crunchbase.notna()\n",
    "startups = startups.notna()\n",
    "\n",
    "# keep only rows where startup name is in crunchbase\n",
    "\n",
    "\n",
    "present_in_updated_kws = crunchbase[crunchbase['name'].isin(startups['name'])]\n",
    "present_in_updated_kws = present_in_updated_kws.merge(startups, on='name', how='left')\n"
   ],
   "metadata": {
    "collapsed": false,
    "ExecuteTime": {
     "start_time": "2023-05-05T13:48:17.206111Z",
     "end_time": "2023-05-05T13:48:17.236633Z"
    },
    "pycharm": {
     "is_executing": true
    }
   }
  },
  {
   "cell_type": "code",
   "execution_count": 15,
   "outputs": [],
   "source": [
    "crunchbase = crunchbase[crunchbase['name'].isin(startups['name'])]\n",
    "crunchbase = crunchbase.merge(startups, on='name', how='left')\n"
   ],
   "metadata": {
    "collapsed": false,
    "ExecuteTime": {
     "start_time": "2023-05-05T15:01:55.459030Z",
     "end_time": "2023-05-05T15:01:55.512201Z"
    }
   }
  },
  {
   "cell_type": "code",
   "execution_count": 17,
   "outputs": [],
   "source": [
    "crunchbase.dropna(inplace=True)\n",
    "crunchbase.drop_duplicates(inplace=True)\n",
    "crunchbase.drop(columns=['id'], inplace=True)"
   ],
   "metadata": {
    "collapsed": false,
    "ExecuteTime": {
     "start_time": "2023-05-05T15:02:30.684973Z",
     "end_time": "2023-05-05T15:02:30.714564Z"
    }
   }
  },
  {
   "cell_type": "code",
   "execution_count": 23,
   "outputs": [
    {
     "data": {
      "text/plain": " Software                  237\n Biotechnology             205\n Mobile                    126\n E-Commerce                106\n Curated Web                83\n                          ... \n Energy Efficiency           1\n Groceries                   1\n Unifed Communications       1\n Bio-Pharm                   1\n Billing                     1\nName: market, Length: 374, dtype: int64"
     },
     "execution_count": 23,
     "metadata": {},
     "output_type": "execute_result"
    }
   ],
   "source": [
    "crunchbase['market'].value_counts()"
   ],
   "metadata": {
    "collapsed": false,
    "ExecuteTime": {
     "start_time": "2023-05-05T15:04:34.098810Z",
     "end_time": "2023-05-05T15:04:34.101780Z"
    }
   }
  },
  {
   "cell_type": "code",
   "execution_count": 31,
   "outputs": [],
   "source": [
    "# produce a dataframe where each market is on column 1 and the column 2 is a continuous string of all startup descriptions in that market called cb_description\n",
    "crunchbase = crunchbase.groupby('market')['cb_description'].apply(lambda x: ' '.join(x)).reset_index()\n",
    "\n",
    "\n"
   ],
   "metadata": {
    "collapsed": false,
    "ExecuteTime": {
     "start_time": "2023-05-05T15:11:58.320605Z",
     "end_time": "2023-05-05T15:11:58.347651Z"
    }
   }
  },
  {
   "cell_type": "code",
   "execution_count": 33,
   "outputs": [],
   "source": [
    "crunchbase.rename(columns={'market': 'name'}, inplace=True)"
   ],
   "metadata": {
    "collapsed": false,
    "ExecuteTime": {
     "start_time": "2023-05-05T15:12:34.791885Z",
     "end_time": "2023-05-05T15:12:34.806707Z"
    }
   }
  },
  {
   "cell_type": "code",
   "execution_count": 55,
   "outputs": [],
   "source": [
    "import spacy\n",
    "from tqdm import tqdm\n",
    "\n",
    "class TextProcessing:\n",
    "    def __init__(self, df: pd.DataFrame = None, industry=False, startup=False):\n",
    "        self.nlp = spacy.load(\"en_core_web_sm\")\n",
    "        self.startups = pd.DataFrame([])\n",
    "        self.industries = pd.DataFrame([])\n",
    "        if startup:\n",
    "            self.startups = df.copy()\n",
    "        elif industry:\n",
    "            self.industries = df.copy()\n",
    "        else:\n",
    "            raise ValueError(\"Please specify if the data is for startups or industries\")\n",
    "\n",
    "    def __iterate_rows(self):\n",
    "        df = self.startups if not self.startups.empty else self.industries\n",
    "        for index, row in tqdm(df.iterrows()):\n",
    "            self.index = index\n",
    "            if not self.industries.empty:\n",
    "                self.about_us = row[\"keywords\"]\n",
    "            else:\n",
    "                self.about_us = row[\"cb_description\"]\n",
    "            yield self\n",
    "\n",
    "    def length_range(self, data, length_range=(30, 150)):\n",
    "\n",
    "        self.startups = data.copy()\n",
    "        self.startups.dropna(inplace=True)\n",
    "        for i, row in self.startups.iterrows():\n",
    "            length = len(row['cb_description'].split())\n",
    "            if length < 15 or length > 60:\n",
    "                self.startups.drop(i, inplace=True)\n",
    "\n",
    "        return self.startups\n",
    "\n",
    "    def remove_non_english_tokens(self, data=None):\n",
    "        if data is not None:\n",
    "            if not self.industries.empty:\n",
    "                self.industries = data.copy()\n",
    "            else:\n",
    "                self.startups = data.copy()\n",
    "        english_tokens = []\n",
    "        for description in self.__iterate_rows():\n",
    "            doc = self.nlp(self.about_us)\n",
    "            tokens = [token.text for token in doc if token.lang_ == 'en' and token.is_alpha]\n",
    "            self.about_us = \" \".join(tokens)\n",
    "            english_tokens.append(self.about_us)\n",
    "\n",
    "        if not self.startups.empty:\n",
    "            self.startups['cb_description'].replace(to_replace=self.startups['cb_description'].unique(),\n",
    "                                                    value=english_tokens, inplace=True)\n",
    "            return self.startups\n",
    "\n",
    "        else:\n",
    "            self.industries['keywords'].replace(to_replace=self.industries['keywords'].unique(), value=english_tokens,\n",
    "                                                inplace=True)\n",
    "            return self.industries\n",
    "\n",
    "    def remove_noisy_tokens(self, data=None):\n",
    "        if data is not None:\n",
    "            if not self.industries.empty:\n",
    "                self.industries = data.copy()\n",
    "            else:\n",
    "                self.startups = data.copy()\n",
    "\n",
    "        cleaned_about_us = []\n",
    "        for item in self.__iterate_rows():\n",
    "            doc = self.nlp(self.about_us)\n",
    "            for ent in doc.ents:\n",
    "                if ent.label_:\n",
    "                    self.about_us = self.about_us.replace(ent.text, \"\")\n",
    "            cleaned_doc = self.nlp(self.about_us)\n",
    "\n",
    "            tokens = [token.text.lower() for token in cleaned_doc if\n",
    "                      not token.is_stop\n",
    "                      and not token.is_punct\n",
    "                      and not token.is_space\n",
    "                      and not token.like_num\n",
    "                      and not token.is_digit\n",
    "                      and not token.is_currency\n",
    "                      and not token.is_bracket\n",
    "                      and not token.is_quote\n",
    "                      and not token.is_left_punct\n",
    "                      and not token.is_right_punct\n",
    "                      and not token.like_url\n",
    "                      and not token.like_email]\n",
    "\n",
    "            self.about_us = \" \".join(tokens)\n",
    "            cleaned_about_us.append(self.about_us)\n",
    "        if not self.industries.empty:\n",
    "            self.industries['keywords'].replace(to_replace=self.industries['keywords'].unique(), value=cleaned_about_us,\n",
    "                                                inplace=True)\n",
    "            return self.industries\n",
    "        else:\n",
    "            self.startups['cb_description'].replace(to_replace=self.startups['cb_description'].unique(),\n",
    "                                                    value=cleaned_about_us, inplace=True)\n",
    "            return self.startups\n",
    "\n",
    "    def lemma(self, data=None):\n",
    "        if data is not None:\n",
    "            if not self.industries.empty:\n",
    "                self.industries = data.copy()\n",
    "            else:\n",
    "                self.startups = data.copy()\n",
    "        lemmatized_about_us = []\n",
    "        for description in self.__iterate_rows():\n",
    "            doc = self.nlp(self.about_us)\n",
    "            tokens = [token.lemma_ for token in doc]\n",
    "            self.about_us = \" \".join(tokens)\n",
    "            lemmatized_about_us.append(\" \".join(tokens))\n",
    "        if not self.industries.empty:\n",
    "            self.industries['keywords'].replace(to_replace=self.industries['keywords'].unique(),\n",
    "                                                value=lemmatized_about_us, inplace=True)\n",
    "            return self.industries\n",
    "        else:\n",
    "            self.startups['cb_description'].replace(to_replace=self.startups['cb_description'].unique(),\n",
    "                                                    value=lemmatized_about_us, inplace=True)\n",
    "            return self.startups\n",
    "\n",
    "    @staticmethod\n",
    "    def make_keywords_unique(df): # very ugly function but its okay\n",
    "        unique_keywords = set()\n",
    "        for index, row in df.iterrows():\n",
    "            keywords = row['keywords'].split()\n",
    "            unique_keywords.update(set(keywords))\n",
    "        appended_keywords = []\n",
    "        for index, row in df.iterrows():\n",
    "            keywords = [keyword for keyword in row['keywords'].split() if keyword in unique_keywords and keyword not in appended_keywords]\n",
    "            appended_keywords.extend(keywords)\n",
    "            new_keys = ' '.join(keywords)\n",
    "            df.at[index, 'keywords'] = new_keys\n",
    "        return df\n",
    "\n",
    "\n"
   ],
   "metadata": {
    "collapsed": false,
    "ExecuteTime": {
     "start_time": "2023-05-05T15:29:23.278519Z",
     "end_time": "2023-05-05T15:29:23.293231Z"
    }
   }
  },
  {
   "cell_type": "code",
   "execution_count": 51,
   "outputs": [],
   "source": [
    "preprocess = TextProcessing(crunchbase, startup=True)\n"
   ],
   "metadata": {
    "collapsed": false,
    "ExecuteTime": {
     "start_time": "2023-05-05T15:24:40.499259Z",
     "end_time": "2023-05-05T15:24:41.704523Z"
    }
   }
  },
  {
   "cell_type": "code",
   "execution_count": 52,
   "outputs": [
    {
     "name": "stderr",
     "output_type": "stream",
     "text": [
      "374it [00:46,  7.98it/s]\n",
      "374it [01:08,  5.43it/s]\n",
      "374it [00:20, 17.95it/s]\n"
     ]
    }
   ],
   "source": [
    "preprocess.remove_non_english_tokens()\n",
    "preprocess.remove_noisy_tokens()\n",
    "df = preprocess.lemma()"
   ],
   "metadata": {
    "collapsed": false,
    "ExecuteTime": {
     "start_time": "2023-05-05T15:24:42.131634Z",
     "end_time": "2023-05-05T15:26:58.910803Z"
    }
   }
  },
  {
   "cell_type": "code",
   "execution_count": 53,
   "outputs": [
    {
     "data": {
      "text/plain": "                      name                                     cb_description\n0                      3D   conceive found management team successful onli...\n1             3D Printing   print usually outsource centrally produce corp...\n2              Accounting   online brand guideline platform develop mainta...\n3            Ad Targeting   boutique video network provide tailor channel ...\n4             Advertising   trust partner create tailor solution improve u...\n5   Advertising Exchanges   openx power highly relevant advertising global...\n6    Advertising Networks   proprietary technology platform agency adverti...\n7   Advertising Platforms   lead app engagement platform performance drive...\n8               Aerospace   developer hybrid satellite cellular network sa...\n9             Agriculture   early stage biotechnology company develop terp...",
      "text/html": "<div>\n<style scoped>\n    .dataframe tbody tr th:only-of-type {\n        vertical-align: middle;\n    }\n\n    .dataframe tbody tr th {\n        vertical-align: top;\n    }\n\n    .dataframe thead th {\n        text-align: right;\n    }\n</style>\n<table border=\"1\" class=\"dataframe\">\n  <thead>\n    <tr style=\"text-align: right;\">\n      <th></th>\n      <th>name</th>\n      <th>cb_description</th>\n    </tr>\n  </thead>\n  <tbody>\n    <tr>\n      <th>0</th>\n      <td>3D</td>\n      <td>conceive found management team successful onli...</td>\n    </tr>\n    <tr>\n      <th>1</th>\n      <td>3D Printing</td>\n      <td>print usually outsource centrally produce corp...</td>\n    </tr>\n    <tr>\n      <th>2</th>\n      <td>Accounting</td>\n      <td>online brand guideline platform develop mainta...</td>\n    </tr>\n    <tr>\n      <th>3</th>\n      <td>Ad Targeting</td>\n      <td>boutique video network provide tailor channel ...</td>\n    </tr>\n    <tr>\n      <th>4</th>\n      <td>Advertising</td>\n      <td>trust partner create tailor solution improve u...</td>\n    </tr>\n    <tr>\n      <th>5</th>\n      <td>Advertising Exchanges</td>\n      <td>openx power highly relevant advertising global...</td>\n    </tr>\n    <tr>\n      <th>6</th>\n      <td>Advertising Networks</td>\n      <td>proprietary technology platform agency adverti...</td>\n    </tr>\n    <tr>\n      <th>7</th>\n      <td>Advertising Platforms</td>\n      <td>lead app engagement platform performance drive...</td>\n    </tr>\n    <tr>\n      <th>8</th>\n      <td>Aerospace</td>\n      <td>developer hybrid satellite cellular network sa...</td>\n    </tr>\n    <tr>\n      <th>9</th>\n      <td>Agriculture</td>\n      <td>early stage biotechnology company develop terp...</td>\n    </tr>\n  </tbody>\n</table>\n</div>"
     },
     "execution_count": 53,
     "metadata": {},
     "output_type": "execute_result"
    }
   ],
   "source": [
    "df.head(10)"
   ],
   "metadata": {
    "collapsed": false,
    "ExecuteTime": {
     "start_time": "2023-05-05T15:27:03.566241Z",
     "end_time": "2023-05-05T15:27:03.581250Z"
    }
   }
  },
  {
   "cell_type": "code",
   "execution_count": 61,
   "outputs": [
    {
     "data": {
      "text/plain": "                   name                                           keywords\n0                   3D   conceive found management team successful onli...\n1          3D Printing   print usually outsource centrally corporation ...\n2           Accounting   guideline platform maintain integrity world br...\n3         Ad Targeting   video network provide tailor channel optimisat...\n4          Advertising   trust university enrollment marketing goal inn...\n..                  ...                                                ...\n369           Wireless   harvester belgium slovenia enocean neul gearbo...\n370              Women                                           innerwear\n371   World Domination                                                    \n372               iPad   audanika harmonic harmonic audanika audanika h...\n373             iPhone                                   cio needle meetup\n\n[374 rows x 2 columns]",
      "text/html": "<div>\n<style scoped>\n    .dataframe tbody tr th:only-of-type {\n        vertical-align: middle;\n    }\n\n    .dataframe tbody tr th {\n        vertical-align: top;\n    }\n\n    .dataframe thead th {\n        text-align: right;\n    }\n</style>\n<table border=\"1\" class=\"dataframe\">\n  <thead>\n    <tr style=\"text-align: right;\">\n      <th></th>\n      <th>name</th>\n      <th>keywords</th>\n    </tr>\n  </thead>\n  <tbody>\n    <tr>\n      <th>0</th>\n      <td>3D</td>\n      <td>conceive found management team successful onli...</td>\n    </tr>\n    <tr>\n      <th>1</th>\n      <td>3D Printing</td>\n      <td>print usually outsource centrally corporation ...</td>\n    </tr>\n    <tr>\n      <th>2</th>\n      <td>Accounting</td>\n      <td>guideline platform maintain integrity world br...</td>\n    </tr>\n    <tr>\n      <th>3</th>\n      <td>Ad Targeting</td>\n      <td>video network provide tailor channel optimisat...</td>\n    </tr>\n    <tr>\n      <th>4</th>\n      <td>Advertising</td>\n      <td>trust university enrollment marketing goal inn...</td>\n    </tr>\n    <tr>\n      <th>...</th>\n      <td>...</td>\n      <td>...</td>\n    </tr>\n    <tr>\n      <th>369</th>\n      <td>Wireless</td>\n      <td>harvester belgium slovenia enocean neul gearbo...</td>\n    </tr>\n    <tr>\n      <th>370</th>\n      <td>Women</td>\n      <td>innerwear</td>\n    </tr>\n    <tr>\n      <th>371</th>\n      <td>World Domination</td>\n      <td></td>\n    </tr>\n    <tr>\n      <th>372</th>\n      <td>iPad</td>\n      <td>audanika harmonic harmonic audanika audanika h...</td>\n    </tr>\n    <tr>\n      <th>373</th>\n      <td>iPhone</td>\n      <td>cio needle meetup</td>\n    </tr>\n  </tbody>\n</table>\n<p>374 rows × 2 columns</p>\n</div>"
     },
     "execution_count": 61,
     "metadata": {},
     "output_type": "execute_result"
    }
   ],
   "source": [
    "# remove words from the descriptions that are shared by any other description without using make_keywords_unique\n",
    "df.rename(columns={'cb_description': 'keywords'}, inplace=True)\n",
    "industry_df = df.copy()\n",
    "preprocess = TextProcessing(industry_df, startup=False, industry=True)\n",
    "preprocess.make_keywords_unique(industry_df)\n"
   ],
   "metadata": {
    "collapsed": false,
    "ExecuteTime": {
     "start_time": "2023-05-05T15:31:15.491525Z",
     "end_time": "2023-05-05T15:31:20.367288Z"
    }
   }
  },
  {
   "cell_type": "code",
   "execution_count": 57,
   "outputs": [
    {
     "data": {
      "text/plain": "0       103\n1       108\n2        13\n3       171\n4      2003\n       ... \n369     262\n370       8\n371      12\n372      87\n373     114\nLength: 374, dtype: int64"
     },
     "execution_count": 57,
     "metadata": {},
     "output_type": "execute_result"
    }
   ],
   "source": [
    "df.apply(lambda x: len(x['keywords'].split()), axis=1)"
   ],
   "metadata": {
    "collapsed": false,
    "ExecuteTime": {
     "start_time": "2023-05-05T15:29:42.512026Z",
     "end_time": "2023-05-05T15:29:42.544937Z"
    }
   }
  },
  {
   "cell_type": "code",
   "execution_count": 58,
   "outputs": [
    {
     "data": {
      "text/plain": "0       103\n1       104\n2         7\n3       131\n4      1255\n       ... \n369      10\n370       1\n371       0\n372       8\n373       3\nLength: 374, dtype: int64"
     },
     "execution_count": 58,
     "metadata": {},
     "output_type": "execute_result"
    }
   ],
   "source": [
    "industry_df.apply(lambda x: len(x['keywords'].split()), axis=1)"
   ],
   "metadata": {
    "collapsed": false,
    "ExecuteTime": {
     "start_time": "2023-05-05T15:29:49.525452Z",
     "end_time": "2023-05-05T15:29:49.548843Z"
    }
   }
  },
  {
   "cell_type": "code",
   "execution_count": 76,
   "outputs": [],
   "source": [
    "for row in industry_df.iterrows():\n",
    "    s = set(row[1]['keywords'].split())\n",
    "    row[1]['keywords'] = ' '.join(s)"
   ],
   "metadata": {
    "collapsed": false,
    "ExecuteTime": {
     "start_time": "2023-05-05T15:37:08.889172Z",
     "end_time": "2023-05-05T15:37:08.927734Z"
    }
   }
  },
  {
   "cell_type": "code",
   "execution_count": 82,
   "outputs": [
    {
     "data": {
      "text/plain": "                       name                                           keywords\n0                       3D   community tin affiliate aggregation fit intera...\n1              3D Printing   engineer dream prototype needlessly realize ce...\n3             Ad Targeting   provide improve content web transformative ret...\n4              Advertising   pitch submit virtual training render conversio...\n8                Aerospace   car install beamforming boat wind drone autono...\n9              Agriculture   sodas ingredient worth aroma nutraceutical yea...\n11               Analytics   interpret librarian simply page coca rapid rem...\n12                 Android   carpoole defend gamer payout fiddle term honey...\n15                    Apps   stake transfer storm detailed appoint cooperat...\n19                Auctions   excess fee proceeding prefer pace having aucti...\n27                Big Data   metafused example harnesses consistent ordinar...\n32           Biotechnology   tacticathâ upregulation pressure death alkylat...\n33                 Bitcoin   ledger gibraltar speak criminal sustainability...\n48            Clean Energy   nearing containerize underperformance converte...\n49        Clean Technology   operations stable circularity imeche carpet mi...\n50         Cloud Computing   pocket reservation situation thousand import d...\n61              Consulting   factory remotely mining l off disciplinary wei...\n62    Consumer Electronics   radiotime proptech audiobook trainer photograp...\n76            Crowdfunding   easier sean marathon unicef fundraiser york by...\n78             Curated Web   caption confusion atd leveraged id advocate at...\n84               Databases   ma hadoop barebs oppenheimer duplication reinv...\n94           Digital Media   adblocker intimacy inappropriate immediacy rem...\n103             E-Commerce   enclosure sku alexandalexa massively admazely ...\n105              Education   accreditation cardiff curricular bulk catalyst...\n118    Enterprise Software   workflows weblence router datamine invoicing u...\n120          Entertainment   battle legitimate unsigned not seeing keynote ...\n126                Fashion   lookk povel customized floor andre avant perso...\n130                Finance   behavioral mckinsey instantaneously notificati...\n139                  Games   casual aug painless lovely fiction ds accessib...\n145    Hardware + Software   transmitter smartwatche acne mesh penboost bea...\n146            Health Care   disability ecro anisotropic rota endoscopic ca...\n149    Health and Wellness   ft prevently audiology respiration beddit nort...\n153            Hospitality   bang aerofarm judge cultivate lager aerofarms ...\n167               Internet   acesse i sorely rarity incumbent gets servicin...\n190          Manufacturing   socket delta manufacturers spy micropixellated...\n200              Messaging   performer zillow decryption landline kindle en...\n201                 Mobile   datacard idle sc storyteller lotterie tagtagci...\n211                  Music   copyrightable occation discographie scrobbled ...\n214         Nanotechnology   rejection electrode iron contaminant counterfe...\n242            Photography   slideshow cherish brainchild fans zoom shoutou...\n279               Security   certificateless aml metallic pixelpin false in...\n283         Semiconductors   partial thinness quest heater nics mic scannan...\n299           Social Media   consensually historian kayak dating fairly reu...\n306               Software   invenias etsy saga performant prison extractio...\n321             Technology   heatmappe virtusize lumine yoox nodes moda dat...\n338                 Travel   kitesurfe wheely rediscover snow igloo america...\n358         Virtual Worlds   berliner hohen geraten seine einen accesible d...\n364            Web Hosting   incus virtualisation backhaul knife multipoint...",
      "text/html": "<div>\n<style scoped>\n    .dataframe tbody tr th:only-of-type {\n        vertical-align: middle;\n    }\n\n    .dataframe tbody tr th {\n        vertical-align: top;\n    }\n\n    .dataframe thead th {\n        text-align: right;\n    }\n</style>\n<table border=\"1\" class=\"dataframe\">\n  <thead>\n    <tr style=\"text-align: right;\">\n      <th></th>\n      <th>name</th>\n      <th>keywords</th>\n    </tr>\n  </thead>\n  <tbody>\n    <tr>\n      <th>0</th>\n      <td>3D</td>\n      <td>community tin affiliate aggregation fit intera...</td>\n    </tr>\n    <tr>\n      <th>1</th>\n      <td>3D Printing</td>\n      <td>engineer dream prototype needlessly realize ce...</td>\n    </tr>\n    <tr>\n      <th>3</th>\n      <td>Ad Targeting</td>\n      <td>provide improve content web transformative ret...</td>\n    </tr>\n    <tr>\n      <th>4</th>\n      <td>Advertising</td>\n      <td>pitch submit virtual training render conversio...</td>\n    </tr>\n    <tr>\n      <th>8</th>\n      <td>Aerospace</td>\n      <td>car install beamforming boat wind drone autono...</td>\n    </tr>\n    <tr>\n      <th>9</th>\n      <td>Agriculture</td>\n      <td>sodas ingredient worth aroma nutraceutical yea...</td>\n    </tr>\n    <tr>\n      <th>11</th>\n      <td>Analytics</td>\n      <td>interpret librarian simply page coca rapid rem...</td>\n    </tr>\n    <tr>\n      <th>12</th>\n      <td>Android</td>\n      <td>carpoole defend gamer payout fiddle term honey...</td>\n    </tr>\n    <tr>\n      <th>15</th>\n      <td>Apps</td>\n      <td>stake transfer storm detailed appoint cooperat...</td>\n    </tr>\n    <tr>\n      <th>19</th>\n      <td>Auctions</td>\n      <td>excess fee proceeding prefer pace having aucti...</td>\n    </tr>\n    <tr>\n      <th>27</th>\n      <td>Big Data</td>\n      <td>metafused example harnesses consistent ordinar...</td>\n    </tr>\n    <tr>\n      <th>32</th>\n      <td>Biotechnology</td>\n      <td>tacticathâ upregulation pressure death alkylat...</td>\n    </tr>\n    <tr>\n      <th>33</th>\n      <td>Bitcoin</td>\n      <td>ledger gibraltar speak criminal sustainability...</td>\n    </tr>\n    <tr>\n      <th>48</th>\n      <td>Clean Energy</td>\n      <td>nearing containerize underperformance converte...</td>\n    </tr>\n    <tr>\n      <th>49</th>\n      <td>Clean Technology</td>\n      <td>operations stable circularity imeche carpet mi...</td>\n    </tr>\n    <tr>\n      <th>50</th>\n      <td>Cloud Computing</td>\n      <td>pocket reservation situation thousand import d...</td>\n    </tr>\n    <tr>\n      <th>61</th>\n      <td>Consulting</td>\n      <td>factory remotely mining l off disciplinary wei...</td>\n    </tr>\n    <tr>\n      <th>62</th>\n      <td>Consumer Electronics</td>\n      <td>radiotime proptech audiobook trainer photograp...</td>\n    </tr>\n    <tr>\n      <th>76</th>\n      <td>Crowdfunding</td>\n      <td>easier sean marathon unicef fundraiser york by...</td>\n    </tr>\n    <tr>\n      <th>78</th>\n      <td>Curated Web</td>\n      <td>caption confusion atd leveraged id advocate at...</td>\n    </tr>\n    <tr>\n      <th>84</th>\n      <td>Databases</td>\n      <td>ma hadoop barebs oppenheimer duplication reinv...</td>\n    </tr>\n    <tr>\n      <th>94</th>\n      <td>Digital Media</td>\n      <td>adblocker intimacy inappropriate immediacy rem...</td>\n    </tr>\n    <tr>\n      <th>103</th>\n      <td>E-Commerce</td>\n      <td>enclosure sku alexandalexa massively admazely ...</td>\n    </tr>\n    <tr>\n      <th>105</th>\n      <td>Education</td>\n      <td>accreditation cardiff curricular bulk catalyst...</td>\n    </tr>\n    <tr>\n      <th>118</th>\n      <td>Enterprise Software</td>\n      <td>workflows weblence router datamine invoicing u...</td>\n    </tr>\n    <tr>\n      <th>120</th>\n      <td>Entertainment</td>\n      <td>battle legitimate unsigned not seeing keynote ...</td>\n    </tr>\n    <tr>\n      <th>126</th>\n      <td>Fashion</td>\n      <td>lookk povel customized floor andre avant perso...</td>\n    </tr>\n    <tr>\n      <th>130</th>\n      <td>Finance</td>\n      <td>behavioral mckinsey instantaneously notificati...</td>\n    </tr>\n    <tr>\n      <th>139</th>\n      <td>Games</td>\n      <td>casual aug painless lovely fiction ds accessib...</td>\n    </tr>\n    <tr>\n      <th>145</th>\n      <td>Hardware + Software</td>\n      <td>transmitter smartwatche acne mesh penboost bea...</td>\n    </tr>\n    <tr>\n      <th>146</th>\n      <td>Health Care</td>\n      <td>disability ecro anisotropic rota endoscopic ca...</td>\n    </tr>\n    <tr>\n      <th>149</th>\n      <td>Health and Wellness</td>\n      <td>ft prevently audiology respiration beddit nort...</td>\n    </tr>\n    <tr>\n      <th>153</th>\n      <td>Hospitality</td>\n      <td>bang aerofarm judge cultivate lager aerofarms ...</td>\n    </tr>\n    <tr>\n      <th>167</th>\n      <td>Internet</td>\n      <td>acesse i sorely rarity incumbent gets servicin...</td>\n    </tr>\n    <tr>\n      <th>190</th>\n      <td>Manufacturing</td>\n      <td>socket delta manufacturers spy micropixellated...</td>\n    </tr>\n    <tr>\n      <th>200</th>\n      <td>Messaging</td>\n      <td>performer zillow decryption landline kindle en...</td>\n    </tr>\n    <tr>\n      <th>201</th>\n      <td>Mobile</td>\n      <td>datacard idle sc storyteller lotterie tagtagci...</td>\n    </tr>\n    <tr>\n      <th>211</th>\n      <td>Music</td>\n      <td>copyrightable occation discographie scrobbled ...</td>\n    </tr>\n    <tr>\n      <th>214</th>\n      <td>Nanotechnology</td>\n      <td>rejection electrode iron contaminant counterfe...</td>\n    </tr>\n    <tr>\n      <th>242</th>\n      <td>Photography</td>\n      <td>slideshow cherish brainchild fans zoom shoutou...</td>\n    </tr>\n    <tr>\n      <th>279</th>\n      <td>Security</td>\n      <td>certificateless aml metallic pixelpin false in...</td>\n    </tr>\n    <tr>\n      <th>283</th>\n      <td>Semiconductors</td>\n      <td>partial thinness quest heater nics mic scannan...</td>\n    </tr>\n    <tr>\n      <th>299</th>\n      <td>Social Media</td>\n      <td>consensually historian kayak dating fairly reu...</td>\n    </tr>\n    <tr>\n      <th>306</th>\n      <td>Software</td>\n      <td>invenias etsy saga performant prison extractio...</td>\n    </tr>\n    <tr>\n      <th>321</th>\n      <td>Technology</td>\n      <td>heatmappe virtusize lumine yoox nodes moda dat...</td>\n    </tr>\n    <tr>\n      <th>338</th>\n      <td>Travel</td>\n      <td>kitesurfe wheely rediscover snow igloo america...</td>\n    </tr>\n    <tr>\n      <th>358</th>\n      <td>Virtual Worlds</td>\n      <td>berliner hohen geraten seine einen accesible d...</td>\n    </tr>\n    <tr>\n      <th>364</th>\n      <td>Web Hosting</td>\n      <td>incus virtualisation backhaul knife multipoint...</td>\n    </tr>\n  </tbody>\n</table>\n</div>"
     },
     "execution_count": 82,
     "metadata": {},
     "output_type": "execute_result"
    }
   ],
   "source": [
    "industry_df.apply(lambda x: len(x['keywords'].split()), axis=1)\n",
    "x = industry_df[industry_df['keywords'].apply(lambda x: len(x.split())) > 30]\n",
    "x"
   ],
   "metadata": {
    "collapsed": false,
    "ExecuteTime": {
     "start_time": "2023-05-05T15:40:18.872963Z",
     "end_time": "2023-05-05T15:40:18.889480Z"
    }
   }
  },
  {
   "cell_type": "code",
   "execution_count": 81,
   "outputs": [],
   "source": [
    "from keybert import KeyBERT\n",
    "model = KeyBERT()\n"
   ],
   "metadata": {
    "collapsed": false,
    "ExecuteTime": {
     "start_time": "2023-05-05T15:39:25.082418Z",
     "end_time": "2023-05-05T15:39:31.144428Z"
    }
   }
  },
  {
   "cell_type": "code",
   "execution_count": 88,
   "outputs": [
    {
     "name": "stdout",
     "output_type": "stream",
     "text": [
      "{' Messaging ': [('decryption', 0.5319), ('transcribe', 0.4926), ('encrypt', 0.4604), ('telephone', 0.4092), ('kindle', 0.3699), ('transcranial', 0.3518), ('audios', 0.3449), ('landline', 0.3371), ('zillow', 0.2864), ('equips', 0.2838)]}\n",
      "{' Mobile ': [('checklist', 0.3689), ('stripe', 0.3358), ('supercomputer', 0.3319), ('datacard', 0.3203), ('cryptos', 0.3112), ('telekom', 0.2799), ('offices', 0.2795), ('luxurious', 0.2655), ('overtraine', 0.2352), ('tagtagcity', 0.2294)]}\n",
      "{' Music ': [('copyrightable', 0.5175), ('discographie', 0.4432), ('communities', 0.3509), ('netlab', 0.3441), ('videoclip', 0.3288), ('gig', 0.3262), ('chord', 0.3019), ('tabs', 0.2936), ('vinyl', 0.2917), ('outgoing', 0.2786)]}\n",
      "{' Nanotechnology ': [('fullerene', 0.4292), ('ferrofluid', 0.3895), ('electrochemical', 0.3558), ('nanocompound', 0.3272), ('heterostructured', 0.3267), ('superparamagnetic', 0.3031), ('contaminant', 0.2293), ('envirox', 0.2267), ('phosphor', 0.1874), ('rejection', 0.1358)]}\n",
      "{' Photography ': [('slideshow', 0.4838), ('panorama', 0.466), ('skateboard', 0.4483), ('procession', 0.4439), ('brainchild', 0.3799), ('nxvision', 0.3589), ('latour', 0.3577), ('aunt', 0.3494), ('memorie', 0.3452), ('placeshifte', 0.3309)]}\n",
      "{' Security ': [('certificateless', 0.4148), ('securewave', 0.3854), ('cybersecurity', 0.3811), ('pixelpin', 0.3787), ('authenticating', 0.3316), ('idms', 0.3229), ('aml', 0.321), ('metallic', 0.3172), ('federation', 0.3155), ('bug', 0.2946)]}\n",
      "{' Semiconductors ': [('heater', 0.3726), ('micromachine', 0.3618), ('nics', 0.3554), ('monolithic', 0.3412), ('cpus', 0.3357), ('dielectric', 0.2941), ('telecomm', 0.2921), ('dtmb', 0.2618), ('radar', 0.2616), ('reconfigure', 0.2385)]}\n",
      "{' Social Media ': [('kyiv', 0.436), ('taboo', 0.3932), ('reunite', 0.3852), ('kayak', 0.3826), ('socialize', 0.3791), ('dating', 0.3636), ('mile', 0.3484), ('similarity', 0.3412), ('historian', 0.3206), ('travelmuse', 0.3093)]}\n",
      "{' Software ': [('categorise', 0.3607), ('synonyms', 0.3188), ('columned', 0.2992), ('guild', 0.2949), ('invenias', 0.2947), ('investigative', 0.2914), ('personnel', 0.2835), ('rebuilt', 0.2796), ('fintechs', 0.27), ('inefficiencie', 0.2435)]}\n",
      "{' Technology ': [('datawall', 0.385), ('enforcement', 0.3652), ('coal', 0.3575), ('heatmappe', 0.3569), ('nodes', 0.3102), ('pactera', 0.304), ('obstacle', 0.2979), ('centurylink', 0.2821), ('operandi', 0.2764), ('formative', 0.2729)]}\n",
      "{' Travel ': [('ski', 0.5668), ('resort', 0.529), ('kitesurfe', 0.4434), ('sailboat', 0.4244), ('onefinestay', 0.3886), ('rediscover', 0.3704), ('reisetipps', 0.3671), ('proffesional', 0.3491), ('wheely', 0.3417), ('estonia', 0.3337)]}\n",
      "{' Virtual Worlds ': [('agentenpool', 0.4262), ('berliner', 0.4076), ('beschäftigt', 0.4059), ('spezialisierten', 0.3835), ('auslastungsoptimierte', 0.378), ('platforms', 0.3145), ('skillset', 0.2836), ('geraten', 0.2661), ('province', 0.2631), ('seine', 0.2478)]}\n",
      "{' Web Hosting ': [('virtualisation', 0.4015), ('transceiver', 0.3852), ('backplane', 0.3691), ('wan', 0.3357), ('xdsl', 0.3251), ('dsl', 0.3144), ('multipoint', 0.3093), ('microarchitecture', 0.3012), ('fttp', 0.2418), ('incus', 0.2139)]}\n",
      "{' 3D ': [('boutique', 0.4524), ('aggregation', 0.4178), ('blend', 0.4149), ('community', 0.4019), ('interactive', 0.3913), ('affiliate', 0.3798), ('partnership', 0.3771), ('visualisation', 0.3759), ('tin', 0.3208), ('furnish', 0.2986)]}\n",
      "{' 3D Printing ': [('manufacturing', 0.508), ('designer', 0.4941), ('engineer', 0.4835), ('outsource', 0.3968), ('develop', 0.3883), ('prototype', 0.3799), ('stereolithography', 0.3674), ('software', 0.353), ('sla', 0.3333), ('service', 0.3204)]}\n",
      "{' Ad Targeting ': [('entrepreneur', 0.4365), ('innovation', 0.4164), ('advertising', 0.3836), ('personalization', 0.3501), ('retail', 0.3318), ('startups', 0.322), ('content', 0.2984), ('technologist', 0.2942), ('broaden', 0.2669), ('headquarter', 0.2543)]}\n",
      "{' Advertising ': [('recruitment', 0.3436), ('achieve', 0.3256), ('advertise', 0.2977), ('extensive', 0.2835), ('experience', 0.255), ('venture', 0.2546), ('populating', 0.2544), ('roi', 0.2533), ('generative', 0.235), ('customizable', 0.2289)]}\n",
      "{' Aerospace ': [('metamaterial', 0.4938), ('drone', 0.414), ('drones', 0.4064), ('antenna', 0.3641), ('automate', 0.2875), ('hybrid', 0.2792), ('boat', 0.2421), ('turbine', 0.2357), ('barrier', 0.2122), ('beamforming', 0.1803)]}\n",
      "{' Agriculture ': [('grapefruit', 0.4804), ('sodas', 0.477), ('juice', 0.4715), ('aroma', 0.4478), ('biofuel', 0.4195), ('sesquiterpenes', 0.3925), ('waste', 0.3695), ('chemical', 0.3655), ('nutraceutical', 0.3644), ('reuse', 0.3614)]}\n",
      "{' Analytics ': [('librarian', 0.5597), ('retrieval', 0.3043), ('encompass', 0.2701), ('acronym', 0.255), ('consulting', 0.2306), ('interpret', 0.227), ('warehouse', 0.2178), ('regulatory', 0.2146), ('kantar', 0.2113), ('pinterest', 0.2067)]}\n",
      "{' Android ': [('carpoole', 0.5143), ('arcade', 0.4232), ('customize', 0.3293), ('elegantly', 0.3284), ('organise', 0.3132), ('fiddle', 0.306), ('payout', 0.3032), ('neighbourhood', 0.3013), ('defend', 0.294), ('adopter', 0.2876)]}\n",
      "{' Apps ': [('magazine', 0.4127), ('genre', 0.3834), ('contentful', 0.3372), ('vans', 0.3304), ('organize', 0.3301), ('hip', 0.3233), ('stake', 0.3019), ('ravnås', 0.2802), ('smartphs', 0.2794), ('reimagine', 0.2787)]}\n",
      "{' Auctions ': [('bidding', 0.4789), ('fee', 0.4583), ('supplier', 0.4393), ('wholesaler', 0.4212), ('luxury', 0.3877), ('excess', 0.3716), ('proceeding', 0.3679), ('foreign', 0.3531), ('constraint', 0.3331), ('ssps', 0.3325)]}\n",
      "{' Big Data ': [('agronomic', 0.4771), ('metafused', 0.3836), ('sustainably', 0.3821), ('crowdfunding', 0.3746), ('farming', 0.3742), ('stack', 0.3288), ('azure', 0.3077), ('multinational', 0.307), ('datasift', 0.2893), ('climate', 0.2855)]}\n",
      "{' Biotechnology ': [('biologic', 0.3328), ('biodefense', 0.3291), ('microarrays', 0.2805), ('immunomodulation', 0.2674), ('prescription', 0.2592), ('healing', 0.2585), ('oncovex', 0.2514), ('guided', 0.2271), ('ophthalmology', 0.2251), ('neuropathy', 0.2194)]}\n",
      "{' Bitcoin ': [('ledger', 0.5444), ('cryptocurrencie', 0.5222), ('blockchain', 0.5118), ('bitcoin', 0.5049), ('cryptographic', 0.416), ('gibraltar', 0.3745), ('trader', 0.3496), ('undermine', 0.3202), ('auditing', 0.3201), ('institutional', 0.2979)]}\n",
      "{' Clean Energy ': [('pump', 0.4182), ('hydraulic', 0.3726), ('converter', 0.3543), ('containerize', 0.3509), ('fertilizer', 0.3238), ('substation', 0.2758), ('marine', 0.2719), ('underperformance', 0.2545), ('emec', 0.217), ('slum', 0.2007)]}\n",
      "{' Clean Technology ': [('biomass', 0.4427), ('machinery', 0.348), ('tankering', 0.3366), ('refining', 0.3247), ('horticulture', 0.3214), ('diesel', 0.3209), ('compressor', 0.3106), ('cleantech', 0.3094), ('recycling', 0.2973), ('photovoltaic', 0.2429)]}\n",
      "{' Cloud Computing ': [('reservation', 0.4711), ('cloudapp', 0.4438), ('tracker', 0.4344), ('queue', 0.3958), ('kiosk', 0.3784), ('chatter', 0.3702), ('transcode', 0.3329), ('offload', 0.3322), ('pusher', 0.3199), ('basecamp', 0.2913)]}\n",
      "{' Consulting ': [('mining', 0.514), ('refinery', 0.4534), ('geology', 0.4274), ('consultants', 0.3828), ('employment', 0.3721), ('explorationist', 0.3515), ('shareholder', 0.3432), ('barrister', 0.3275), ('succession', 0.2953), ('remotely', 0.2759)]}\n",
      "{' Consumer Electronics ': [('radio', 0.532), ('audiobook', 0.4639), ('pandora', 0.4147), ('headset', 0.4129), ('bluetooth', 0.4062), ('gadget', 0.3892), ('gps', 0.3888), ('napster', 0.3856), ('trainer', 0.3842), ('outfit', 0.3255)]}\n",
      "{' Crowdfunding ': [('fundraiser', 0.5802), ('philanthropist', 0.4687), ('unicef', 0.4507), ('nonprofit', 0.4259), ('marathon', 0.419), ('sean', 0.4089), ('mashable', 0.3869), ('mudder', 0.3199), ('ironman', 0.2899), ('sugru', 0.2756)]}\n",
      "{' Curated Web ': [('captioning', 0.3955), ('transact', 0.2568), ('leveraged', 0.2556), ('characterise', 0.2358), ('enrichment', 0.2314), ('encapsulate', 0.2284), ('tab', 0.1966), ('barcode', 0.1863), ('marriott', 0.1812), ('hommel', 0.1726)]}\n",
      "{' Databases ': [('hdfs', 0.5397), ('hadoop', 0.5334), ('mariadb', 0.4639), ('duplication', 0.4144), ('mysql', 0.3814), ('hq', 0.3657), ('spendhq', 0.3581), ('barebs', 0.3466), ('worklog', 0.3351), ('compression', 0.3015)]}\n",
      "{' Digital Media ': [('adblocke', 0.7037), ('adblocker', 0.6839), ('adblock', 0.6632), ('seo', 0.3752), ('remixe', 0.3545), ('consumerise', 0.3418), ('intrusive', 0.3362), ('intranet', 0.2677), ('pageviews', 0.2524), ('telepresence', 0.2523)]}\n",
      "{' E-Commerce ': [('wardrobe', 0.3529), ('personalisation', 0.3396), ('judo', 0.3171), ('artisan', 0.2935), ('typeset', 0.2897), ('fclub', 0.2862), ('impress', 0.2701), ('orthotic', 0.2531), ('到喜啦婚宴网', 0.2454), ('carp', 0.2436)]}\n",
      "{' Education ': [('educator', 0.489), ('didactics', 0.4559), ('classroom', 0.4396), ('postgraduate', 0.4352), ('curricular', 0.4271), ('curricula', 0.4225), ('examination', 0.4175), ('accreditation', 0.3489), ('employable', 0.3117), ('talente', 0.274)]}\n",
      "{' Enterprise Software ': [('workflows', 0.4361), ('logistics', 0.3943), ('cloudpaging', 0.3743), ('eflow', 0.3616), ('productive', 0.3475), ('infospace', 0.3084), ('stackable', 0.304), ('telephony', 0.3008), ('categorization', 0.2917), ('autocorrect', 0.2685)]}\n",
      "{' Entertainment ': [('keynote', 0.4897), ('battle', 0.3942), ('theater', 0.3533), ('composer', 0.3449), ('engaging', 0.3316), ('niche', 0.3197), ('legitimate', 0.3046), ('unsigned', 0.2981), ('overdrive', 0.2816), ('cinepass', 0.2525)]}\n",
      "{' Fashion ': [('designers', 0.4778), ('stylist', 0.4655), ('floor', 0.3877), ('portrait', 0.3866), ('dress', 0.3826), ('customized', 0.3671), ('trouser', 0.365), ('lookk', 0.3632), ('shaving', 0.3394), ('earner', 0.3377)]}\n",
      "{' Finance ': [('microfinance', 0.4195), ('banker', 0.3685), ('mckinsey', 0.3517), ('diversified', 0.3451), ('bookkeeping', 0.3134), ('wealthsimple', 0.3035), ('mfis', 0.3003), ('mywise', 0.2891), ('behavioral', 0.2752), ('withdrawal', 0.2728)]}\n",
      "{' Games ': [('comic_strip', 0.3523), ('casual', 0.3255), ('indie', 0.3167), ('videogame', 0.2916), ('disney', 0.29), ('modernize', 0.2841), ('bettymovil', 0.2834), ('painless', 0.2779), ('ons', 0.2416), ('bebo', 0.2384)]}\n",
      "{' Hardware + Software ': [('smartwatche', 0.3852), ('sportive', 0.3691), ('transmitter', 0.3257), ('electro', 0.3226), ('laptops', 0.3196), ('tangible', 0.3172), ('cellphs', 0.3015), ('assembler', 0.2968), ('bird', 0.2938), ('rebrand', 0.2815)]}\n",
      "{' Health Care ': [('orthopedic', 0.4723), ('medtech', 0.3832), ('spine', 0.3537), ('oncology', 0.3119), ('osteoconductive', 0.3037), ('bonesupport', 0.2959), ('dietitians', 0.2939), ('pediatric', 0.2921), ('augmentation', 0.2418), ('treatable', 0.2364)]}\n",
      "{' Health and Wellness ': [('ballistocardiography', 0.4074), ('larval', 0.3978), ('scpharmaceutical', 0.3666), ('telemedicine', 0.3592), ('respiration', 0.339), ('audiology', 0.3358), ('subcutaneous', 0.3089), ('snore', 0.2961), ('certme', 0.2785), ('mezzanine', 0.2543)]}\n",
      "{' Hospitality ': [('brewery', 0.6242), ('brew', 0.5868), ('brewing', 0.5761), ('aerofarms', 0.5068), ('bottled', 0.464), ('lager', 0.4376), ('ale', 0.4218), ('cultivate', 0.3826), ('industrially', 0.3771), ('hospitality', 0.3288)]}\n",
      "{' Internet ': [('colocation', 0.4099), ('incumbent', 0.4), ('honour', 0.3858), ('voluntary', 0.3641), ('servicing', 0.3539), ('onboard', 0.3456), ('rarity', 0.32), ('crime', 0.311), ('sms', 0.2991), ('verifying', 0.2991)]}\n",
      "{' Manufacturing ': [('compost', 0.3708), ('sewage', 0.3617), ('corrosion', 0.3589), ('pipe', 0.3553), ('xenobiotics', 0.3532), ('pond', 0.3385), ('groundwater', 0.3297), ('recycler', 0.2902), ('micropixellated', 0.2873), ('bosch', 0.2803)]}\n",
      "{' Messaging ': [('decryption', 0.5319), ('transcribe', 0.4926), ('encrypt', 0.4604), ('telephone', 0.4092), ('kindle', 0.3699), ('transcranial', 0.3518), ('audios', 0.3449), ('landline', 0.3371), ('zillow', 0.2864), ('equips', 0.2838)]}\n",
      "{' Mobile ': [('checklist', 0.3689), ('stripe', 0.3358), ('supercomputer', 0.3319), ('datacard', 0.3203), ('cryptos', 0.3112), ('telekom', 0.2799), ('offices', 0.2795), ('luxurious', 0.2655), ('overtraine', 0.2352), ('tagtagcity', 0.2294)]}\n",
      "{' Music ': [('copyrightable', 0.5175), ('discographie', 0.4432), ('communities', 0.3509), ('netlab', 0.3441), ('videoclip', 0.3288), ('gig', 0.3262), ('chord', 0.3019), ('tabs', 0.2936), ('vinyl', 0.2917), ('outgoing', 0.2786)]}\n",
      "{' Nanotechnology ': [('fullerene', 0.4292), ('ferrofluid', 0.3895), ('electrochemical', 0.3558), ('nanocompound', 0.3272), ('heterostructured', 0.3267), ('superparamagnetic', 0.3031), ('contaminant', 0.2293), ('envirox', 0.2267), ('phosphor', 0.1874), ('rejection', 0.1358)]}\n",
      "{' Photography ': [('slideshow', 0.4838), ('panorama', 0.466), ('skateboard', 0.4483), ('procession', 0.4439), ('brainchild', 0.3799), ('nxvision', 0.3589), ('latour', 0.3577), ('aunt', 0.3494), ('memorie', 0.3452), ('placeshifte', 0.3309)]}\n",
      "{' Security ': [('certificateless', 0.4148), ('securewave', 0.3854), ('cybersecurity', 0.3811), ('pixelpin', 0.3787), ('authenticating', 0.3316), ('idms', 0.3229), ('aml', 0.321), ('metallic', 0.3172), ('federation', 0.3155), ('bug', 0.2946)]}\n",
      "{' Semiconductors ': [('heater', 0.3726), ('micromachine', 0.3618), ('nics', 0.3554), ('monolithic', 0.3412), ('cpus', 0.3357), ('dielectric', 0.2941), ('telecomm', 0.2921), ('dtmb', 0.2618), ('radar', 0.2616), ('reconfigure', 0.2385)]}\n",
      "{' Social Media ': [('kyiv', 0.436), ('taboo', 0.3932), ('reunite', 0.3852), ('kayak', 0.3826), ('socialize', 0.3791), ('dating', 0.3636), ('mile', 0.3484), ('similarity', 0.3412), ('historian', 0.3206), ('travelmuse', 0.3093)]}\n",
      "{' Software ': [('categorise', 0.3607), ('synonyms', 0.3188), ('columned', 0.2992), ('guild', 0.2949), ('invenias', 0.2947), ('investigative', 0.2914), ('personnel', 0.2835), ('rebuilt', 0.2796), ('fintechs', 0.27), ('inefficiencie', 0.2435)]}\n",
      "{' Technology ': [('datawall', 0.385), ('enforcement', 0.3652), ('coal', 0.3575), ('heatmappe', 0.3569), ('nodes', 0.3102), ('pactera', 0.304), ('obstacle', 0.2979), ('centurylink', 0.2821), ('operandi', 0.2764), ('formative', 0.2729)]}\n",
      "{' Travel ': [('ski', 0.5668), ('resort', 0.529), ('kitesurfe', 0.4434), ('sailboat', 0.4244), ('onefinestay', 0.3886), ('rediscover', 0.3704), ('reisetipps', 0.3671), ('proffesional', 0.3491), ('wheely', 0.3417), ('estonia', 0.3337)]}\n",
      "{' Virtual Worlds ': [('agentenpool', 0.4262), ('berliner', 0.4076), ('beschäftigt', 0.4059), ('spezialisierten', 0.3835), ('auslastungsoptimierte', 0.378), ('platforms', 0.3145), ('skillset', 0.2836), ('geraten', 0.2661), ('province', 0.2631), ('seine', 0.2478)]}\n",
      "{' Web Hosting ': [('virtualisation', 0.4015), ('transceiver', 0.3852), ('backplane', 0.3691), ('wan', 0.3357), ('xdsl', 0.3251), ('dsl', 0.3144), ('multipoint', 0.3093), ('microarchitecture', 0.3012), ('fttp', 0.2418), ('incus', 0.2139)]}\n"
     ]
    }
   ],
   "source": [
    "for row in x.iterrows():\n",
    "    doc = row[1]['keywords']\n",
    "    keywords = model.extract_keywords(doc, keyphrase_ngram_range=(1, 1), stop_words='english', use_mmr=True, diversity=0.3, use_maxsum=True, top_n=10)\n",
    "    print({row[1]['name']: keywords})\n"
   ],
   "metadata": {
    "collapsed": false,
    "ExecuteTime": {
     "start_time": "2023-05-05T15:49:01.878058Z",
     "end_time": "2023-05-05T15:49:23.658189Z"
    }
   }
  }
 ],
 "metadata": {
  "kernelspec": {
   "display_name": "Python 3",
   "language": "python",
   "name": "python3"
  },
  "language_info": {
   "codemirror_mode": {
    "name": "ipython",
    "version": 2
   },
   "file_extension": ".py",
   "mimetype": "text/x-python",
   "name": "python",
   "nbconvert_exporter": "python",
   "pygments_lexer": "ipython2",
   "version": "2.7.6"
  }
 },
 "nbformat": 4,
 "nbformat_minor": 0
}
