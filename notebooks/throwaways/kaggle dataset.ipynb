{
 "cells": [
  {
   "cell_type": "code",
   "execution_count": 46,
   "metadata": {
    "collapsed": true,
    "ExecuteTime": {
     "start_time": "2023-05-05T11:32:39.986244Z",
     "end_time": "2023-05-05T11:32:40.001262Z"
    }
   },
   "outputs": [],
   "source": [
    "import pandas as pd"
   ]
  },
  {
   "cell_type": "code",
   "execution_count": 61,
   "outputs": [],
   "source": [
    "with open(r'C:\\Users\\imran\\DataspellProjects\\WalidCase\\data\\raw\\kaggle_crunchbase_dataset.csv', 'r', encoding='utf-8', errors='ignore') as f:\n",
    "    crunchbase = pd.read_csv(f)\n",
    "crunchbase.rename(columns={' market ': 'market'}, inplace=True)\n",
    "\n",
    "\n",
    "industries = pd.read_csv(r'C:\\Users\\imran\\DataspellProjects\\WalidCase\\data\\processed\\GPT4_generated_keywords.csv')\n",
    "\n",
    "tagged_startups = pd.read_csv(r'C:\\Users\\imran\\DataspellProjects\\WalidCase\\data\\tagged\\tagged_with_sentence_transformer.csv')\n",
    "tagged_startups.rename(columns={'industry1': 'industry1_v1'}, inplace=True)\n",
    "\n",
    "updated_kws = pd.read_csv(r'C:\\Users\\imran\\DataspellProjects\\WalidCase\\data\\tagged/full_dataset_updated_kws_v1.csv')\n",
    "updated_kws.rename(columns={'industry1': 'industry1_v2'}, inplace=True)\n",
    "updated_kws.rename(columns={'industry2': 'industry2_v2'}, inplace=True)\n",
    "updated_kws.rename(columns={'industry3': 'industry3_v2'}, inplace=True)\n",
    "\n",
    "short_desc = pd.read_csv(r'C:\\Users\\imran\\DataspellProjects\\WalidCase\\data\\crunchbase_vs_predictions/short_desc_minilml6v2_100rows.csv')\n",
    "short_desc.rename(columns={'industry1': 'industry1_v3'}, inplace=True)\n",
    "short_desc.rename(columns={'industry2': 'industry2_v3'}, inplace=True)\n",
    "short_desc.rename(columns={'industry3': 'industry3_v3'}, inplace=True)\n",
    "\n",
    "#full_model_kw = pd.read_csv(r'C:\\Users\\imran\\DataspellProjects\\WalidCase\\data\\processed\\full_model_kw.csv')\n",
    "\n"
   ],
   "metadata": {
    "collapsed": false,
    "ExecuteTime": {
     "start_time": "2023-05-05T12:56:54.241830Z",
     "end_time": "2023-05-05T12:56:54.771732Z"
    }
   }
  },
  {
   "cell_type": "code",
   "execution_count": 62,
   "outputs": [],
   "source": [
    "#tagged_startups = tagged_startups[['name', 'industry1', 'industry2', 'industry3']].copy()\n",
    "#tagged_startups = tagged_startups[['name', 'industry1_v1']].copy()\n",
    "crunchbase = crunchbase[['name', 'market']].copy()\n",
    "updated_kws = updated_kws[['name', 'industry1_v2', 'industry2_v2', 'industry3_v2']].copy()\n",
    "short_desc = short_desc[['name', 'industry1_v3', 'industry2_v3', 'industry3_v3']].copy()"
   ],
   "metadata": {
    "collapsed": false,
    "ExecuteTime": {
     "start_time": "2023-05-05T12:57:04.047205Z",
     "end_time": "2023-05-05T12:57:04.066181Z"
    }
   }
  },
  {
   "cell_type": "code",
   "execution_count": 63,
   "outputs": [
    {
     "data": {
      "text/plain": "           name              market industry1_v3 industry2_v3 industry3_v3  \\\n0       1stdibs         E-Commerce           NaN          NaN          NaN   \n1     24Symbols           Software           NaN          NaN          NaN   \n2     365Scores             Sports           NaN          NaN          NaN   \n3      7digital              Music           NaN          NaN          NaN   \n4       Abcodia      Biotechnology           NaN          NaN          NaN   \n..          ...                 ...          ...          ...          ...   \n438     Revolut   Customer Service           NaN          NaN          NaN   \n439      Rhytec                 NaN          NaN          NaN          NaN   \n440  RightScale    Cloud Computing           NaN          NaN          NaN   \n441   Riskclick           Software           NaN          NaN          NaN   \n442   Robinhood   Personal Finance           NaN          NaN          NaN   \n\n        industry1_v2      industry2_v2         industry3_v2  \n0         E-commerce           Fashion          Sales & CRM  \n1             Mobile            EdTech             Telecoms  \n2            Esports     Entertainment       Communications  \n3              Media          Telecoms  Data Infrastructure  \n4           Genomics     Life Sciences              RegTech  \n..               ...               ...                  ...  \n438         Payments              DeFi              FinTech  \n439           Beauty  Circular Economy                 DeFi  \n440  Cloud Computing         Cloud Ops          Sales & CRM  \n441      Sales & CRM         InsurTech            LegalTech  \n442        InsurTech            Crypto                 DeFi  \n\n[441 rows x 8 columns]",
      "text/html": "<div>\n<style scoped>\n    .dataframe tbody tr th:only-of-type {\n        vertical-align: middle;\n    }\n\n    .dataframe tbody tr th {\n        vertical-align: top;\n    }\n\n    .dataframe thead th {\n        text-align: right;\n    }\n</style>\n<table border=\"1\" class=\"dataframe\">\n  <thead>\n    <tr style=\"text-align: right;\">\n      <th></th>\n      <th>name</th>\n      <th>market</th>\n      <th>industry1_v3</th>\n      <th>industry2_v3</th>\n      <th>industry3_v3</th>\n      <th>industry1_v2</th>\n      <th>industry2_v2</th>\n      <th>industry3_v2</th>\n    </tr>\n  </thead>\n  <tbody>\n    <tr>\n      <th>0</th>\n      <td>1stdibs</td>\n      <td>E-Commerce</td>\n      <td>NaN</td>\n      <td>NaN</td>\n      <td>NaN</td>\n      <td>E-commerce</td>\n      <td>Fashion</td>\n      <td>Sales &amp; CRM</td>\n    </tr>\n    <tr>\n      <th>1</th>\n      <td>24Symbols</td>\n      <td>Software</td>\n      <td>NaN</td>\n      <td>NaN</td>\n      <td>NaN</td>\n      <td>Mobile</td>\n      <td>EdTech</td>\n      <td>Telecoms</td>\n    </tr>\n    <tr>\n      <th>2</th>\n      <td>365Scores</td>\n      <td>Sports</td>\n      <td>NaN</td>\n      <td>NaN</td>\n      <td>NaN</td>\n      <td>Esports</td>\n      <td>Entertainment</td>\n      <td>Communications</td>\n    </tr>\n    <tr>\n      <th>3</th>\n      <td>7digital</td>\n      <td>Music</td>\n      <td>NaN</td>\n      <td>NaN</td>\n      <td>NaN</td>\n      <td>Media</td>\n      <td>Telecoms</td>\n      <td>Data Infrastructure</td>\n    </tr>\n    <tr>\n      <th>4</th>\n      <td>Abcodia</td>\n      <td>Biotechnology</td>\n      <td>NaN</td>\n      <td>NaN</td>\n      <td>NaN</td>\n      <td>Genomics</td>\n      <td>Life Sciences</td>\n      <td>RegTech</td>\n    </tr>\n    <tr>\n      <th>...</th>\n      <td>...</td>\n      <td>...</td>\n      <td>...</td>\n      <td>...</td>\n      <td>...</td>\n      <td>...</td>\n      <td>...</td>\n      <td>...</td>\n    </tr>\n    <tr>\n      <th>438</th>\n      <td>Revolut</td>\n      <td>Customer Service</td>\n      <td>NaN</td>\n      <td>NaN</td>\n      <td>NaN</td>\n      <td>Payments</td>\n      <td>DeFi</td>\n      <td>FinTech</td>\n    </tr>\n    <tr>\n      <th>439</th>\n      <td>Rhytec</td>\n      <td>NaN</td>\n      <td>NaN</td>\n      <td>NaN</td>\n      <td>NaN</td>\n      <td>Beauty</td>\n      <td>Circular Economy</td>\n      <td>DeFi</td>\n    </tr>\n    <tr>\n      <th>440</th>\n      <td>RightScale</td>\n      <td>Cloud Computing</td>\n      <td>NaN</td>\n      <td>NaN</td>\n      <td>NaN</td>\n      <td>Cloud Computing</td>\n      <td>Cloud Ops</td>\n      <td>Sales &amp; CRM</td>\n    </tr>\n    <tr>\n      <th>441</th>\n      <td>Riskclick</td>\n      <td>Software</td>\n      <td>NaN</td>\n      <td>NaN</td>\n      <td>NaN</td>\n      <td>Sales &amp; CRM</td>\n      <td>InsurTech</td>\n      <td>LegalTech</td>\n    </tr>\n    <tr>\n      <th>442</th>\n      <td>Robinhood</td>\n      <td>Personal Finance</td>\n      <td>NaN</td>\n      <td>NaN</td>\n      <td>NaN</td>\n      <td>InsurTech</td>\n      <td>Crypto</td>\n      <td>DeFi</td>\n    </tr>\n  </tbody>\n</table>\n<p>441 rows × 8 columns</p>\n</div>"
     },
     "execution_count": 63,
     "metadata": {},
     "output_type": "execute_result"
    }
   ],
   "source": [
    "present_in_updated_kws = crunchbase[crunchbase['name'].isin(updated_kws['name'])]\n",
    "present_in_updated_kws = present_in_updated_kws.merge(updated_kws, on='name', how='left')\n",
    "present_in_updated_kws.drop_duplicates(subset=['name'], inplace=True)\n",
    "present_in_updated_kws.dropna(subset=['industry1_v2'], inplace=True)\n",
    "present_in_updated_kws"
   ],
   "metadata": {
    "collapsed": false,
    "ExecuteTime": {
     "start_time": "2023-05-05T12:57:55.956089Z",
     "end_time": "2023-05-05T12:57:56.005095Z"
    }
   }
  },
  {
   "cell_type": "code",
   "execution_count": 64,
   "outputs": [
    {
     "data": {
      "text/plain": "            name                  market            industry1_v3  \\\n0        21GRAMS               Software         Physical Storage   \n1     42Networks            Web Hosting                   Retail   \n2         46elks                 Mobile           Communications   \n3          4Tech          Biotechnology                Materials   \n4        Gemfire                     NaN             3D Printing   \n5        GodTube               Religion          Social Networks   \n6    Intellikine          Biotechnology           Gut Microbiome   \n7   InterResolve                     NaN               InsurTech   \n8          IOCOM               Software           Communications   \n9       Iterable   Marketing Automation          Creator Economy   \n10         Joost             Television   Network Infrastructure   \n11       Kabbage                Finance                  FinTech   \n12           NPS       Clean Technology                Materials   \n13           P2i         Nanotechnology                Materials   \n\n              industry2_v3            industry3_v3  \n0              Sales & CRM          Transportation  \n1                   AdTech  Network Infrastructure  \n2                      IoT             Health Tech  \n3              3D Printing           Manufacturing  \n4   Network Infrastructure          Semiconductors  \n5           Future of Work         Creator Economy  \n6             Psychedelics           Life Sciences  \n7                LegalTech              Automotive  \n8                   Design            Productivity  \n9                  MarTech         Sharing Economy  \n10         Creator Economy                Telecoms  \n11                    DeFi    Economic Empowerment  \n12               Longevity    Climate & Clean Tech  \n13                Security                 InfoSec  ",
      "text/html": "<div>\n<style scoped>\n    .dataframe tbody tr th:only-of-type {\n        vertical-align: middle;\n    }\n\n    .dataframe tbody tr th {\n        vertical-align: top;\n    }\n\n    .dataframe thead th {\n        text-align: right;\n    }\n</style>\n<table border=\"1\" class=\"dataframe\">\n  <thead>\n    <tr style=\"text-align: right;\">\n      <th></th>\n      <th>name</th>\n      <th>market</th>\n      <th>industry1_v3</th>\n      <th>industry2_v3</th>\n      <th>industry3_v3</th>\n    </tr>\n  </thead>\n  <tbody>\n    <tr>\n      <th>0</th>\n      <td>21GRAMS</td>\n      <td>Software</td>\n      <td>Physical Storage</td>\n      <td>Sales &amp; CRM</td>\n      <td>Transportation</td>\n    </tr>\n    <tr>\n      <th>1</th>\n      <td>42Networks</td>\n      <td>Web Hosting</td>\n      <td>Retail</td>\n      <td>AdTech</td>\n      <td>Network Infrastructure</td>\n    </tr>\n    <tr>\n      <th>2</th>\n      <td>46elks</td>\n      <td>Mobile</td>\n      <td>Communications</td>\n      <td>IoT</td>\n      <td>Health Tech</td>\n    </tr>\n    <tr>\n      <th>3</th>\n      <td>4Tech</td>\n      <td>Biotechnology</td>\n      <td>Materials</td>\n      <td>3D Printing</td>\n      <td>Manufacturing</td>\n    </tr>\n    <tr>\n      <th>4</th>\n      <td>Gemfire</td>\n      <td>NaN</td>\n      <td>3D Printing</td>\n      <td>Network Infrastructure</td>\n      <td>Semiconductors</td>\n    </tr>\n    <tr>\n      <th>5</th>\n      <td>GodTube</td>\n      <td>Religion</td>\n      <td>Social Networks</td>\n      <td>Future of Work</td>\n      <td>Creator Economy</td>\n    </tr>\n    <tr>\n      <th>6</th>\n      <td>Intellikine</td>\n      <td>Biotechnology</td>\n      <td>Gut Microbiome</td>\n      <td>Psychedelics</td>\n      <td>Life Sciences</td>\n    </tr>\n    <tr>\n      <th>7</th>\n      <td>InterResolve</td>\n      <td>NaN</td>\n      <td>InsurTech</td>\n      <td>LegalTech</td>\n      <td>Automotive</td>\n    </tr>\n    <tr>\n      <th>8</th>\n      <td>IOCOM</td>\n      <td>Software</td>\n      <td>Communications</td>\n      <td>Design</td>\n      <td>Productivity</td>\n    </tr>\n    <tr>\n      <th>9</th>\n      <td>Iterable</td>\n      <td>Marketing Automation</td>\n      <td>Creator Economy</td>\n      <td>MarTech</td>\n      <td>Sharing Economy</td>\n    </tr>\n    <tr>\n      <th>10</th>\n      <td>Joost</td>\n      <td>Television</td>\n      <td>Network Infrastructure</td>\n      <td>Creator Economy</td>\n      <td>Telecoms</td>\n    </tr>\n    <tr>\n      <th>11</th>\n      <td>Kabbage</td>\n      <td>Finance</td>\n      <td>FinTech</td>\n      <td>DeFi</td>\n      <td>Economic Empowerment</td>\n    </tr>\n    <tr>\n      <th>12</th>\n      <td>NPS</td>\n      <td>Clean Technology</td>\n      <td>Materials</td>\n      <td>Longevity</td>\n      <td>Climate &amp; Clean Tech</td>\n    </tr>\n    <tr>\n      <th>13</th>\n      <td>P2i</td>\n      <td>Nanotechnology</td>\n      <td>Materials</td>\n      <td>Security</td>\n      <td>InfoSec</td>\n    </tr>\n  </tbody>\n</table>\n</div>"
     },
     "execution_count": 64,
     "metadata": {},
     "output_type": "execute_result"
    }
   ],
   "source": [
    "short_desc_merged = crunchbase[crunchbase['name'].isin(short_desc['name'])]\n",
    "short_desc_merged = short_desc_merged.merge(short_desc, on='name', how='left')\n",
    "short_desc_merged.drop_duplicates(subset=['name'], inplace=True)\n",
    "short_desc_merged"
   ],
   "metadata": {
    "collapsed": false,
    "ExecuteTime": {
     "start_time": "2023-05-05T12:59:21.467225Z",
     "end_time": "2023-05-05T12:59:21.473293Z"
    }
   }
  },
  {
   "cell_type": "code",
   "execution_count": 43,
   "outputs": [],
   "source": [
    "# keep the df without any na values"
   ],
   "metadata": {
    "collapsed": false,
    "ExecuteTime": {
     "start_time": "2023-05-04T18:38:44.873381Z",
     "end_time": "2023-05-04T18:38:44.905378Z"
    }
   }
  },
  {
   "cell_type": "code",
   "execution_count": 44,
   "outputs": [
    {
     "data": {
      "text/plain": "             name              market     industry industry_updated keywords\n90        1stdibs         E-Commerce       fashion       E-commerce      NaN\n124     24Symbols           Software        mobile           Mobile      NaN\n188     365Scores             Sports       esports          Esports      NaN\n385      7digital              Music     analytics            Media      NaN\n542       Abcodia      Biotechnology     longevity         Genomics      NaN\n...           ...                 ...          ...              ...      ...\n35810     Revolut   Customer Service       fintech         Payments      NaN\n35897      Rhytec                 NaN       beauty           Beauty      NaN\n35946  RightScale    Cloud Computing   sales & crm  Cloud Computing      NaN\n36018   Riskclick           Software     insurtech      Sales & CRM      NaN\n36107   Robinhood   Personal Finance    blockchain        InsurTech      NaN\n\n[443 rows x 5 columns]",
      "text/html": "<div>\n<style scoped>\n    .dataframe tbody tr th:only-of-type {\n        vertical-align: middle;\n    }\n\n    .dataframe tbody tr th {\n        vertical-align: top;\n    }\n\n    .dataframe thead th {\n        text-align: right;\n    }\n</style>\n<table border=\"1\" class=\"dataframe\">\n  <thead>\n    <tr style=\"text-align: right;\">\n      <th></th>\n      <th>name</th>\n      <th>market</th>\n      <th>industry</th>\n      <th>industry_updated</th>\n      <th>keywords</th>\n    </tr>\n  </thead>\n  <tbody>\n    <tr>\n      <th>90</th>\n      <td>1stdibs</td>\n      <td>E-Commerce</td>\n      <td>fashion</td>\n      <td>E-commerce</td>\n      <td>NaN</td>\n    </tr>\n    <tr>\n      <th>124</th>\n      <td>24Symbols</td>\n      <td>Software</td>\n      <td>mobile</td>\n      <td>Mobile</td>\n      <td>NaN</td>\n    </tr>\n    <tr>\n      <th>188</th>\n      <td>365Scores</td>\n      <td>Sports</td>\n      <td>esports</td>\n      <td>Esports</td>\n      <td>NaN</td>\n    </tr>\n    <tr>\n      <th>385</th>\n      <td>7digital</td>\n      <td>Music</td>\n      <td>analytics</td>\n      <td>Media</td>\n      <td>NaN</td>\n    </tr>\n    <tr>\n      <th>542</th>\n      <td>Abcodia</td>\n      <td>Biotechnology</td>\n      <td>longevity</td>\n      <td>Genomics</td>\n      <td>NaN</td>\n    </tr>\n    <tr>\n      <th>...</th>\n      <td>...</td>\n      <td>...</td>\n      <td>...</td>\n      <td>...</td>\n      <td>...</td>\n    </tr>\n    <tr>\n      <th>35810</th>\n      <td>Revolut</td>\n      <td>Customer Service</td>\n      <td>fintech</td>\n      <td>Payments</td>\n      <td>NaN</td>\n    </tr>\n    <tr>\n      <th>35897</th>\n      <td>Rhytec</td>\n      <td>NaN</td>\n      <td>beauty</td>\n      <td>Beauty</td>\n      <td>NaN</td>\n    </tr>\n    <tr>\n      <th>35946</th>\n      <td>RightScale</td>\n      <td>Cloud Computing</td>\n      <td>sales &amp; crm</td>\n      <td>Cloud Computing</td>\n      <td>NaN</td>\n    </tr>\n    <tr>\n      <th>36018</th>\n      <td>Riskclick</td>\n      <td>Software</td>\n      <td>insurtech</td>\n      <td>Sales &amp; CRM</td>\n      <td>NaN</td>\n    </tr>\n    <tr>\n      <th>36107</th>\n      <td>Robinhood</td>\n      <td>Personal Finance</td>\n      <td>blockchain</td>\n      <td>InsurTech</td>\n      <td>NaN</td>\n    </tr>\n  </tbody>\n</table>\n<p>443 rows × 5 columns</p>\n</div>"
     },
     "execution_count": 44,
     "metadata": {},
     "output_type": "execute_result"
    }
   ],
   "source": [],
   "metadata": {
    "collapsed": false,
    "ExecuteTime": {
     "start_time": "2023-05-04T18:38:46.446813Z",
     "end_time": "2023-05-04T18:38:46.462808Z"
    }
   }
  },
  {
   "cell_type": "code",
   "execution_count": 59,
   "outputs": [],
   "source": [
    "present_in_updated_kws.to_csv(r'C:\\Users\\imran\\DataspellProjects\\WalidCase\\data\\crunchbase_vs_predictions/temp.csv', index=False)"
   ],
   "metadata": {
    "collapsed": false,
    "ExecuteTime": {
     "start_time": "2023-05-05T11:39:14.561055Z",
     "end_time": "2023-05-05T11:39:14.573695Z"
    }
   }
  },
  {
   "cell_type": "markdown",
   "source": [
    "### Lets extract 40 top words from each industry\n"
   ],
   "metadata": {
    "collapsed": false
   }
  },
  {
   "cell_type": "code",
   "execution_count": 66,
   "outputs": [],
   "source": [
    "from tagging import Embedding"
   ],
   "metadata": {
    "collapsed": false,
    "ExecuteTime": {
     "start_time": "2023-05-05T13:20:03.980239Z",
     "end_time": "2023-05-05T13:20:08.696892Z"
    }
   }
  },
  {
   "cell_type": "code",
   "execution_count": 68,
   "outputs": [
    {
     "data": {
      "text/plain": " Software             891\n Biotechnology        759\n Mobile               386\n E-Commerce           365\n Curated Web          315\n                     ... \n Staffing Firms         1\n Low Bid Auctions       1\n 3D                     1\n Comics                 1\n Infrastructure         1\nName: market, Length: 561, dtype: int64"
     },
     "execution_count": 68,
     "metadata": {},
     "output_type": "execute_result"
    }
   ],
   "source": [
    "#import test set split\n",
    "from sklearn.model_selection import train_test_split\n",
    "\n",
    "\n",
    "train_set, test_set = train_test_split(crunchbase, test_size=0.2, random_state=42)\n",
    "\n",
    "train_set.market.value_counts()\n",
    "test_set.market.value_counts()\n",
    "\n",
    "\n",
    "\n"
   ],
   "metadata": {
    "collapsed": false,
    "ExecuteTime": {
     "start_time": "2023-05-05T13:23:06.695183Z",
     "end_time": "2023-05-05T13:23:06.716179Z"
    }
   }
  }
 ],
 "metadata": {
  "kernelspec": {
   "display_name": "Python 3",
   "language": "python",
   "name": "python3"
  },
  "language_info": {
   "codemirror_mode": {
    "name": "ipython",
    "version": 2
   },
   "file_extension": ".py",
   "mimetype": "text/x-python",
   "name": "python",
   "nbconvert_exporter": "python",
   "pygments_lexer": "ipython2",
   "version": "2.7.6"
  }
 },
 "nbformat": 4,
 "nbformat_minor": 0
}
